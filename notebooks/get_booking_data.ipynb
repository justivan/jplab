{
 "cells": [
  {
   "cell_type": "code",
   "execution_count": 1,
   "id": "816c4c0b-4fa8-4262-8a2f-472017f13ca0",
   "metadata": {},
   "outputs": [],
   "source": [
    "from datetime import date, datetime\n",
    "\n",
    "import pandas as pd\n",
    "import pytz\n",
    "from database import Database\n",
    "from sklearn.pipeline import Pipeline\n",
    "from sqlalchemy.dialects.postgresql import insert\n",
    "from ssrs import BookingData\n",
    "from transformers import BookingDataEncoder, BookingDataReadCsv\n",
    "\n",
    "local_tz = pytz.timezone(\"Asia/Dubai\")"
   ]
  },
  {
   "cell_type": "code",
   "execution_count": 2,
   "id": "065ea098-5dba-4b54-bb4c-b59912e04b81",
   "metadata": {},
   "outputs": [
    {
     "ename": "TypeError",
     "evalue": "date.today() takes no arguments (1 given)",
     "output_type": "error",
     "traceback": [
      "\u001b[0;31m---------------------------------------------------------------------------\u001b[0m",
      "\u001b[0;31mTypeError\u001b[0m                                 Traceback (most recent call last)",
      "Cell \u001b[0;32mIn[2], line 1\u001b[0m\n\u001b[0;32m----> 1\u001b[0m date_fr \u001b[38;5;241m=\u001b[39m \u001b[43mdate\u001b[49m\u001b[38;5;241;43m.\u001b[39;49m\u001b[43mtoday\u001b[49m\u001b[43m(\u001b[49m\u001b[43mlocal_tz\u001b[49m\u001b[43m)\u001b[49m\u001b[38;5;241m.\u001b[39mstrftime(\u001b[38;5;124m\"\u001b[39m\u001b[38;5;124m%\u001b[39m\u001b[38;5;124mm/\u001b[39m\u001b[38;5;132;01m%d\u001b[39;00m\u001b[38;5;124m/\u001b[39m\u001b[38;5;124m%\u001b[39m\u001b[38;5;124mY \u001b[39m\u001b[38;5;124m%\u001b[39m\u001b[38;5;124mH:\u001b[39m\u001b[38;5;124m%\u001b[39m\u001b[38;5;124mM:\u001b[39m\u001b[38;5;124m%\u001b[39m\u001b[38;5;124mS\u001b[39m\u001b[38;5;124m\"\u001b[39m)\n\u001b[1;32m      2\u001b[0m date_to \u001b[38;5;241m=\u001b[39m datetime\u001b[38;5;241m.\u001b[39mnow(local_tz)\u001b[38;5;241m.\u001b[39mstrftime(\u001b[38;5;124m\"\u001b[39m\u001b[38;5;124m%\u001b[39m\u001b[38;5;124mm/\u001b[39m\u001b[38;5;132;01m%d\u001b[39;00m\u001b[38;5;124m/\u001b[39m\u001b[38;5;124m%\u001b[39m\u001b[38;5;124mY \u001b[39m\u001b[38;5;124m%\u001b[39m\u001b[38;5;124mH:\u001b[39m\u001b[38;5;124m%\u001b[39m\u001b[38;5;124mM:\u001b[39m\u001b[38;5;124m%\u001b[39m\u001b[38;5;124mS\u001b[39m\u001b[38;5;124m\"\u001b[39m)\n",
      "\u001b[0;31mTypeError\u001b[0m: date.today() takes no arguments (1 given)"
     ]
    }
   ],
   "source": [
    "date_fr = date.today(local_tz).strftime(\"%m/%d/%Y %H:%M:%S\")\n",
    "date_to = datetime.now(local_tz).strftime(\"%m/%d/%Y %H:%M:%S\")"
   ]
  },
  {
   "cell_type": "code",
   "execution_count": null,
   "id": "5556c224-3a05-4588-97d2-e849f514e7bb",
   "metadata": {},
   "outputs": [],
   "source": [
    "db = Database()\n",
    "\n",
    "reservation = db.gwg_reservation"
   ]
  },
  {
   "cell_type": "code",
   "execution_count": null,
   "id": "7848f041-4af2-431d-9fb4-cbf605f001f4",
   "metadata": {},
   "outputs": [],
   "source": [
    "pipeline = Pipeline(\n",
    "    [\n",
    "        (\"csv_reader\", BookingDataReadCsv()),\n",
    "        (\"data_encoder\", BookingDataEncoder()),\n",
    "    ]\n",
    ")"
   ]
  },
  {
   "cell_type": "code",
   "execution_count": null,
   "id": "9253151b-1cd2-4c1f-a614-7a24c02bc285",
   "metadata": {},
   "outputs": [],
   "source": [
    "dfs = []\n",
    "\n",
    "for destination in [\"DU\", \"OM\"]:\n",
    "    booking_data = BookingData(destination, date_fr, date_to, 3).get()\n",
    "\n",
    "    df = pipeline.fit_transform(booking_data)\n",
    "    dfs.append(df)"
   ]
  },
  {
   "cell_type": "code",
   "execution_count": null,
   "id": "a967de8f-f77d-43f5-bbc3-2f1d602879ce",
   "metadata": {},
   "outputs": [],
   "source": [
    "records = pd.concat(dfs, axis=0, ignore_index=True)\n",
    "\n",
    "if records is not None and not records.empty:\n",
    "    chunk_size = 1000\n",
    "    for i in range(0, len(records), chunk_size):\n",
    "        chunk = records.iloc[i : i + chunk_size]\n",
    "\n",
    "        stmt = insert(reservation).values(chunk.to_dict(orient=\"records\"))\n",
    "        stmt = stmt.on_conflict_do_update(\n",
    "            constraint=\"gwg_reservation_pkey\", set_=dict(stmt.excluded)\n",
    "        )\n",
    "\n",
    "        with db.engine.begin() as connection:\n",
    "            connection.execute(stmt)"
   ]
  },
  {
   "cell_type": "code",
   "execution_count": null,
   "id": "d2217a6c-9041-4090-a9e4-e0f30787ae08",
   "metadata": {},
   "outputs": [],
   "source": []
  }
 ],
 "metadata": {
  "kernelspec": {
   "display_name": "Python 3 (ipykernel)",
   "language": "python",
   "name": "python3"
  },
  "language_info": {
   "codemirror_mode": {
    "name": "ipython",
    "version": 3
   },
   "file_extension": ".py",
   "mimetype": "text/x-python",
   "name": "python",
   "nbconvert_exporter": "python",
   "pygments_lexer": "ipython3",
   "version": "3.11.4"
  }
 },
 "nbformat": 4,
 "nbformat_minor": 5
}
