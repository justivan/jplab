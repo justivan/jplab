{
 "cells": [
  {
   "cell_type": "code",
   "execution_count": 1,
   "id": "816c4c0b-4fa8-4262-8a2f-472017f13ca0",
   "metadata": {},
   "outputs": [],
   "source": [
    "from datetime import date, datetime\n",
    "\n",
    "import pandas as pd\n",
    "import pytz\n",
    "from database import Database\n",
    "from sklearn.pipeline import Pipeline\n",
    "from sqlalchemy.dialects.postgresql import insert\n",
    "from ssrs import BookingData\n",
    "from transformers import BookingDataEncoder, BookingDataReadCsv\n",
    "\n",
    "local_tz = pytz.timezone(\"Asia/Dubai\")"
   ]
  },
  {
   "cell_type": "code",
   "execution_count": 2,
   "id": "065ea098-5dba-4b54-bb4c-b59912e04b81",
   "metadata": {},
   "outputs": [],
   "source": [
    "date_fr = date.today().strftime(\"%m/%d/%Y %H:%M:%S\")\n",
    "date_to = datetime.now(local_tz).strftime(\"%m/%d/%Y %H:%M:%S\")"
   ]
  },
  {
   "cell_type": "code",
   "execution_count": 3,
   "id": "025c28f1-f35e-491e-809c-1ad71dfee759",
   "metadata": {},
   "outputs": [
    {
     "data": {
      "text/plain": [
       "('04/19/2024 00:00:00', '04/19/2024 07:33:23')"
      ]
     },
     "execution_count": 3,
     "metadata": {},
     "output_type": "execute_result"
    }
   ],
   "source": [
    "date_fr, date_to"
   ]
  },
  {
   "cell_type": "code",
   "execution_count": 4,
   "id": "5556c224-3a05-4588-97d2-e849f514e7bb",
   "metadata": {},
   "outputs": [
    {
     "name": "stderr",
     "output_type": "stream",
     "text": [
      "/home/jovyan/work/database.py:34: SAWarning: Did not recognize type 'geometry' of column 'geom'\n",
      "  Table(\n"
     ]
    }
   ],
   "source": [
    "db = Database()\n",
    "\n",
    "reservation = db.gwg_reservation"
   ]
  },
  {
   "cell_type": "code",
   "execution_count": 5,
   "id": "7848f041-4af2-431d-9fb4-cbf605f001f4",
   "metadata": {},
   "outputs": [],
   "source": [
    "pipeline = Pipeline(\n",
    "    [\n",
    "        (\"csv_reader\", BookingDataReadCsv()),\n",
    "        (\"data_encoder\", BookingDataEncoder()),\n",
    "    ]\n",
    ")"
   ]
  },
  {
   "cell_type": "code",
   "execution_count": 6,
   "id": "9253151b-1cd2-4c1f-a614-7a24c02bc285",
   "metadata": {},
   "outputs": [],
   "source": [
    "dfs = []\n",
    "\n",
    "for destination in [\"DU\", \"OM\"]:\n",
    "    booking_data = BookingData(destination, date_fr, date_to, 3).get()\n",
    "\n",
    "    df = pipeline.fit_transform(booking_data)\n",
    "    dfs.append(df)"
   ]
  },
  {
   "cell_type": "code",
   "execution_count": 7,
   "id": "a967de8f-f77d-43f5-bbc3-2f1d602879ce",
   "metadata": {},
   "outputs": [],
   "source": [
    "records = pd.concat(dfs, axis=0, ignore_index=True)\n",
    "\n",
    "if records is not None and not records.empty:\n",
    "    chunk_size = 1000\n",
    "    for i in range(0, len(records), chunk_size):\n",
    "        chunk = records.iloc[i : i + chunk_size]\n",
    "\n",
    "        stmt = insert(reservation).values(chunk.to_dict(orient=\"records\"))\n",
    "        stmt = stmt.on_conflict_do_update(\n",
    "            constraint=\"gwg_reservation_pkey\", set_=dict(stmt.excluded)\n",
    "        )\n",
    "\n",
    "        with db.engine.begin() as connection:\n",
    "            connection.execute(stmt)"
   ]
  },
  {
   "cell_type": "code",
   "execution_count": null,
   "id": "d2217a6c-9041-4090-a9e4-e0f30787ae08",
   "metadata": {},
   "outputs": [],
   "source": []
  }
 ],
 "metadata": {
  "kernelspec": {
   "display_name": "Python 3 (ipykernel)",
   "language": "python",
   "name": "python3"
  },
  "language_info": {
   "codemirror_mode": {
    "name": "ipython",
    "version": 3
   },
   "file_extension": ".py",
   "mimetype": "text/x-python",
   "name": "python",
   "nbconvert_exporter": "python",
   "pygments_lexer": "ipython3",
   "version": "3.11.4"
  }
 },
 "nbformat": 4,
 "nbformat_minor": 5
}
