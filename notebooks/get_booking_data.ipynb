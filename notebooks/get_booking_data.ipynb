{
 "cells": [
  {
   "cell_type": "code",
   "execution_count": 1,
   "id": "816c4c0b-4fa8-4262-8a2f-472017f13ca0",
   "metadata": {},
   "outputs": [],
   "source": [
    "from datetime import datetime\n",
    "\n",
    "import pytz\n",
    "from database import Database\n",
    "from sklearn.pipeline import Pipeline\n",
    "from sqlalchemy.dialects.postgresql import insert\n",
    "from ssrs import BookingData\n",
    "from transformers import BookingDataEncoder, BookingDataReadCsv\n",
    "\n",
    "local_tz = pytz.timezone(\"Asia/Dubai\")"
   ]
  },
  {
   "cell_type": "code",
   "execution_count": 2,
   "id": "065ea098-5dba-4b54-bb4c-b59912e04b81",
   "metadata": {},
   "outputs": [],
   "source": [
    "date_fr = (\n",
    "    datetime.now().replace(hour=0, minute=0, second=0).strftime(\"%m/%d/%Y %H:%M:%S\")\n",
    ")\n",
    "date_to = datetime.now(local_tz).strftime(\"%m/%d/%Y %H:%M:%S\")"
   ]
  },
  {
   "cell_type": "code",
   "execution_count": 3,
   "id": "5556c224-3a05-4588-97d2-e849f514e7bb",
   "metadata": {},
   "outputs": [
    {
     "name": "stderr",
     "output_type": "stream",
     "text": [
      "/home/jovyan/work/database.py:12: SAWarning: Did not recognize type 'geometry' of column 'geom'\n",
      "  self.mapping_hotel = Table(\n"
     ]
    }
   ],
   "source": [
    "db = Database()\n",
    "\n",
    "get_hotel_mapping = db.get_hotel_mapping_as_df()\n",
    "get_room_mapping = db.get_room_mapping_as_df()\n",
    "get_meal_mapping = db.get_meal_mapping_as_df()\n",
    "get_operator_mapping = db.get_operator_mapping_as_df()\n",
    "reservation = db.reservations_booking\n",
    "\n",
    "hotel_mapping = dict(\n",
    "    zip(get_hotel_mapping[\"external_code\"], get_hotel_mapping[\"hotel_id\"])\n",
    ")\n",
    "room_mapping = dict(\n",
    "    zip(\n",
    "        get_room_mapping.apply(lambda x: (x[\"external_code\"], x[\"hotel_id\"]), axis=1),\n",
    "        get_room_mapping[\"id\"],\n",
    "    )\n",
    ")\n",
    "meal_mapping = dict(zip(get_meal_mapping[\"code\"], get_meal_mapping[\"id\"]))\n",
    "\n",
    "operator_mapping = dict(\n",
    "    zip(get_operator_mapping[\"external_code\"], get_operator_mapping[\"operator_id\"])\n",
    ")"
   ]
  },
  {
   "cell_type": "code",
   "execution_count": 4,
   "id": "7848f041-4af2-431d-9fb4-cbf605f001f4",
   "metadata": {},
   "outputs": [],
   "source": [
    "pipeline = Pipeline(\n",
    "    [\n",
    "        (\"csv_reader\", BookingDataReadCsv()),\n",
    "        #(\n",
    "        #    \"data_encoder\",\n",
    "        #    BookingDataEncoder(\n",
    "        #        hotel_mapping,\n",
    "        #        room_mapping,\n",
    "        #        meal_mapping,\n",
    "        #        operator_mapping,\n",
    "        #    ),\n",
    "        #),\n",
    "    ]\n",
    ")"
   ]
  },
  {
   "cell_type": "code",
   "execution_count": 5,
   "id": "9253151b-1cd2-4c1f-a614-7a24c02bc285",
   "metadata": {},
   "outputs": [],
   "source": [
    "dfs = []\n",
    "\n",
    "for destination in [\"DU\", \"OM\"]:\n",
    "    booking_data = BookingData(destination, date_fr, date_to, 3)\n",
    "    get_bookings = booking_data.get()\n",
    "\n",
    "    df = pipeline.fit_transform(get_bookings)\n",
    "\n",
    "    if df is not None:\n",
    "        dfs.append(df)\n",
    "        #stmt = insert(reservation).values(df.to_dict(orient=\"records\"))\n",
    "        #stmt = stmt.on_conflict_do_update(\n",
    "        #    constraint=\"reservations_booking_pkey\", set_=dict(stmt.excluded)\n",
    "        #)\n",
    "\n",
    "        #with db.engine.begin() as connection:\n",
    "        #    connection.execute(stmt)"
   ]
  },
  {
   "cell_type": "code",
   "execution_count": 7,
   "id": "7aaea220-6d38-4461-b7ed-2ba0e1921ab2",
   "metadata": {},
   "outputs": [],
   "source": [
    "import pandas as pd\n",
    "\n",
    "bookings = pd.concat(dfs, axis=0, ignore_index=True)\n",
    "bookings.to_csv(\"bookings.csv\", index=False)"
   ]
  },
  {
   "cell_type": "code",
   "execution_count": null,
   "id": "143654a0-8216-4454-9dd3-4741288cc6e5",
   "metadata": {},
   "outputs": [],
   "source": []
  }
 ],
 "metadata": {
  "kernelspec": {
   "display_name": "Python 3 (ipykernel)",
   "language": "python",
   "name": "python3"
  },
  "language_info": {
   "codemirror_mode": {
    "name": "ipython",
    "version": 3
   },
   "file_extension": ".py",
   "mimetype": "text/x-python",
   "name": "python",
   "nbconvert_exporter": "python",
   "pygments_lexer": "ipython3",
   "version": "3.11.4"
  }
 },
 "nbformat": 4,
 "nbformat_minor": 5
}
