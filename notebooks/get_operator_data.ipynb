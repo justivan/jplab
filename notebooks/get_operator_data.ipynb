{
 "cells": [
  {
   "cell_type": "code",
   "execution_count": 1,
   "id": "2cd255a0-0685-47af-bae6-0bd6bab73af5",
   "metadata": {},
   "outputs": [],
   "source": [
    "import logging\n",
    "import urllib\n",
    "from pathlib import Path\n",
    "\n",
    "import requests\n",
    "from config import Config\n",
    "from requests_ntlm import HttpNtlmAuth"
   ]
  },
  {
   "cell_type": "code",
   "execution_count": 4,
   "id": "7dcae12c-767e-49a1-87cd-5e9ef95efdfe",
   "metadata": {},
   "outputs": [],
   "source": [
    "class OperatorData:\n",
    "    def __init__(self):\n",
    "        self.ssrs_url = Config.SSRS_BASE_URL + \"MPI Reports/Master Operator Data\"\n",
    "        self.ssrs_usr = Config.SSRS_USERNAME\n",
    "        self.ssrs_pwd = Config.SSRS_PASSWORD\n",
    "        self.payload = [\n",
    "            (\"rs:Command\", \"Render\"),\n",
    "            (\"rs:Format\", \"CSV\"),\n",
    "            (\"rc:ItemPath\", \"table1\"),\n",
    "        ]\n",
    "\n",
    "        self.params = urllib.parse.urlencode(self.payload, quote_via=urllib.parse.quote)\n",
    "\n",
    "    def get(self):\n",
    "        response = requests.get(\n",
    "            self.ssrs_url,\n",
    "            params=self.params,\n",
    "            stream=True,\n",
    "            auth=HttpNtlmAuth(self.ssrs_usr, self.ssrs_pwd),\n",
    "        )\n",
    "        \n",
    "        if response.status_code == 200:\n",
    "            data = response.content.decode(\"utf8\")\n",
    "            return data\n",
    "        return None"
   ]
  },
  {
   "cell_type": "code",
   "execution_count": 5,
   "id": "6c7336e2-7724-48c7-be67-f71802ed46ba",
   "metadata": {},
   "outputs": [
    {
     "name": "stdout",
     "output_type": "stream",
     "text": [
      "http://95.211.42.206/ReportServer_SSRS?/MPI%20Reports/Master%20Operator%20Data&rs%3ACommand=Render&rs%3AFormat=CSV&rc%3AItemPath=table1\n"
     ]
    }
   ],
   "source": [
    "operators = OperatorData().get()"
   ]
  },
  {
   "cell_type": "code",
   "execution_count": 6,
   "id": "a54a9c65-cdad-44a1-9f37-f601f8e0eb61",
   "metadata": {},
   "outputs": [],
   "source": [
    "import pandas as pd\n",
    "import io\n",
    "\n",
    "operator_df = pd.read_csv(io.StringIO(operators))"
   ]
  },
  {
   "cell_type": "code",
   "execution_count": 7,
   "id": "da4cccd4-fff3-47d6-9396-e29222804b32",
   "metadata": {},
   "outputs": [
    {
     "data": {
      "text/html": [
       "<div>\n",
       "<style scoped>\n",
       "    .dataframe tbody tr th:only-of-type {\n",
       "        vertical-align: middle;\n",
       "    }\n",
       "\n",
       "    .dataframe tbody tr th {\n",
       "        vertical-align: top;\n",
       "    }\n",
       "\n",
       "    .dataframe thead th {\n",
       "        text-align: right;\n",
       "    }\n",
       "</style>\n",
       "<table border=\"1\" class=\"dataframe\">\n",
       "  <thead>\n",
       "    <tr style=\"text-align: right;\">\n",
       "      <th></th>\n",
       "      <th>OperatorID</th>\n",
       "      <th>ShortName</th>\n",
       "      <th>OperatorName</th>\n",
       "      <th>Currency</th>\n",
       "      <th>OperatorCode</th>\n",
       "      <th>Nationality</th>\n",
       "      <th>FirmName</th>\n",
       "    </tr>\n",
       "  </thead>\n",
       "  <tbody>\n",
       "    <tr>\n",
       "      <th>0</th>\n",
       "      <td>1</td>\n",
       "      <td>MPCLM</td>\n",
       "      <td>Meeting Point City, Lakes and Mountains GmbH</td>\n",
       "      <td>EUR</td>\n",
       "      <td>MP_CLM</td>\n",
       "      <td>DE</td>\n",
       "      <td>Meeting Point City Lakes and Mnts GmbH</td>\n",
       "    </tr>\n",
       "    <tr>\n",
       "      <th>1</th>\n",
       "      <td>2</td>\n",
       "      <td>MPUAE</td>\n",
       "      <td>Meeting Point Emirates</td>\n",
       "      <td>AED</td>\n",
       "      <td>MP_UA</td>\n",
       "      <td>AE</td>\n",
       "      <td>Meeting Point Emirates</td>\n",
       "    </tr>\n",
       "    <tr>\n",
       "      <th>2</th>\n",
       "      <td>3</td>\n",
       "      <td>MPLE</td>\n",
       "      <td>Meeting Point Lebanon SARL</td>\n",
       "      <td>NOK</td>\n",
       "      <td>MP_LE</td>\n",
       "      <td>NaN</td>\n",
       "      <td>Meeting Point Lebanon SARL</td>\n",
       "    </tr>\n",
       "    <tr>\n",
       "      <th>3</th>\n",
       "      <td>4</td>\n",
       "      <td>MPA</td>\n",
       "      <td>MEETING POINT ASIA</td>\n",
       "      <td>THB</td>\n",
       "      <td>MP_AS</td>\n",
       "      <td>TH</td>\n",
       "      <td>Meeting Point Asia</td>\n",
       "    </tr>\n",
       "    <tr>\n",
       "      <th>4</th>\n",
       "      <td>5</td>\n",
       "      <td>MPM</td>\n",
       "      <td>Meeting Point Malta Ltd.</td>\n",
       "      <td>EUR</td>\n",
       "      <td>MP_MT</td>\n",
       "      <td>MT</td>\n",
       "      <td>Meeting Point Malta Ltd</td>\n",
       "    </tr>\n",
       "  </tbody>\n",
       "</table>\n",
       "</div>"
      ],
      "text/plain": [
       "   OperatorID ShortName                                  OperatorName  \\\n",
       "0           1     MPCLM  Meeting Point City, Lakes and Mountains GmbH   \n",
       "1           2     MPUAE                        Meeting Point Emirates   \n",
       "2           3      MPLE                    Meeting Point Lebanon SARL   \n",
       "3           4       MPA                            MEETING POINT ASIA   \n",
       "4           5       MPM                      Meeting Point Malta Ltd.   \n",
       "\n",
       "  Currency OperatorCode Nationality                                FirmName  \n",
       "0      EUR       MP_CLM          DE  Meeting Point City Lakes and Mnts GmbH  \n",
       "1      AED        MP_UA          AE                  Meeting Point Emirates  \n",
       "2      NOK        MP_LE         NaN              Meeting Point Lebanon SARL  \n",
       "3      THB        MP_AS          TH                      Meeting Point Asia  \n",
       "4      EUR        MP_MT          MT                 Meeting Point Malta Ltd  "
      ]
     },
     "execution_count": 7,
     "metadata": {},
     "output_type": "execute_result"
    }
   ],
   "source": [
    "operator_df.head()"
   ]
  },
  {
   "cell_type": "code",
   "execution_count": 8,
   "id": "41f42018-fc98-4234-8a00-559d52ee4bca",
   "metadata": {},
   "outputs": [],
   "source": [
    "operator_df.to_csv(\"operators.csv\", index=False)"
   ]
  },
  {
   "cell_type": "code",
   "execution_count": null,
   "id": "3965af13-652a-422c-b34c-d30e83be7592",
   "metadata": {},
   "outputs": [],
   "source": []
  }
 ],
 "metadata": {
  "kernelspec": {
   "display_name": "Python 3 (ipykernel)",
   "language": "python",
   "name": "python3"
  },
  "language_info": {
   "codemirror_mode": {
    "name": "ipython",
    "version": 3
   },
   "file_extension": ".py",
   "mimetype": "text/x-python",
   "name": "python",
   "nbconvert_exporter": "python",
   "pygments_lexer": "ipython3",
   "version": "3.11.4"
  }
 },
 "nbformat": 4,
 "nbformat_minor": 5
}
