{
 "cells": [
  {
   "cell_type": "code",
   "execution_count": null,
   "id": "30445aff-2c61-4e77-be38-0168b448a6e0",
   "metadata": {},
   "outputs": [],
   "source": [
    "from database import Database\n",
    "from sklearn.pipeline import Pipeline\n",
    "from ssrs import BookingData\n",
    "from transformers import BookingDataEncoder, BookingDataReadCsv"
   ]
  },
  {
   "cell_type": "code",
   "execution_count": null,
   "id": "74518f39-ca68-4967-a932-94d3f8256889",
   "metadata": {},
   "outputs": [],
   "source": [
    "db = Database()\n",
    "\n",
    "get_hotel_mapping = db.get_hotel_mapping_as_df()\n",
    "get_room_mapping = db.get_room_mapping_as_df()\n",
    "get_meal_mapping = db.get_meal_mapping_as_df()\n",
    "get_operator_mapping = db.get_operator_mapping_as_df()\n",
    "reservation = db.reservations_booking\n",
    "\n",
    "hotel_mapping = dict(\n",
    "    zip(get_hotel_mapping[\"external_code\"], get_hotel_mapping[\"hotel_id\"])\n",
    ")\n",
    "room_mapping = dict(\n",
    "    zip(\n",
    "        get_room_mapping.apply(lambda x: (x[\"external_code\"], x[\"hotel_id\"]), axis=1),\n",
    "        get_room_mapping[\"id\"],\n",
    "    )\n",
    ")\n",
    "meal_mapping = dict(zip(get_meal_mapping[\"code\"], get_meal_mapping[\"id\"]))\n",
    "\n",
    "operator_mapping = dict(\n",
    "    zip(get_operator_mapping[\"external_code\"], get_operator_mapping[\"operator_id\"])\n",
    ")"
   ]
  },
  {
   "cell_type": "code",
   "execution_count": null,
   "id": "ec712ae6-2d2c-4c5f-b425-7bbaba7531e2",
   "metadata": {},
   "outputs": [],
   "source": [
    "date_fr = \"11/01/2022\"\n",
    "date_to = \"10/31/2024\""
   ]
  },
  {
   "cell_type": "code",
   "execution_count": null,
   "id": "5d89dba8-e92c-46eb-8dc7-076aa9afa6a5",
   "metadata": {},
   "outputs": [],
   "source": [
    "date_fr, date_to"
   ]
  },
  {
   "cell_type": "code",
   "execution_count": null,
   "id": "ac0ae65a-30e2-41d8-b343-35179d796899",
   "metadata": {},
   "outputs": [],
   "source": [
    "pipeline = Pipeline(\n",
    "    [\n",
    "        (\"csv_reader\", BookingDataReadCsv()),\n",
    "        (\n",
    "            \"data_encoder\",\n",
    "            BookingDataEncoder(\n",
    "                hotel_mapping,\n",
    "                room_mapping,\n",
    "                meal_mapping,\n",
    "                operator_mapping,\n",
    "            ),\n",
    "        ),\n",
    "    ]\n",
    ")"
   ]
  },
  {
   "cell_type": "code",
   "execution_count": null,
   "id": "77ef5790-68cd-48ea-b56a-16ab41778260",
   "metadata": {},
   "outputs": [],
   "source": [
    "dfs = []\n",
    "\n",
    "for destination in [\"DU\", \"OM\"]:\n",
    "    booking_data = BookingData(destination, date_fr, date_to, 2)\n",
    "    get_bookings = booking_data.get()\n",
    "\n",
    "    if get_bookings is not None:\n",
    "        df = pipeline.fit_transform(get_bookings)\n",
    "\n",
    "    dfs.append(df)"
   ]
  },
  {
   "cell_type": "code",
   "execution_count": null,
   "id": "b0581542-fa3e-4479-a818-c16b9b6681ff",
   "metadata": {},
   "outputs": [],
   "source": [
    "bookings = pd.concat(dfs, axis=0, ignore_index=True)\n",
    "bookings.to_csv(\"bookings.csv\", index=False)"
   ]
  },
  {
   "cell_type": "code",
   "execution_count": null,
   "id": "27c17229-495a-459c-a7a4-ae71dd237eb7",
   "metadata": {},
   "outputs": [],
   "source": [
    "import pandas as pd"
   ]
  },
  {
   "cell_type": "code",
   "execution_count": null,
   "id": "511c6466-2056-42fe-b02c-597dc06b7285",
   "metadata": {},
   "outputs": [],
   "source": [
    "bookings.isna().sum()"
   ]
  },
  {
   "cell_type": "code",
   "execution_count": null,
   "id": "8e2a1926-b177-4b58-80a9-052cca7f64ec",
   "metadata": {},
   "outputs": [],
   "source": []
  }
 ],
 "metadata": {
  "kernelspec": {
   "display_name": "Python 3 (ipykernel)",
   "language": "python",
   "name": "python3"
  },
  "language_info": {
   "codemirror_mode": {
    "name": "ipython",
    "version": 3
   },
   "file_extension": ".py",
   "mimetype": "text/x-python",
   "name": "python",
   "nbconvert_exporter": "python",
   "pygments_lexer": "ipython3",
   "version": "3.11.4"
  }
 },
 "nbformat": 4,
 "nbformat_minor": 5
}
