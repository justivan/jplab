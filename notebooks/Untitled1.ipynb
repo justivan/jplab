{
 "cells": [
  {
   "cell_type": "code",
   "execution_count": 1,
   "id": "37051ebc-33c6-43e4-b023-d328f7ea6697",
   "metadata": {},
   "outputs": [],
   "source": [
    "import io\n",
    "from datetime import date, datetime\n",
    "from ftplib import FTP\n",
    "\n",
    "import pandas as pd\n",
    "from config import Config"
   ]
  },
  {
   "cell_type": "code",
   "execution_count": 2,
   "id": "d3f0cf02-6773-442a-8b87-14730fc51978",
   "metadata": {},
   "outputs": [],
   "source": [
    "ftp_server = Config.FTP_SERVER\n",
    "ftp_username = Config.FTP_USERNAME\n",
    "ftp_password = Config.FTP_PASSWORD\n",
    "current_date = date.today().strftime(\"%Y_%m_%d\")"
   ]
  },
  {
   "cell_type": "code",
   "execution_count": 3,
   "id": "ed627da7-c26c-4fc6-8294-447bd1220a38",
   "metadata": {},
   "outputs": [
    {
     "data": {
      "text/plain": [
       "'250 CWD command successful.'"
      ]
     },
     "execution_count": 3,
     "metadata": {},
     "output_type": "execute_result"
    }
   ],
   "source": [
    "ftp = FTP(ftp_server)\n",
    "ftp.login(ftp_username, ftp_password)\n",
    "ftp.cwd(\"group_report/\")"
   ]
  },
  {
   "cell_type": "code",
   "execution_count": 4,
   "id": "43bfcbda-a700-4355-a8f5-28bd6b74b3c8",
   "metadata": {},
   "outputs": [],
   "source": [
    "csv_files = [x for x in ftp.nlst() if (\"UAE\" in x or \"OM\" in x) and current_date in x]"
   ]
  },
  {
   "cell_type": "code",
   "execution_count": 5,
   "id": "4cee328e-7426-48f7-82b3-4704044bf5d3",
   "metadata": {},
   "outputs": [
    {
     "data": {
      "text/plain": [
       "['OM_Marginreport_GWG_2023_12_29_080013.csv',\n",
       " 'OM_Marginreport_GWG_BLANK_2023_12_29_080013.csv',\n",
       " 'UAE_Marginreport_GWG_2023_12_29_080013.csv',\n",
       " 'UAE_Marginreport_GWG_BLANK_2023_12_29_080013.csv',\n",
       " 'YT_OM_Marginreport_GWG_2023_12_29_080302.csv',\n",
       " 'YT_UAE_Marginreport_GWG_2023_12_29_055010.csv']"
      ]
     },
     "execution_count": 5,
     "metadata": {},
     "output_type": "execute_result"
    }
   ],
   "source": [
    "csv_files"
   ]
  },
  {
   "cell_type": "code",
   "execution_count": 6,
   "id": "66695740-2331-4c47-8ed8-34a2023ad72e",
   "metadata": {},
   "outputs": [],
   "source": [
    "if csv_files:\n",
    "    df_set = []\n",
    "    for csv in csv_files:\n",
    "        cols = [0, 1, 3] if csv.startswith(\"YT\") else [0, 1, 5]\n",
    "        data = io.BytesIO()\n",
    "        data.seek(0)\n",
    "        ftp.retrbinary(\"RETR \" + csv, data.write)\n",
    "        data.seek(0)\n",
    "        df = pd.read_csv(\n",
    "            data,\n",
    "            sep=\";\",\n",
    "            usecols=cols,\n",
    "            header=None,\n",
    "            names=[\"bkg_ref\", \"operator_code\", \"operator_price\"],\n",
    "            thousands=\",\",\n",
    "            dtype={\"bkg_ref\": str, \"operator_code\": str, \"operator_price\": float},\n",
    "        )\n",
    "\n",
    "        df.dropna(inplace=True)\n",
    "        df_set.append(df)\n",
    "\n",
    "    operator_cost = pd.concat(df_set, axis=0, ignore_index=True)"
   ]
  },
  {
   "cell_type": "code",
   "execution_count": 7,
   "id": "cd60bf9d-b1ce-4293-96dd-e626a153454c",
   "metadata": {},
   "outputs": [],
   "source": [
    "operator_cost.to_csv(\"operator_cost.csv\", index=False)"
   ]
  },
  {
   "cell_type": "code",
   "execution_count": null,
   "id": "2aab9eeb-c58b-4763-b1e3-77ba6a20085c",
   "metadata": {},
   "outputs": [],
   "source": []
  }
 ],
 "metadata": {
  "kernelspec": {
   "display_name": "Python 3 (ipykernel)",
   "language": "python",
   "name": "python3"
  },
  "language_info": {
   "codemirror_mode": {
    "name": "ipython",
    "version": 3
   },
   "file_extension": ".py",
   "mimetype": "text/x-python",
   "name": "python",
   "nbconvert_exporter": "python",
   "pygments_lexer": "ipython3",
   "version": "3.11.4"
  }
 },
 "nbformat": 4,
 "nbformat_minor": 5
}
