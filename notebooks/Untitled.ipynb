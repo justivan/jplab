{
 "cells": [
  {
   "cell_type": "code",
   "execution_count": 1,
   "id": "f0f1e7ae-8183-48bb-a479-53deb7e4872c",
   "metadata": {},
   "outputs": [],
   "source": [
    "import numpy as np\n",
    "import pandas as pd\n",
    "from database import Database"
   ]
  },
  {
   "cell_type": "code",
   "execution_count": 2,
   "id": "a5f61caa-dcb6-4107-8fe9-ab654b0d8b09",
   "metadata": {},
   "outputs": [
    {
     "name": "stderr",
     "output_type": "stream",
     "text": [
      "/home/jovyan/work/database.py:12: SAWarning: Did not recognize type 'geometry' of column 'geom'\n",
      "  self.mapping_hotel = Table(\n"
     ]
    }
   ],
   "source": [
    "bookings = pd.read_csv(\"bookings.csv\")\n",
    "\n",
    "db = Database()\n",
    "\n",
    "get_hotel_mapping = db.get_hotel_mapping_as_df()\n",
    "get_room_mapping = db.get_room_mapping_as_df()\n",
    "get_meal_mapping = db.get_meal_mapping_as_df()\n",
    "get_operator_mapping = db.get_operator_mapping_as_df()\n",
    "\n",
    "hotel_mapping = dict(\n",
    "    zip(get_hotel_mapping[\"external_code\"], get_hotel_mapping[\"hotel_id\"])\n",
    ")\n",
    "room_mapping = dict(\n",
    "    zip(\n",
    "        get_room_mapping.apply(lambda x: (x[\"external_code\"], x[\"hotel_id\"]), axis=1),\n",
    "        get_room_mapping[\"id\"],\n",
    "    )\n",
    ")\n",
    "meal_mapping = dict(zip(get_meal_mapping[\"code\"], get_meal_mapping[\"id\"]))\n",
    "\n",
    "operator_mapping = dict(\n",
    "    zip(get_operator_mapping[\"external_code\"], get_operator_mapping[\"operator_id\"])\n",
    ")"
   ]
  },
  {
   "cell_type": "code",
   "execution_count": 3,
   "id": "fe764000-140c-42f0-a4de-148625b72ca1",
   "metadata": {},
   "outputs": [],
   "source": [
    "# Operator Code\n",
    "\n",
    "bookings[\"operator_code\"] = (\n",
    "    bookings[\"operator_code\"].fillna(bookings[\"hotel_id\"]).apply(str)\n",
    ")"
   ]
  },
  {
   "cell_type": "code",
   "execution_count": 4,
   "id": "a8487f58-6086-470c-bc69-f0476f37eee0",
   "metadata": {},
   "outputs": [],
   "source": [
    "# Text Case\n",
    "\n",
    "for col in [\"guest_name\", \"room_code\", \"meal\"]:\n",
    "    bookings[col] = bookings[col].str.upper()\n",
    "\n",
    "for col in [\"status\", \"status4\", \"status5\"]:\n",
    "    bookings[col] = bookings[col].str.capitalize()"
   ]
  },
  {
   "cell_type": "code",
   "execution_count": 5,
   "id": "502dabb2-ff99-45f3-9c94-358e5b4dc06e",
   "metadata": {},
   "outputs": [],
   "source": [
    "# Cancellation Date\n",
    "\n",
    "# Convert \"1900-01-01\" to pd.NA\n",
    "bookings[\"cancellation_date\"] = bookings[\"cancellation_date\"].replace(\n",
    "    \"1900-01-01\", pd.NA\n",
    ")\n",
    "\n",
    "# Fill missing values with \"last_modified_date\" where \"status\" is \"Can\"\n",
    "bookings.loc[\n",
    "    bookings[\"cancellation_date\"].isna() & (bookings[\"status\"] == \"Can\"),\n",
    "    \"cancellation_date\",\n",
    "] = bookings[\"last_modified_date\"]\n",
    "\n",
    "# Set non-matching \"status\" values to pd.NA\n",
    "bookings.loc[\n",
    "    ~bookings[\"cancellation_date\"].isna() & (bookings[\"status\"] != \"Can\"),\n",
    "    \"cancellation_date\",\n",
    "] = pd.NA\n",
    "\n",
    "# Update Status\n",
    "bookings[\"status\"] = bookings[\"status\"].apply(lambda x: x if x == \"Can\" else \"Ok\")"
   ]
  },
  {
   "cell_type": "code",
   "execution_count": 6,
   "id": "e12b1199-c3d7-4d1c-8b22-4930c1cad074",
   "metadata": {},
   "outputs": [],
   "source": [
    "# Price Info\n",
    "\n",
    "bookings.loc[bookings[\"purchase_price\"] < 1, \"purchase_price\"] = 0\n",
    "bookings.loc[bookings[\"sales_price\"] < 1, \"sales_price\"] = 0"
   ]
  },
  {
   "cell_type": "code",
   "execution_count": 7,
   "id": "47bd4c26-ea68-4911-aa67-22bbe917cb02",
   "metadata": {},
   "outputs": [],
   "source": [
    "# Fill the rest of blank fields with 0 if numerical\n",
    "\n",
    "bookings = bookings.apply(lambda x: x.fillna(0) if x.dtype.kind in \"biufc\" else x)"
   ]
  },
  {
   "cell_type": "code",
   "execution_count": 8,
   "id": "2d993853-040d-4137-887d-fef1c2193694",
   "metadata": {},
   "outputs": [],
   "source": [
    "# Hotel ID\n",
    "bookings[\"external_code_hotel\"] = bookings[\"hotel_id\"]\n",
    "bookings[\"hotel_id\"] = pd.to_numeric(\n",
    "    bookings[\"external_code_hotel\"].map(hotel_mapping), errors=\"coerce\"\n",
    ")\n",
    "bookings[\"hotel_id\"] = bookings[\"hotel_id\"].astype(\"Int64\")"
   ]
  },
  {
   "cell_type": "code",
   "execution_count": 9,
   "id": "5774e7bc-4681-4ccf-b9dd-03c80d2f0beb",
   "metadata": {},
   "outputs": [],
   "source": [
    "# Room ID\n",
    "bookings[\"external_code_room\"] = bookings[\"room_code\"]\n",
    "bookings[\"room_id\"] = bookings.apply(\n",
    "    lambda x: room_mapping.get(\n",
    "        (\n",
    "            x[\"external_code_room\"],\n",
    "            x[\"hotel_id\"],\n",
    "        )\n",
    "    ),\n",
    "    axis=1,\n",
    ")\n",
    "bookings[\"room_id\"] = pd.to_numeric(bookings[\"room_id\"], errors=\"coerce\").astype(\n",
    "    \"Int64\"\n",
    ")"
   ]
  },
  {
   "cell_type": "code",
   "execution_count": 10,
   "id": "45b51037-0977-40fa-919f-22c76b74aff3",
   "metadata": {},
   "outputs": [],
   "source": [
    "# Meal ID\n",
    "bookings[\"external_code_meal\"] = bookings[\"meal\"]\n",
    "bookings[\"meal_id\"] = bookings[\"external_code_meal\"].map(meal_mapping)\n",
    "bookings[\"meal_id\"] = pd.to_numeric(bookings[\"meal_id\"], errors=\"coerce\").astype(\n",
    "    \"Int64\"\n",
    ")"
   ]
  },
  {
   "cell_type": "code",
   "execution_count": 11,
   "id": "65a2d547-a577-4c9a-9380-b36324405887",
   "metadata": {},
   "outputs": [],
   "source": [
    "# Operator ID\n",
    "bookings[\"external_code_operator\"] = bookings[\"operator_id\"]\n",
    "bookings[\"operator_id\"] = bookings[\"external_code_operator\"].map(operator_mapping)\n",
    "bookings[\"operator_id\"] = pd.to_numeric(\n",
    "    bookings[\"operator_id\"], errors=\"coerce\"\n",
    ").astype(\"Int64\")"
   ]
  },
  {
   "cell_type": "code",
   "execution_count": 12,
   "id": "68ad62fe-d6b8-412f-b568-ada1c44a729b",
   "metadata": {},
   "outputs": [],
   "source": [
    "# Fill the rest of blank fields with None for database insertion\n",
    "\n",
    "bookings.replace({pd.NaT: None, pd.NA: None, np.NaN: None}, inplace=True)"
   ]
  },
  {
   "cell_type": "code",
   "execution_count": 13,
   "id": "0ae8d044-8a27-468b-acd6-2e9f02625b04",
   "metadata": {},
   "outputs": [],
   "source": [
    "# Drop fields\n",
    "bookings.drop(\n",
    "    [\n",
    "        \"room_type\",\n",
    "        \"room_code\",\n",
    "        \"meal\",\n",
    "        \"main_season\",\n",
    "    ],\n",
    "    axis=1,\n",
    "    inplace=True,\n",
    ")"
   ]
  },
  {
   "cell_type": "code",
   "execution_count": 14,
   "id": "52418afb-8d1e-426c-96cc-8d4cc55fdafd",
   "metadata": {},
   "outputs": [],
   "source": [
    "bookings.to_csv(\"output.csv\")"
   ]
  },
  {
   "cell_type": "code",
   "execution_count": null,
   "id": "cbd6a8be-8743-449d-8907-6784e1e97059",
   "metadata": {},
   "outputs": [],
   "source": []
  }
 ],
 "metadata": {
  "kernelspec": {
   "display_name": "Python 3 (ipykernel)",
   "language": "python",
   "name": "python3"
  },
  "language_info": {
   "codemirror_mode": {
    "name": "ipython",
    "version": 3
   },
   "file_extension": ".py",
   "mimetype": "text/x-python",
   "name": "python",
   "nbconvert_exporter": "python",
   "pygments_lexer": "ipython3",
   "version": "3.11.4"
  }
 },
 "nbformat": 4,
 "nbformat_minor": 5
}
