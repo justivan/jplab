{
 "cells": [
  {
   "cell_type": "code",
   "execution_count": 1,
   "id": "74202b77-e75d-40fc-8ad6-e4c705830c0d",
   "metadata": {},
   "outputs": [],
   "source": [
    "import logging\n",
    "import urllib\n",
    "from pathlib import Path\n",
    "\n",
    "import requests\n",
    "from config import Config\n",
    "from requests_ntlm import HttpNtlmAuth"
   ]
  },
  {
   "cell_type": "code",
   "execution_count": 2,
   "id": "6de564e1-9978-4ecc-8948-b09785a07d7c",
   "metadata": {},
   "outputs": [],
   "source": [
    "base_dir = Path(\".\").resolve()"
   ]
  },
  {
   "cell_type": "code",
   "execution_count": 3,
   "id": "cb07b0d1-11ce-44b4-b3e6-535531cb941f",
   "metadata": {},
   "outputs": [],
   "source": [
    "class BookingData:\n",
    "    \"\"\"\n",
    "    Represents booking data for generating SSRS reports.\n",
    "\n",
    "    Parameters:\n",
    "        - destination (str): The destination for the booking data.\n",
    "        - date_from (str): The start date for the specified option.\n",
    "        - date_to (str): The end date for the specified option.\n",
    "        - option (int): The option to choose the type of date.\n",
    "\n",
    "    Options:\n",
    "        - 1: Arrival date\n",
    "        - 2: In-house date\n",
    "        - 3: Max processed date\n",
    "\n",
    "    Usage:\n",
    "        Specify the destination, date range, and option to create a BookingData instance.\n",
    "    \"\"\"\n",
    "\n",
    "    def __init__(self, destination, date_from, date_to, option):\n",
    "        \"\"\"\n",
    "        Initialize a BookingData instance.\n",
    "\n",
    "        Args:\n",
    "            destination (str): The destination for the booking data.\n",
    "            date_from (str): The start date for the specified option.\n",
    "            date_to (str): The end date for the specified option.\n",
    "            option (int): The option to choose the type of date.\n",
    "\n",
    "        Raises:\n",
    "            ValueError: If the option is not between 1 and 3.\n",
    "        \"\"\"\n",
    "        self.ssrs_url = (\n",
    "            Config.SSRS_BASE_URL + destination + \" Reports/Reservations/Bookings Data\"\n",
    "        )\n",
    "        self.ssrs_usr = Config.SSRS_USERNAME\n",
    "        self.ssrs_pwd = Config.SSRS_PASSWORD\n",
    "\n",
    "        if option == 1:\n",
    "            self.payload = [\n",
    "                (\"from\", date_from),\n",
    "                (\"to\", date_to),\n",
    "            ]\n",
    "        elif option == 2:\n",
    "            self.payload = [\n",
    "                (\"d1\", date_from),\n",
    "                (\"d2\", date_to),\n",
    "            ]\n",
    "        elif option == 3:\n",
    "            self.payload = [\n",
    "                (\"MaxProcessDate_from\", date_from),\n",
    "                (\"MaxProcessDate_to\", date_to),\n",
    "            ]\n",
    "        else:\n",
    "            raise ValueError(\"Option should be between 1 and 3.\")\n",
    "\n",
    "        self.payload.extend(\n",
    "            [\n",
    "                (\"ReportParameter1\", True),\n",
    "                (\"RefIDs:isnull\", True),\n",
    "                (\"rs:ParameterLanguage\", \"\"),\n",
    "                (\"rs:Command\", \"Render\"),\n",
    "                (\"rs:Format\", \"CSV\"),\n",
    "                (\"rc:ItemPath\", \"table1\"),\n",
    "            ]\n",
    "        )\n",
    "\n",
    "        self.params = urllib.parse.urlencode(self.payload, quote_via=urllib.parse.quote)\n",
    "\n",
    "    def get(self):\n",
    "        \"\"\"\n",
    "        Retrieve booking data from the SSRS server.\n",
    "\n",
    "        Returns:\n",
    "            str or None: The booking data as a string if available, or None if there's no new data.\n",
    "\n",
    "        Raises:\n",
    "            requests.exceptions.HTTPError: If an HTTP error occurs during the request.\n",
    "            requests.exceptions.RequestException: If a general request error occurs.\n",
    "        \"\"\"\n",
    "        logging.basicConfig(\n",
    "            filename=base_dir / \"logs\" / \"get_booking_data.log\",\n",
    "            level=logging.WARNING,\n",
    "            format=\"%(asctime)s - %(levelname)s: %(message)s\",\n",
    "            datefmt=\"%Y-%m-%d %H:%M:%S\",\n",
    "        )\n",
    "\n",
    "        try:\n",
    "            response = requests.get(\n",
    "                self.ssrs_url,\n",
    "                params=self.params,\n",
    "                stream=True,\n",
    "                auth=HttpNtlmAuth(self.ssrs_usr, self.ssrs_pwd),\n",
    "            )\n",
    "\n",
    "            response.raise_for_status()\n",
    "\n",
    "            data = response.content.decode(\"utf8\")\n",
    "\n",
    "            if len(data) > 424:\n",
    "                return data\n",
    "            else:\n",
    "                logging.warning(\n",
    "                    f\"No new data available for: {self.ssrs_url.split('?')[1]}\"\n",
    "                )\n",
    "        except requests.exceptions.HTTPError as e:\n",
    "            logging.error(f\"HTTP error occurred: {str(e)}\")\n",
    "            logging.exception(\"Full traceback:\")\n",
    "            raise  # re-raise the exception for the caller to handle if needed\n",
    "        except requests.exceptions.RequestException as e:\n",
    "            logging.error(f\"An error occurred while making the request: {str(e)}\")\n",
    "            logging.exception(\"Full traceback:\")\n",
    "            raise  # re-raise the exception for the caller to handle if needed\n",
    "\n",
    "        return None"
   ]
  },
  {
   "cell_type": "code",
   "execution_count": 4,
   "id": "07d7828a-2962-414a-bdf8-0b5280f3a64c",
   "metadata": {},
   "outputs": [],
   "source": [
    "import io\n",
    "\n",
    "import pandas as pd\n",
    "from sklearn.pipeline import Pipeline\n",
    "from transformers import BookingDataReadCsv"
   ]
  },
  {
   "cell_type": "code",
   "execution_count": 5,
   "id": "cc6d8ada-06fe-482b-a5ae-994290668ad2",
   "metadata": {},
   "outputs": [],
   "source": [
    "pipeline = Pipeline(\n",
    "    [\n",
    "        (\"csv_reader\", BookingDataReadCsv()),\n",
    "    ]\n",
    ")"
   ]
  },
  {
   "cell_type": "code",
   "execution_count": 6,
   "id": "0464b08f-2117-417f-91da-76fb8d67742a",
   "metadata": {},
   "outputs": [
    {
     "ename": "NameError",
     "evalue": "name 'df' is not defined",
     "output_type": "error",
     "traceback": [
      "\u001b[0;31m---------------------------------------------------------------------------\u001b[0m",
      "\u001b[0;31mNameError\u001b[0m                                 Traceback (most recent call last)",
      "Cell \u001b[0;32mIn[6], line 12\u001b[0m\n\u001b[1;32m      9\u001b[0m \u001b[38;5;28;01mif\u001b[39;00m get_bookings \u001b[38;5;129;01mis\u001b[39;00m \u001b[38;5;129;01mnot\u001b[39;00m \u001b[38;5;28;01mNone\u001b[39;00m:\n\u001b[1;32m     10\u001b[0m     df \u001b[38;5;241m=\u001b[39m pipeline\u001b[38;5;241m.\u001b[39mfit_transform(get_bookings)\n\u001b[0;32m---> 12\u001b[0m dfs\u001b[38;5;241m.\u001b[39mappend(\u001b[43mdf\u001b[49m)\n",
      "\u001b[0;31mNameError\u001b[0m: name 'df' is not defined"
     ]
    }
   ],
   "source": [
    "dfs = []\n",
    "\n",
    "for destination in [\"DU\", \"OM\"]:\n",
    "    booking_data = BookingData(\n",
    "        destination, \"11/01/2023 00:00:00\", \"11/01/2023 00:00:00\", 3\n",
    "    )\n",
    "    get_bookings = booking_data.get()\n",
    "\n",
    "    if get_bookings is not None:\n",
    "        df = pipeline.fit_transform(get_bookings)\n",
    "\n",
    "    dfs.append(df)"
   ]
  },
  {
   "cell_type": "code",
   "execution_count": null,
   "id": "1d85449d-3153-4752-9683-a113895c31ca",
   "metadata": {},
   "outputs": [],
   "source": [
    "bookings = pd.concat(dfs, axis=0, ignore_index=True)"
   ]
  },
  {
   "cell_type": "code",
   "execution_count": null,
   "id": "a5fd61a7-4d28-4161-9e99-97ecb20e763e",
   "metadata": {},
   "outputs": [],
   "source": [
    "bookings.to_csv(base_dir / \"bookings.csv\", index=False)"
   ]
  },
  {
   "cell_type": "code",
   "execution_count": null,
   "id": "9bbe1457-b07e-43b5-8ab6-ed91b4ddff67",
   "metadata": {},
   "outputs": [],
   "source": []
  }
 ],
 "metadata": {
  "kernelspec": {
   "display_name": "Python 3 (ipykernel)",
   "language": "python",
   "name": "python3"
  },
  "language_info": {
   "codemirror_mode": {
    "name": "ipython",
    "version": 3
   },
   "file_extension": ".py",
   "mimetype": "text/x-python",
   "name": "python",
   "nbconvert_exporter": "python",
   "pygments_lexer": "ipython3",
   "version": "3.11.4"
  }
 },
 "nbformat": 4,
 "nbformat_minor": 5
}
