{
 "cells": [
  {
   "cell_type": "code",
   "execution_count": 1,
   "id": "e0f2a191-22f0-4674-a4cb-379c7955107a",
   "metadata": {},
   "outputs": [],
   "source": [
    "from datetime import datetime, timedelta\n",
    "\n",
    "import pandas as pd\n",
    "import pytz\n",
    "from database import Database\n",
    "from sklearn.pipeline import Pipeline\n",
    "from sqlalchemy import func, select\n",
    "from sqlalchemy.dialects.postgresql import insert\n",
    "from ssrs import BookingData\n",
    "from transformers import BookingDataEncoder, BookingDataReadCsv\n",
    "\n",
    "local_tz = pytz.timezone(\"Asia/Dubai\")"
   ]
  },
  {
   "cell_type": "code",
   "execution_count": 2,
   "id": "5a4a023e-a4cd-4e1f-bf49-f47849567910",
   "metadata": {},
   "outputs": [
    {
     "name": "stderr",
     "output_type": "stream",
     "text": [
      "/home/jovyan/work/database.py:34: SAWarning: Did not recognize type 'geometry' of column 'geom'\n",
      "  Table(\n"
     ]
    }
   ],
   "source": [
    "db = Database()\n",
    "\n",
    "reservation = db.gwg_reservation"
   ]
  },
  {
   "cell_type": "code",
   "execution_count": 3,
   "id": "0abe2b0b-b42a-4554-aa42-0f1e58aecac2",
   "metadata": {},
   "outputs": [],
   "source": [
    "date_fr = datetime.now(local_tz) - timedelta(days=30)"
   ]
  },
  {
   "cell_type": "code",
   "execution_count": 4,
   "id": "d689664e-bc1c-43ec-afd6-1aa377ad4e76",
   "metadata": {},
   "outputs": [],
   "source": [
    "reservation_data = pd.read_sql(\n",
    "    sql=select(reservation).where(\n",
    "        func.date(db.gwg_reservation.c.in_date) >= date_fr.date()\n",
    "    ),\n",
    "    con=db.engine.connect(),\n",
    ")"
   ]
  },
  {
   "cell_type": "code",
   "execution_count": 5,
   "id": "c2ea4c02-61f9-462d-b158-8916a009ecd6",
   "metadata": {},
   "outputs": [
    {
     "name": "stdout",
     "output_type": "stream",
     "text": [
      "2024-01-22 00:19:35.432765+04:00 2025-04-24\n"
     ]
    }
   ],
   "source": [
    "date_to = reservation_data[\"in_date\"].max()\n",
    "print(date_fr, date_to)"
   ]
  },
  {
   "cell_type": "code",
   "execution_count": 6,
   "id": "68f72389-f434-4fc5-8a97-a95283e36a9f",
   "metadata": {},
   "outputs": [],
   "source": [
    "pipeline = Pipeline(\n",
    "    [\n",
    "        (\"csv_reader\", BookingDataReadCsv()),\n",
    "        (\"data_encoder\", BookingDataEncoder()),\n",
    "    ]\n",
    ")"
   ]
  },
  {
   "cell_type": "code",
   "execution_count": 7,
   "id": "45c4d957-a436-415d-be91-10fdca06c48d",
   "metadata": {},
   "outputs": [],
   "source": [
    "dfs = []\n",
    "\n",
    "for destination in [\"DU\", \"OM\"]:\n",
    "    booking_data = BookingData(destination, date_fr, date_to, 1).get()\n",
    "\n",
    "    df = pipeline.fit_transform(booking_data)\n",
    "    dfs.append(df)"
   ]
  },
  {
   "cell_type": "code",
   "execution_count": 8,
   "id": "10564670-acaa-41a3-a2f5-59d41ac6a618",
   "metadata": {},
   "outputs": [],
   "source": [
    "gwg_data = pd.concat(dfs, axis=0, ignore_index=True)"
   ]
  },
  {
   "cell_type": "code",
   "execution_count": 9,
   "id": "d1ac26f6-1ea9-4989-b3d8-60547215d0b4",
   "metadata": {},
   "outputs": [
    {
     "data": {
      "text/plain": [
       "(52595, 36)"
      ]
     },
     "execution_count": 9,
     "metadata": {},
     "output_type": "execute_result"
    }
   ],
   "source": [
    "reservation_data.shape"
   ]
  },
  {
   "cell_type": "code",
   "execution_count": 10,
   "id": "64b2e222-72cb-4e0a-b866-2e94bf285570",
   "metadata": {},
   "outputs": [
    {
     "data": {
      "text/plain": [
       "(52595, 36)"
      ]
     },
     "execution_count": 10,
     "metadata": {},
     "output_type": "execute_result"
    }
   ],
   "source": [
    "gwg_data.shape"
   ]
  },
  {
   "cell_type": "code",
   "execution_count": 11,
   "id": "7ba8f2e8-2cd5-47b0-92ca-180d87f0f0fe",
   "metadata": {},
   "outputs": [],
   "source": [
    "rows_not_in_gwg = reservation_data[~reservation_data[\"ref_id\"].isin(gwg_data[\"ref_id\"])]\n",
    "rows_not_in_gwg.empty"
   ]
  },
  {
   "cell_type": "code",
   "execution_count": 17,
   "id": "4cd83e3c-969a-4a55-b2fd-6edbb5436e6c",
   "metadata": {},
   "outputs": [
    {
     "data": {
      "text/plain": [
       "True"
      ]
     },
     "execution_count": 17,
     "metadata": {},
     "output_type": "execute_result"
    }
   ],
   "source": [
    "rows_not_in_db = gwg_data[~gwg_data[\"ref_id\"].isin(reservation_data[\"ref_id\"])]\n",
    "rows_not_in_db.empty"
   ]
  }
 ],
 "metadata": {
  "kernelspec": {
   "display_name": "Python 3 (ipykernel)",
   "language": "python",
   "name": "python3"
  },
  "language_info": {
   "codemirror_mode": {
    "name": "ipython",
    "version": 3
   },
   "file_extension": ".py",
   "mimetype": "text/x-python",
   "name": "python",
   "nbconvert_exporter": "python",
   "pygments_lexer": "ipython3",
   "version": "3.11.4"
  }
 },
 "nbformat": 4,
 "nbformat_minor": 5
}
