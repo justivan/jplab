{
 "cells": [
  {
   "cell_type": "code",
   "execution_count": 2,
   "id": "73a250ba-818e-4577-ae0a-20c5858354da",
   "metadata": {},
   "outputs": [],
   "source": [
    "import pandas as pd\n",
    "from config import Config\n",
    "from sqlalchemy import MetaData, Table, and_, create_engine, or_, select\n",
    "from sqlalchemy.orm import Session"
   ]
  },
  {
   "cell_type": "code",
   "execution_count": 2,
   "id": "fa3a1ba5-88bd-42a2-85c3-6387afec8049",
   "metadata": {},
   "outputs": [],
   "source": [
    "class Database:\n",
    "    TABLES = [\n",
    "        \"mapping_hotel\",\n",
    "        \"mapping_hotel_room\",\n",
    "        \"mapping_operator\",\n",
    "        \"clients_operator\",\n",
    "        \"accommodation_hotel_room\",\n",
    "        \"accommodation_hotel\",\n",
    "        \"accommodation_purchase_manager\",\n",
    "        \"definitions_meal_plan\",\n",
    "        \"gwg_reservation\",\n",
    "        \"users_user\",\n",
    "    ]\n",
    "\n",
    "    def __init__(self):\n",
    "        self.engine = create_engine(Config.DATABASE_URI)\n",
    "        self.metadata = MetaData()\n",
    "\n",
    "        self.load_tables()\n",
    "\n",
    "    def load_tables(self):\n",
    "        for table_name in self.TABLES:\n",
    "            setattr(\n",
    "                self,\n",
    "                table_name,\n",
    "                Table(\n",
    "                    table_name,\n",
    "                    self.metadata,\n",
    "                    autoload_with=self.engine,\n",
    "                ),\n",
    "            )\n",
    "\n",
    "    def get_hotel_mapping_as_df(self):\n",
    "        return pd.read_sql(sql=select(self.mapping_hotel), con=self.engine.connect())\n",
    "\n",
    "    def get_room_mapping_as_df(self):\n",
    "        return pd.read_sql(\n",
    "            sql=select(\n",
    "                self.accommodation_hotel_room.c.id,\n",
    "                self.accommodation_hotel_room.c.hotel_id,\n",
    "                self.accommodation_hotel_room.c.name,\n",
    "                self.mapping_hotel_room.c.external_code,\n",
    "                self.mapping_hotel_room.c.external_name,\n",
    "            ).join_from(self.mapping_hotel_room, self.accommodation_hotel_room),\n",
    "            con=self.engine.connect(),\n",
    "        )\n",
    "\n",
    "    def get_meal_mapping_as_df(self):\n",
    "        return pd.read_sql(\n",
    "            sql=select(self.definitions_meal_plan), con=self.engine.connect()\n",
    "        )\n",
    "\n",
    "    def get_operator_mapping_as_df(self):\n",
    "        return pd.read_sql(sql=select(self.mapping_operator), con=self.engine.connect())\n",
    "\n",
    "    # def to_mapping_dict(self, df, key, value):\n",
    "    #     if isinstance(key, str):\n",
    "    #         return dict(zip(df[key], df[value]))\n",
    "    #     else:\n",
    "    #         key_tuples = df[key].apply(tuple, axis=1)\n",
    "    #         return dict(zip(key_tuples, df[value]))"
   ]
  },
  {
   "cell_type": "code",
   "execution_count": 3,
   "id": "2bace024-33cd-40bc-8c7f-e13c79e34765",
   "metadata": {},
   "outputs": [
    {
     "name": "stderr",
     "output_type": "stream",
     "text": [
      "/tmp/ipykernel_292233/53574259.py:22: SAWarning: Did not recognize type 'geometry' of column 'geom'\n",
      "  Table(\n"
     ]
    }
   ],
   "source": [
    "db = Database()\n",
    "\n",
    "hotel_mapping = db.to_mapping_dict(\n",
    "    db.get_hotel_mapping_as_df(), \"external_code\", \"hotel_id\"\n",
    ")\n",
    "\n",
    "room_mapping = db.to_mapping_dict(\n",
    "    db.get_room_mapping_as_df(), [\"external_code\", \"hotel_id\"], \"id\"\n",
    ")\n",
    "meal_mapping = db.to_mapping_dict(db.get_meal_mapping_as_df(), \"code\", \"id\")\n",
    "operator_mapping = db.to_mapping_dict(\n",
    "    db.get_operator_mapping_as_df(), \"external_code\", \"operator_id\"\n",
    ")"
   ]
  }
 ],
 "metadata": {
  "kernelspec": {
   "display_name": "Python 3 (ipykernel)",
   "language": "python",
   "name": "python3"
  },
  "language_info": {
   "codemirror_mode": {
    "name": "ipython",
    "version": 3
   },
   "file_extension": ".py",
   "mimetype": "text/x-python",
   "name": "python",
   "nbconvert_exporter": "python",
   "pygments_lexer": "ipython3",
   "version": "3.11.4"
  }
 },
 "nbformat": 4,
 "nbformat_minor": 5
}
