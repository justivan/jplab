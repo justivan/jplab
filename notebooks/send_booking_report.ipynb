{
 "cells": [
  {
   "cell_type": "code",
   "execution_count": 6,
   "id": "4e671296-8d56-468e-a527-6bdba99b9b00",
   "metadata": {},
   "outputs": [
    {
     "name": "stderr",
     "output_type": "stream",
     "text": [
      "/home/jovyan/work/database.py:34: SAWarning: Did not recognize type 'geometry' of column 'geom'\n",
      "  Table(\n"
     ]
    }
   ],
   "source": [
    "from datetime import date, datetime, timedelta\n",
    "\n",
    "import pandas as pd\n",
    "from database import Database\n",
    "from email_sender import EmailSender\n",
    "from excel_writer import ExcelWriter\n",
    "from sqlalchemy import func, select\n",
    "from sqlalchemy.orm import aliased\n",
    "\n",
    "db = Database()"
   ]
  },
  {
   "cell_type": "code",
   "execution_count": 2,
   "id": "6d67760a-e2e0-4287-ac5c-9c22fc8f2b9c",
   "metadata": {},
   "outputs": [],
   "source": [
    "select_bookings = (\n",
    "    select(\n",
    "        db.gwg_reservation.c.status,\n",
    "        db.users_user.c.name.label(\"purchase_manager\"),\n",
    "        db.clients_operator.c.short_name.label(\"operator_name\"),\n",
    "        db.gwg_reservation.c.ref_id,\n",
    "        db.gwg_reservation.c.res_id,\n",
    "        db.gwg_reservation.c.bkg_ref,\n",
    "        db.mapping_hotel.c.external_name.label(\"hotel_name\"),\n",
    "        db.gwg_reservation.c.guest_name,\n",
    "        db.gwg_reservation.c.sales_date,\n",
    "        db.gwg_reservation.c.in_date,\n",
    "        db.gwg_reservation.c.out_date,\n",
    "        db.gwg_reservation.c.room_type,\n",
    "        db.gwg_reservation.c.meal,\n",
    "        db.gwg_reservation.c.adult,\n",
    "        db.gwg_reservation.c.child,\n",
    "        db.gwg_reservation.c.days,\n",
    "        db.gwg_reservation.c.create_date,\n",
    "    )\n",
    "    .outerjoin(\n",
    "        db.mapping_hotel,\n",
    "        db.gwg_reservation.c.hotel_id == db.mapping_hotel.c.external_code,\n",
    "    )\n",
    "    .outerjoin(\n",
    "        db.mapping_operator,\n",
    "        db.gwg_reservation.c.operator_id == db.mapping_operator.c.external_code,\n",
    "    )\n",
    "    .outerjoin(db.accommodation_hotel)\n",
    "    .outerjoin(db.accommodation_purchase_manager)\n",
    "    .outerjoin(db.users_user)\n",
    "    .outerjoin(db.definitions_area)\n",
    "    .outerjoin(db.definitions_region)\n",
    "    .outerjoin(db.clients_operator)\n",
    "    .where(\n",
    "        # db.definitions_region.c.country_code == \"AE\",\n",
    "        db.clients_operator.c.category == \"IC\",\n",
    "        db.mapping_operator.c.external_code != 1107,\n",
    "    )\n",
    "    .order_by(\n",
    "        db.mapping_hotel.c.external_name,\n",
    "        db.gwg_reservation.c.in_date,\n",
    "        db.gwg_reservation.c.ref_id,\n",
    "    )\n",
    ")"
   ]
  },
  {
   "cell_type": "code",
   "execution_count": 3,
   "id": "d9d91519-c15b-4b36-9994-8c1ff8a4f508",
   "metadata": {},
   "outputs": [],
   "source": [
    "current_date = datetime.now()"
   ]
  },
  {
   "cell_type": "code",
   "execution_count": 4,
   "id": "dae26319-e79d-4183-bb11-e167ef788ca9",
   "metadata": {},
   "outputs": [
    {
     "name": "stderr",
     "output_type": "stream",
     "text": [
      "/opt/conda/lib/python3.11/site-packages/xlsxwriter/worksheet.py:3277: UserWarning: Must have at least one data row in in add_table()\n",
      "  warn(\"Must have at least one data row in in add_table()\")\n"
     ]
    }
   ],
   "source": [
    "export = []\n",
    "\n",
    "for destination in [\"AE\", \"OM\", \"SA\"]:\n",
    "    outfile = (\n",
    "        f'GWG_{destination}_RESLIST_{current_date.strftime(\"%Y_%m_%d_%H%M%S\")}.xlsx'\n",
    "    )\n",
    "\n",
    "    new = pd.read_sql(\n",
    "        sql=select_bookings.where(\n",
    "            func.date(db.gwg_reservation.c.create_date) == current_date.date(),\n",
    "            db.gwg_reservation.c.status != \"Can\",\n",
    "            db.definitions_region.c.country_code == destination,\n",
    "        ),\n",
    "        con=db.engine.connect(),\n",
    "    )\n",
    "\n",
    "    ame = pd.read_sql(\n",
    "        sql=select_bookings.where(\n",
    "            func.date(db.gwg_reservation.c.last_modified_date) == current_date.date(),\n",
    "            func.date(db.gwg_reservation.c.create_date) != current_date.date(),\n",
    "            db.gwg_reservation.c.status != \"Can\",\n",
    "            db.definitions_region.c.country_code == destination,\n",
    "        ),\n",
    "        con=db.engine.connect(),\n",
    "    )\n",
    "\n",
    "    can = pd.read_sql(\n",
    "        sql=select_bookings.where(\n",
    "            func.date(db.gwg_reservation.c.last_modified_date) == current_date.date(),\n",
    "            db.gwg_reservation.c.status == \"Can\",\n",
    "            db.definitions_region.c.country_code == destination,\n",
    "        ),\n",
    "        con=db.engine.connect(),\n",
    "    )\n",
    "\n",
    "    new.name = \"new\"\n",
    "    ame.name = \"ame\"\n",
    "    can.name = \"can\"\n",
    "\n",
    "    excel_writer = ExcelWriter([new, ame, can], outfile)\n",
    "    excel_writer.write_to_excel(date_column=[8, 9, 10, 16])\n",
    "    excel_writer.writer.close()\n",
    "\n",
    "    export.append(outfile)"
   ]
  },
  {
   "cell_type": "code",
   "execution_count": 7,
   "id": "19ae0f10-3403-4934-b914-c70bc8a0d557",
   "metadata": {},
   "outputs": [],
   "source": [
    "sender = EmailSender(\n",
    "    subject=f\"Yesterday's Booking Intake - {(current_date - timedelta(1)).strftime('%d %b %Y')}\",\n",
    "    to=[\n",
    "        \"analyst-contracting@meetingpointuae.com\",\n",
    "    ],\n",
    ")\n",
    "\n",
    "sender.send_email(export)"
   ]
  },
  {
   "cell_type": "code",
   "execution_count": null,
   "id": "c6813a77-a390-47be-b2f5-677ad44931d1",
   "metadata": {},
   "outputs": [],
   "source": []
  },
  {
   "cell_type": "code",
   "execution_count": null,
   "id": "d526a80b-15ce-480a-b44b-7f17a5fda6bc",
   "metadata": {},
   "outputs": [],
   "source": []
  }
 ],
 "metadata": {
  "kernelspec": {
   "display_name": "Python 3 (ipykernel)",
   "language": "python",
   "name": "python3"
  },
  "language_info": {
   "codemirror_mode": {
    "name": "ipython",
    "version": 3
   },
   "file_extension": ".py",
   "mimetype": "text/x-python",
   "name": "python",
   "nbconvert_exporter": "python",
   "pygments_lexer": "ipython3",
   "version": "3.11.4"
  }
 },
 "nbformat": 4,
 "nbformat_minor": 5
}
