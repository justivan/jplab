{
 "cells": [
  {
   "cell_type": "code",
   "execution_count": 2,
   "id": "4e671296-8d56-468e-a527-6bdba99b9b00",
   "metadata": {},
   "outputs": [
    {
     "name": "stderr",
     "output_type": "stream",
     "text": [
      "/home/jovyan/work/database.py:34: SAWarning: Did not recognize type 'geometry' of column 'geom'\n",
      "  Table(\n"
     ]
    }
   ],
   "source": [
    "from datetime import date, datetime, timedelta\n",
    "\n",
    "import pandas as pd\n",
    "import pytz\n",
    "from database import Database\n",
    "from email_sender import EmailSender\n",
    "from excel_writer import ExcelWriter\n",
    "from sqlalchemy import func, or_, select, text\n",
    "from sqlalchemy.orm import aliased\n",
    "\n",
    "db = Database()"
   ]
  },
  {
   "cell_type": "code",
   "execution_count": 3,
   "id": "6d67760a-e2e0-4287-ac5c-9c22fc8f2b9c",
   "metadata": {},
   "outputs": [],
   "source": [
    "select_bookings = (\n",
    "    select(\n",
    "        db.gwg_reservation.c.status,\n",
    "        db.users_user.c.name.label(\"purchase_manager\"),\n",
    "        db.clients_operator.c.short_name.label(\"operator_name\"),\n",
    "        db.gwg_reservation.c.ref_id,\n",
    "        db.gwg_reservation.c.res_id,\n",
    "        db.gwg_reservation.c.bkg_ref,\n",
    "        db.mapping_hotel.c.external_name.label(\"hotel_name\"),\n",
    "        db.gwg_reservation.c.guest_name,\n",
    "        db.gwg_reservation.c.sales_date,\n",
    "        db.gwg_reservation.c.in_date,\n",
    "        db.gwg_reservation.c.out_date,\n",
    "        db.gwg_reservation.c.room_type,\n",
    "        db.gwg_reservation.c.meal,\n",
    "        db.gwg_reservation.c.adult,\n",
    "        db.gwg_reservation.c.child,\n",
    "        db.gwg_reservation.c.days,\n",
    "        db.gwg_reservation.c.create_date,\n",
    "    )\n",
    "    .outerjoin(\n",
    "        db.mapping_hotel,\n",
    "        db.gwg_reservation.c.hotel_id == db.mapping_hotel.c.external_code,\n",
    "    )\n",
    "    .outerjoin(\n",
    "        db.mapping_operator,\n",
    "        db.gwg_reservation.c.operator_id == db.mapping_operator.c.external_code,\n",
    "    )\n",
    "    .outerjoin(db.accommodation_hotel)\n",
    "    .outerjoin(db.accommodation_purchase_manager)\n",
    "    .outerjoin(db.users_user)\n",
    "    .outerjoin(db.definitions_area)\n",
    "    .outerjoin(db.definitions_region)\n",
    "    .outerjoin(db.clients_operator)\n",
    "    .where(\n",
    "        # db.definitions_region.c.country_code == \"AE\",\n",
    "        db.clients_operator.c.category == \"IC\",\n",
    "        db.mapping_operator.c.external_code != 1107,\n",
    "    )\n",
    "    .order_by(\n",
    "        db.mapping_hotel.c.external_name,\n",
    "        db.gwg_reservation.c.in_date,\n",
    "        db.gwg_reservation.c.ref_id,\n",
    "    )\n",
    ")"
   ]
  },
  {
   "cell_type": "code",
   "execution_count": 4,
   "id": "a4d8ca84-4461-4e98-a9a4-0e9842ab43f6",
   "metadata": {},
   "outputs": [
    {
     "name": "stdout",
     "output_type": "stream",
     "text": [
      "SELECT gwg_reservation.status, users_user.name AS purchase_manager, clients_operator.short_name AS operator_name, gwg_reservation.ref_id, gwg_reservation.res_id, gwg_reservation.bkg_ref, mapping_hotel.external_name AS hotel_name, gwg_reservation.guest_name, gwg_reservation.sales_date, gwg_reservation.in_date, gwg_reservation.out_date, gwg_reservation.room_type, gwg_reservation.meal, gwg_reservation.adult, gwg_reservation.child, gwg_reservation.days, gwg_reservation.create_date \n",
      "FROM gwg_reservation LEFT OUTER JOIN mapping_hotel ON gwg_reservation.hotel_id = mapping_hotel.external_code LEFT OUTER JOIN mapping_operator ON gwg_reservation.operator_id = mapping_operator.external_code LEFT OUTER JOIN accommodation_hotel ON accommodation_hotel.id = mapping_hotel.hotel_id LEFT OUTER JOIN accommodation_purchase_manager ON accommodation_purchase_manager.id = accommodation_hotel.purchase_manager_id LEFT OUTER JOIN users_user ON users_user.id = accommodation_purchase_manager.user_id LEFT OUTER JOIN definitions_area ON definitions_area.id = accommodation_hotel.area_id LEFT OUTER JOIN definitions_region ON definitions_region.id = definitions_area.region_id LEFT OUTER JOIN clients_operator ON clients_operator.id = mapping_operator.operator_id \n",
      "WHERE clients_operator.category = :category_1 AND mapping_operator.external_code != :external_code_1 ORDER BY mapping_hotel.external_name, gwg_reservation.in_date, gwg_reservation.ref_id\n"
     ]
    }
   ],
   "source": [
    "print(select_bookings)"
   ]
  },
  {
   "cell_type": "code",
   "execution_count": 3,
   "id": "d9d91519-c15b-4b36-9994-8c1ff8a4f508",
   "metadata": {},
   "outputs": [],
   "source": [
    "local_tz = pytz.timezone(\"Asia/Dubai\")\n",
    "current_date = datetime.now(local_tz)"
   ]
  },
  {
   "cell_type": "code",
   "execution_count": 4,
   "id": "dae26319-e79d-4183-bb11-e167ef788ca9",
   "metadata": {},
   "outputs": [
    {
     "name": "stderr",
     "output_type": "stream",
     "text": [
      "/opt/conda/lib/python3.11/site-packages/xlsxwriter/worksheet.py:3339: UserWarning: Must have at least one data row in in add_table()\n",
      "  warn(\"Must have at least one data row in in add_table()\")\n",
      "/opt/conda/lib/python3.11/site-packages/xlsxwriter/worksheet.py:3339: UserWarning: Must have at least one data row in in add_table()\n",
      "  warn(\"Must have at least one data row in in add_table()\")\n"
     ]
    }
   ],
   "source": [
    "export = []\n",
    "\n",
    "for destination in [\"AE\", \"OM\", \"SA\"]:\n",
    "    outfile = (\n",
    "        f'GWG_{destination}_RESLIST_{current_date.strftime(\"%Y_%m_%d_%H%M%S\")}.xlsx'\n",
    "    )\n",
    "\n",
    "    new = pd.read_sql(\n",
    "        sql=select_bookings.where(\n",
    "            func.date(db.gwg_reservation.c.create_date) == current_date.date(),\n",
    "            db.gwg_reservation.c.status != \"Can\",\n",
    "            db.definitions_region.c.country_code == destination,\n",
    "        ),\n",
    "        con=db.engine.connect(),\n",
    "    )\n",
    "\n",
    "    ame = pd.read_sql(\n",
    "        sql=select_bookings.where(\n",
    "            func.date(db.gwg_reservation.c.last_modified_date) == current_date.date(),\n",
    "            func.date(db.gwg_reservation.c.create_date) != current_date.date(),\n",
    "            db.gwg_reservation.c.status != \"Can\",\n",
    "            db.definitions_region.c.country_code == destination,\n",
    "        ),\n",
    "        con=db.engine.connect(),\n",
    "    )\n",
    "\n",
    "    can = pd.read_sql(\n",
    "        sql=select_bookings.where(\n",
    "            func.date(db.gwg_reservation.c.last_modified_date) == current_date.date(),\n",
    "            db.gwg_reservation.c.status == \"Can\",\n",
    "            db.definitions_region.c.country_code == destination,\n",
    "        ),\n",
    "        con=db.engine.connect(),\n",
    "    )\n",
    "\n",
    "    new.name = \"new\"\n",
    "    ame.name = \"ame\"\n",
    "    can.name = \"can\"\n",
    "\n",
    "    excel_writer = ExcelWriter([new, ame, can], outfile)\n",
    "    excel_writer.write_to_excel(date_column=[8, 9, 10, 16])\n",
    "    excel_writer.writer.close()\n",
    "\n",
    "    export.append(outfile)"
   ]
  },
  {
   "cell_type": "code",
   "execution_count": 5,
   "id": "19ae0f10-3403-4934-b914-c70bc8a0d557",
   "metadata": {},
   "outputs": [],
   "source": [
    "sender = EmailSender(\n",
    "    subject=f\"Yesterday's Booking Intake - {(current_date - timedelta(1)).strftime('%d %b %Y')}\",\n",
    "    to=[\n",
    "        \"analyst-contracting@meetingpointuae.com\",\n",
    "    ],\n",
    ")\n",
    "\n",
    "sender.send_email(\n",
    "    export,\n",
    "    \"\"\"\n",
    "        <p>This is an automated report.</p>\n",
    "        <p>Please do not reply.</p>\n",
    "    \"\"\",\n",
    ")"
   ]
  },
  {
   "cell_type": "code",
   "execution_count": null,
   "id": "d590d401-3e4e-431c-ba1d-511bda8e8ab1",
   "metadata": {},
   "outputs": [],
   "source": []
  }
 ],
 "metadata": {
  "kernelspec": {
   "display_name": "Python 3 (ipykernel)",
   "language": "python",
   "name": "python3"
  },
  "language_info": {
   "codemirror_mode": {
    "name": "ipython",
    "version": 3
   },
   "file_extension": ".py",
   "mimetype": "text/x-python",
   "name": "python",
   "nbconvert_exporter": "python",
   "pygments_lexer": "ipython3",
   "version": "3.11.4"
  }
 },
 "nbformat": 4,
 "nbformat_minor": 5
}
