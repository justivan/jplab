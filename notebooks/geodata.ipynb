{
 "cells": [
  {
   "cell_type": "code",
   "execution_count": 1,
   "id": "0fc45219-312b-4f40-bfe6-54a05570f885",
   "metadata": {},
   "outputs": [],
   "source": [
    "import geopandas as gpd"
   ]
  },
  {
   "cell_type": "code",
   "execution_count": 2,
   "id": "97b8dc95-2ed2-44cf-86b5-dba3e1298de9",
   "metadata": {},
   "outputs": [],
   "source": [
    "geodata = gpd.read_file(\"ae_abu_dhabi__saadiyat.geojson\")\n",
    "geodata.drop(['fid', 'NAME_2', 'COUNTRY'], axis=1, inplace=True)\n",
    "geodata.rename(columns={'NAME_1': 'REGION', 'NAME_3': 'NAME'}, inplace=True)"
   ]
  },
  {
   "cell_type": "code",
   "execution_count": 3,
   "id": "c05eba55-414c-4332-a9b3-b1ddba15f8b8",
   "metadata": {},
   "outputs": [
    {
     "data": {
      "text/html": [
       "<div>\n",
       "<style scoped>\n",
       "    .dataframe tbody tr th:only-of-type {\n",
       "        vertical-align: middle;\n",
       "    }\n",
       "\n",
       "    .dataframe tbody tr th {\n",
       "        vertical-align: top;\n",
       "    }\n",
       "\n",
       "    .dataframe thead th {\n",
       "        text-align: right;\n",
       "    }\n",
       "</style>\n",
       "<table border=\"1\" class=\"dataframe\">\n",
       "  <thead>\n",
       "    <tr style=\"text-align: right;\">\n",
       "      <th></th>\n",
       "      <th>REGION</th>\n",
       "      <th>NAME</th>\n",
       "      <th>geometry</th>\n",
       "    </tr>\n",
       "  </thead>\n",
       "  <tbody>\n",
       "    <tr>\n",
       "      <th>0</th>\n",
       "      <td>Abu Dhabi</td>\n",
       "      <td>Saadiyat</td>\n",
       "      <td>MULTIPOLYGON (((54.46269 24.57386, 54.46362 24...</td>\n",
       "    </tr>\n",
       "  </tbody>\n",
       "</table>\n",
       "</div>"
      ],
      "text/plain": [
       "      REGION      NAME                                           geometry\n",
       "0  Abu Dhabi  Saadiyat  MULTIPOLYGON (((54.46269 24.57386, 54.46362 24..."
      ]
     },
     "execution_count": 3,
     "metadata": {},
     "output_type": "execute_result"
    }
   ],
   "source": [
    "geodata.head()"
   ]
  },
  {
   "cell_type": "code",
   "execution_count": 4,
   "id": "fa82351d-eb06-4ffb-a3a1-734abc2dfbe3",
   "metadata": {},
   "outputs": [],
   "source": [
    "geodata['REGION'] = 1"
   ]
  },
  {
   "cell_type": "code",
   "execution_count": 5,
   "id": "378ebbfc-680e-487a-8cbe-1fd009ca1167",
   "metadata": {},
   "outputs": [],
   "source": [
    "geodata.to_file('ae_abu_dhabi__saadiyat.geojson', driver='GeoJSON')"
   ]
  },
  {
   "cell_type": "code",
   "execution_count": null,
   "id": "37140989-0bed-4eae-b8f1-8053dc22acf1",
   "metadata": {},
   "outputs": [],
   "source": []
  }
 ],
 "metadata": {
  "kernelspec": {
   "display_name": "Python 3 (ipykernel)",
   "language": "python",
   "name": "python3"
  },
  "language_info": {
   "codemirror_mode": {
    "name": "ipython",
    "version": 3
   },
   "file_extension": ".py",
   "mimetype": "text/x-python",
   "name": "python",
   "nbconvert_exporter": "python",
   "pygments_lexer": "ipython3",
   "version": "3.11.4"
  }
 },
 "nbformat": 4,
 "nbformat_minor": 5
}
