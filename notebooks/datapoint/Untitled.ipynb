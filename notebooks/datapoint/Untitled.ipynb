{
 "cells": [
  {
   "cell_type": "code",
   "execution_count": 1,
   "id": "445d9690-b75c-4744-b6ff-df8288e4afe6",
   "metadata": {},
   "outputs": [
    {
     "ename": "ModuleNotFoundError",
     "evalue": "No module named 'database'",
     "output_type": "error",
     "traceback": [
      "\u001b[0;31m---------------------------------------------------------------------------\u001b[0m",
      "\u001b[0;31mModuleNotFoundError\u001b[0m                       Traceback (most recent call last)",
      "Cell \u001b[0;32mIn[1], line 2\u001b[0m\n\u001b[1;32m      1\u001b[0m \u001b[38;5;28;01mimport\u001b[39;00m \u001b[38;5;21;01mpandas\u001b[39;00m \u001b[38;5;28;01mas\u001b[39;00m \u001b[38;5;21;01mpd\u001b[39;00m\n\u001b[0;32m----> 2\u001b[0m \u001b[38;5;28;01mfrom\u001b[39;00m \u001b[38;5;21;01mdatabase\u001b[39;00m \u001b[38;5;28;01mimport\u001b[39;00m Database\n",
      "\u001b[0;31mModuleNotFoundError\u001b[0m: No module named 'database'"
     ]
    }
   ],
   "source": [
    "import pandas as pd\n",
    "from database import Database\n",
    "from config import Config"
   ]
  },
  {
   "cell_type": "code",
   "execution_count": 3,
   "id": "802031fd-0fdf-484e-a875-d15d9ad99d0e",
   "metadata": {},
   "outputs": [
    {
     "ename": "ModuleNotFoundError",
     "evalue": "No module named 'config'",
     "output_type": "error",
     "traceback": [
      "\u001b[0;31m---------------------------------------------------------------------------\u001b[0m",
      "\u001b[0;31mModuleNotFoundError\u001b[0m                       Traceback (most recent call last)",
      "Cell \u001b[0;32mIn[3], line 1\u001b[0m\n\u001b[0;32m----> 1\u001b[0m \u001b[38;5;28;01mfrom\u001b[39;00m \u001b[38;5;21;01mconfig\u001b[39;00m \u001b[38;5;28;01mimport\u001b[39;00m Config\n",
      "\u001b[0;31mModuleNotFoundError\u001b[0m: No module named 'config'"
     ]
    }
   ],
   "source": [
    "from config import Config"
   ]
  },
  {
   "cell_type": "code",
   "execution_count": null,
   "id": "15907f31-ccf4-4d1f-bbf4-f2ba28698bbf",
   "metadata": {},
   "outputs": [],
   "source": [
    "bookings = pd.read_csv(\"bookings.csv\")\n",
    "\n",
    "db = Database()\n",
    "\n",
    "hotel_mapping = db.get_hotel_mapping()\n",
    "room_mapping = db.get_room_mapping()\n",
    "meal_mapping = db.get_meal_mapping()\n",
    "operator_mapping = db.get_operator_mapping()"
   ]
  },
  {
   "cell_type": "code",
   "execution_count": null,
   "id": "6cbc7428-e4f8-4267-acfd-392b05710b57",
   "metadata": {},
   "outputs": [],
   "source": [
    "hotel_mapping = dict(zip(hotels[\"external_code\"], hotels[\"hotel_id\"]))\n",
    "room_mapping = dict(\n",
    "    zip(\n",
    "        rooms.apply(lambda x: (x[\"external_code\"], x[\"hotel_id\"]), axis=1),\n",
    "        rooms[\"id\"],\n",
    "    )\n",
    ")\n",
    "meal_mapping = dict(zip(meals[\"code\"], meals[\"id\"]))\n",
    "operator_mapping = dict(zip(operators[\"external_code\"], operators[\"operator_id\"]))"
   ]
  },
  {
   "cell_type": "code",
   "execution_count": null,
   "id": "d179af5b-e5ec-4df8-a519-db46c8a44655",
   "metadata": {},
   "outputs": [],
   "source": [
    "bookings[\"external_code_hotel\"] = bookings[\"hotel_id\"]\n",
    "bookings[\"hotel_id\"] = pd.to_numeric(\n",
    "    bookings[\"external_code_hotel\"].map(hotel_mapping), errors=\"coerce\"\n",
    ")\n",
    "bookings[\"hotel_id\"] = bookings[\"hotel_id\"].astype(\"Int64\")"
   ]
  },
  {
   "cell_type": "code",
   "execution_count": null,
   "id": "c639623f-cdb7-4fd6-addf-eb596a16baa4",
   "metadata": {},
   "outputs": [],
   "source": [
    "bookings[\"external_code_room\"] = bookings[\"room_code\"]\n",
    "bookings[\"room_id\"] = bookings.apply(\n",
    "    lambda x: room_mapping.get(\n",
    "        (\n",
    "            x[\"external_code_room\"],\n",
    "            x[\"hotel_id\"],\n",
    "        )\n",
    "    ),\n",
    "    axis=1,\n",
    ")\n",
    "bookings[\"room_id\"] = pd.to_numeric(bookings[\"room_id\"], errors=\"coerce\").astype(\n",
    "    \"Int64\"\n",
    ")"
   ]
  },
  {
   "cell_type": "code",
   "execution_count": null,
   "id": "43bcffcb-af64-49f5-9615-33dbf7d07724",
   "metadata": {},
   "outputs": [],
   "source": [
    "bookings[\"external_code_meal\"] = bookings[\"meal\"]\n",
    "bookings[\"meal_id\"] = bookings[\"external_code_meal\"].map(meal_mapping)\n",
    "bookings[\"meal_id\"] = pd.to_numeric(bookings[\"meal_id\"], errors=\"coerce\").astype(\n",
    "    \"Int64\"\n",
    ")"
   ]
  },
  {
   "cell_type": "code",
   "execution_count": null,
   "id": "e6979d9e-186a-44be-a0a1-58fa1ecf666b",
   "metadata": {},
   "outputs": [],
   "source": [
    "bookings[\"external_code_operator\"] = bookings[\"operator_id\"]\n",
    "bookings[\"operator_id\"] = bookings[\"external_code_operator\"].map(operator_mapping)\n",
    "bookings[\"operator_id\"] = pd.to_numeric(\n",
    "    bookings[\"operator_id\"], errors=\"coerce\"\n",
    ").astype(\"Int64\")"
   ]
  },
  {
   "cell_type": "code",
   "execution_count": null,
   "id": "3f297c20-f245-468e-aac8-9eb12839f3ca",
   "metadata": {},
   "outputs": [],
   "source": [
    "bookings.head()"
   ]
  },
  {
   "cell_type": "code",
   "execution_count": null,
   "id": "a5a32812-17c0-4d60-b305-ad6c018aaaa9",
   "metadata": {},
   "outputs": [],
   "source": [
    "bookings.to_csv(\"temp.csv\", index=False)"
   ]
  },
  {
   "cell_type": "code",
   "execution_count": null,
   "id": "94769d59-284a-4a3d-bada-809fd0a84030",
   "metadata": {},
   "outputs": [],
   "source": [
    "import os\n",
    "from typing import Union, get_type_hints\n",
    "\n",
    "import psycopg2\n",
    "\n",
    "\n",
    "class AppConfigError(Exception):\n",
    "    pass\n",
    "\n",
    "\n",
    "def _parse_bool(val: Union[str, bool]) -> bool:  # pylint: disable=E1136\n",
    "    return val if type(val) == bool else val.lower() in [\"true\", \"yes\", \"1\"]\n",
    "\n",
    "\n",
    "# AppConfig class with required fields, default values, type checking, and typecasting for int and bool values\n",
    "\n",
    "\n",
    "class AppConfig:\n",
    "    SSRS_BASE_URL: str\n",
    "    SSRS_USERNAME: str\n",
    "    SSRS_PASSWORD: str\n",
    "    DATABASE_URI: str\n",
    "    MAIL_SERVER: str\n",
    "    MAIL_PORT: int\n",
    "    MAIL_USE_TLS: bool = True\n",
    "    MAIL_USERNAME: str\n",
    "    MAIL_PASSWORD: str\n",
    "    FTP_SERVER: str\n",
    "    FTP_USERNAME: str\n",
    "    FTP_PASSWORD: str\n",
    "\n",
    "    \"\"\"\n",
    "    Map environment variables to class fields according to these rules:\n",
    "      - Field won't be parsed unless it has a type annotation\n",
    "      - Field will be skipped if not in all caps\n",
    "      - Class field and environment variable name are the same\n",
    "    \"\"\"\n",
    "\n",
    "    def __init__(self, env):\n",
    "        for field in self.__annotations__:\n",
    "            if not field.isupper():\n",
    "                continue\n",
    "\n",
    "            # Raise AppConfigError if required field not supplied\n",
    "            default_value = getattr(self, field, None)\n",
    "            if default_value is None and env.get(field) is None:\n",
    "                raise AppConfigError(\"The {} field is required\".format(field))\n",
    "\n",
    "            # Cast env var value to expected type and raise AppConfigError on failure\n",
    "            try:\n",
    "                var_type = get_type_hints(AppConfig)[field]\n",
    "                if var_type == bool:\n",
    "                    value = _parse_bool(env.get(field, default_value))\n",
    "                else:\n",
    "                    value = var_type(env.get(field, default_value))\n",
    "\n",
    "                self.__setattr__(field, value)\n",
    "            except ValueError:\n",
    "                raise AppConfigError(\n",
    "                    'Unable to cast value of \"{}\" to type \"{}\" for \"{}\" field'.format(\n",
    "                        env[field], var_type, field\n",
    "                    )\n",
    "                )\n",
    "\n",
    "    def __repr__(self):\n",
    "        return str(self.__dict__)\n",
    "\n",
    "\n",
    "# Expose Config object for app to import\n",
    "Config = AppConfig(os.environ)"
   ]
  }
 ],
 "metadata": {
  "kernelspec": {
   "display_name": "Python 3 (ipykernel)",
   "language": "python",
   "name": "python3"
  },
  "language_info": {
   "codemirror_mode": {
    "name": "ipython",
    "version": 3
   },
   "file_extension": ".py",
   "mimetype": "text/x-python",
   "name": "python",
   "nbconvert_exporter": "python",
   "pygments_lexer": "ipython3",
   "version": "3.11.4"
  }
 },
 "nbformat": 4,
 "nbformat_minor": 5
}
