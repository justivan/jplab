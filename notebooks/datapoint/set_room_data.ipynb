{
 "cells": [
  {
   "cell_type": "code",
   "execution_count": 1,
   "id": "50363b42-18e2-431b-b236-07f573475423",
   "metadata": {},
   "outputs": [],
   "source": [
    "import re\n",
    "from collections import OrderedDict\n",
    "from pathlib import Path\n",
    "\n",
    "import pandas as pd"
   ]
  },
  {
   "cell_type": "code",
   "execution_count": 2,
   "id": "22d42d85-02d8-4fcf-bc56-ddbbb703cea5",
   "metadata": {},
   "outputs": [],
   "source": [
    "this_dir = Path(\".\").resolve()"
   ]
  },
  {
   "cell_type": "code",
   "execution_count": 3,
   "id": "a6548c90-628c-4aaf-b920-475c4adf6ff2",
   "metadata": {},
   "outputs": [],
   "source": [
    "rooms = pd.read_csv(this_dir / \"input\" / \"room_mapping.csv\")\n",
    "hotels = pd.read_csv(this_dir / \"input\" / \"hotel_mapping.csv\")"
   ]
  },
  {
   "cell_type": "code",
   "execution_count": 10,
   "id": "1402a6e1-b11e-4981-b14c-4c427660c64b",
   "metadata": {},
   "outputs": [],
   "source": [
    "hotel_id_mapping = dict(zip(hotels[\"external_name\"], hotels[\"hotel_id\"]))"
   ]
  },
  {
   "cell_type": "code",
   "execution_count": 11,
   "id": "3f1c900f-ef71-416a-8cce-d6ff0e51473f",
   "metadata": {},
   "outputs": [],
   "source": [
    "rooms[\"hotel_id\"] = rooms[\"HotelName\"].map(hotel_id_mapping)"
   ]
  },
  {
   "cell_type": "code",
   "execution_count": 15,
   "id": "301ae48b-f2b5-4153-9d68-614b8599f338",
   "metadata": {},
   "outputs": [],
   "source": [
    "replacement_mapping = OrderedDict(\n",
    "    {\n",
    "        r\"Single Use\": \" \",\n",
    "        r\"Single\": \" \",\n",
    "        r\"Singe\": \" \",\n",
    "        r\"\\( \\)\": \" \",\n",
    "        r\"Twin Rm/\": \"Twin Room\",\n",
    "        r\"Bedrooms\": \"Bedroom\",\n",
    "        r\"01\": \"One\",\n",
    "        r\"02\": \"Two\",\n",
    "        r\"03\": \"Three\",\n",
    "        r\"1 Bedroom\": \"One Bedroom\",\n",
    "        r\"2 Bedroom\": \"Two Bedroom\",\n",
    "        r\"3 Bedroom\": \"Three Bedroom\",\n",
    "        r\"4 Bedroom\": \"Four Bedroom\",\n",
    "        r\"1-\": \"One \",\n",
    "        r\"2-\": \"Two \",\n",
    "        r\"3-\": \"Three \",\n",
    "        r\"2-Bdrm\": \"Two Bedroom\",\n",
    "    }\n",
    ")\n",
    "\n",
    "\n",
    "def replace_strings(s):\n",
    "    for pattern, replacement in replacement_mapping.items():\n",
    "        s = re.sub(pattern, replacement, s, flags=re.IGNORECASE)\n",
    "    return s.strip()"
   ]
  },
  {
   "cell_type": "code",
   "execution_count": 16,
   "id": "485a6774-b5b1-42d9-8573-5af4c54513e6",
   "metadata": {},
   "outputs": [],
   "source": [
    "rooms[\"updated_room_name\"] = rooms[\"HotelRoomDescription\"].apply(replace_strings)\n",
    "rooms[\"updated_room_name\"] = (\n",
    "    rooms[\"updated_room_name\"].str.split().str.join(\" \").str.title()\n",
    ")"
   ]
  },
  {
   "cell_type": "code",
   "execution_count": 17,
   "id": "e52c4f1a-d4df-4ddf-9137-162ae1bcd46a",
   "metadata": {},
   "outputs": [],
   "source": [
    "rooms.drop_duplicates(subset=[\"hotel_id\", \"MapRoomCode\"], keep=\"last\", inplace=True)"
   ]
  },
  {
   "cell_type": "code",
   "execution_count": 18,
   "id": "09021bb1-f4e8-422d-91f8-8ba03a5b4817",
   "metadata": {},
   "outputs": [],
   "source": [
    "rooms_unique = rooms.groupby([\"updated_room_name\", \"hotel_id\"]).size().reset_index()\n",
    "rooms_unique.sort_values([\"hotel_id\", \"updated_room_name\"], inplace=True)"
   ]
  },
  {
   "cell_type": "code",
   "execution_count": 19,
   "id": "c29959d0-2e29-4560-8a40-87317813b913",
   "metadata": {},
   "outputs": [],
   "source": [
    "rooms.to_csv(\"rooms.csv\", index=False)\n",
    "rooms_unique.to_csv(\"rooms_unique.csv\", index=False)"
   ]
  },
  {
   "cell_type": "code",
   "execution_count": 20,
   "id": "dff0501b-9516-4244-93d6-d86912bed442",
   "metadata": {},
   "outputs": [],
   "source": [
    "import json\n",
    "\n",
    "output = []\n",
    "\n",
    "for _, row in rooms_unique.iterrows():\n",
    "    hotel_room_dict = {\n",
    "        \"model\": \"accommodation.hotelroom\",\n",
    "        \"fields\": {\n",
    "            \"hotel\": row[\"hotel_id\"],\n",
    "            \"name\": row[\"updated_room_name\"],\n",
    "        },\n",
    "    }\n",
    "    output.append(hotel_room_dict)\n",
    "\n",
    "output_json = json.dumps(output, indent=2, default=str)\n",
    "\n",
    "with open(\"hotelroom.json\", \"w\") as f:\n",
    "    f.write(output_json)"
   ]
  },
  {
   "cell_type": "code",
   "execution_count": 21,
   "id": "84dd1df1-1384-488d-85ca-fa5f11733747",
   "metadata": {},
   "outputs": [],
   "source": [
    "accommodation_hotel_room = pd.read_csv(this_dir / \"input\" / \"accommodation_hotel_room.csv\")"
   ]
  },
  {
   "cell_type": "code",
   "execution_count": 22,
   "id": "ae1c55eb-d5cc-4a63-97c1-f58845e55ba4",
   "metadata": {},
   "outputs": [
    {
     "data": {
      "text/html": [
       "<div>\n",
       "<style scoped>\n",
       "    .dataframe tbody tr th:only-of-type {\n",
       "        vertical-align: middle;\n",
       "    }\n",
       "\n",
       "    .dataframe tbody tr th {\n",
       "        vertical-align: top;\n",
       "    }\n",
       "\n",
       "    .dataframe thead th {\n",
       "        text-align: right;\n",
       "    }\n",
       "</style>\n",
       "<table border=\"1\" class=\"dataframe\">\n",
       "  <thead>\n",
       "    <tr style=\"text-align: right;\">\n",
       "      <th></th>\n",
       "      <th>id</th>\n",
       "      <th>name</th>\n",
       "      <th>ordinal</th>\n",
       "      <th>hotel_id</th>\n",
       "    </tr>\n",
       "  </thead>\n",
       "  <tbody>\n",
       "    <tr>\n",
       "      <th>0</th>\n",
       "      <td>1</td>\n",
       "      <td>Artist Village Suite</td>\n",
       "      <td>1</td>\n",
       "      <td>10000072</td>\n",
       "    </tr>\n",
       "    <tr>\n",
       "      <th>1</th>\n",
       "      <td>2</td>\n",
       "      <td>Bedouin Room</td>\n",
       "      <td>1</td>\n",
       "      <td>10000072</td>\n",
       "    </tr>\n",
       "    <tr>\n",
       "      <th>2</th>\n",
       "      <td>3</td>\n",
       "      <td>Farmstay Suite</td>\n",
       "      <td>1</td>\n",
       "      <td>10000072</td>\n",
       "    </tr>\n",
       "    <tr>\n",
       "      <th>3</th>\n",
       "      <td>4</td>\n",
       "      <td>Farmstay Suite King</td>\n",
       "      <td>1</td>\n",
       "      <td>10000072</td>\n",
       "    </tr>\n",
       "    <tr>\n",
       "      <th>4</th>\n",
       "      <td>5</td>\n",
       "      <td>Glamping King Room</td>\n",
       "      <td>1</td>\n",
       "      <td>10000072</td>\n",
       "    </tr>\n",
       "  </tbody>\n",
       "</table>\n",
       "</div>"
      ],
      "text/plain": [
       "   id                  name  ordinal  hotel_id\n",
       "0   1  Artist Village Suite        1  10000072\n",
       "1   2          Bedouin Room        1  10000072\n",
       "2   3        Farmstay Suite        1  10000072\n",
       "3   4   Farmstay Suite King        1  10000072\n",
       "4   5    Glamping King Room        1  10000072"
      ]
     },
     "execution_count": 22,
     "metadata": {},
     "output_type": "execute_result"
    }
   ],
   "source": [
    "accommodation_hotel_room.head()"
   ]
  },
  {
   "cell_type": "code",
   "execution_count": 23,
   "id": "37053c89-d759-48ab-805d-a01dc547b29c",
   "metadata": {},
   "outputs": [],
   "source": [
    "hotel_room_id_mapping = dict(\n",
    "    zip(\n",
    "        accommodation_hotel_room.apply(lambda x: (x[\"name\"], x[\"hotel_id\"]), axis=1),\n",
    "        accommodation_hotel_room[\"id\"],\n",
    "    )\n",
    ")"
   ]
  },
  {
   "cell_type": "code",
   "execution_count": 26,
   "id": "69394b4a-8cd4-4934-b2cd-79202ea69fdc",
   "metadata": {},
   "outputs": [],
   "source": [
    "rooms[\"room_id\"] = rooms.apply(\n",
    "    lambda x: hotel_room_id_mapping.get(\n",
    "        (\n",
    "            x[\"updated_room_name\"],\n",
    "            x[\"hotel_id\"],\n",
    "        )\n",
    "    ),\n",
    "    axis=1,\n",
    ")"
   ]
  },
  {
   "cell_type": "code",
   "execution_count": 27,
   "id": "38577534-f830-4290-bc13-ec544e49790c",
   "metadata": {},
   "outputs": [
    {
     "data": {
      "text/plain": [
       "Index(['HotelName', 'Destination', 'ContractID', 'OperatorName', 'ContractSPO',\n",
       "       'Guarantee', 'SingleSupplement', 'SPOName', 'SPOCode', 'contractType',\n",
       "       'Active', 'BeginDate', 'EndDate', 'ResStartDate', 'ResStopDate',\n",
       "       'PurchaseContractID', 'Purchase_Room_ID', 'RoomId2', 'RoomDescription',\n",
       "       'RoomLocation', 'RoomView', 'HotelRoomDescription', 'MapRoomCode',\n",
       "       'MapRoomCode2', 'FTIRoomCode', 'BIGXRoomCode', 'RoomAllotment',\n",
       "       'AllotmentGuarantee', 'PriceType', 'PerRoomCalcType', 'MinRoomPrice',\n",
       "       'MaxOccupancy', 'MinOccupancy', 'MaxAdl1', 'MinAdl', 'MaxChl', 'MinChl',\n",
       "       'AdultOnly1', 'InfantAllowed1', 'MealPlan', 'hotel_id',\n",
       "       'updated_room_name', 'room_id'],\n",
       "      dtype='object')"
      ]
     },
     "execution_count": 27,
     "metadata": {},
     "output_type": "execute_result"
    }
   ],
   "source": [
    "rooms.columns"
   ]
  },
  {
   "cell_type": "code",
   "execution_count": 28,
   "id": "cfd98d98-066f-484b-bdd5-376f020bf566",
   "metadata": {},
   "outputs": [],
   "source": [
    "output = []\n",
    "\n",
    "for _, row in rooms.iterrows():\n",
    "    hotel_room_mapping_dict = {\n",
    "        \"model\": \"mapping.hotelroommapping\",\n",
    "        \"fields\": {\n",
    "            \"hotel_room\": row[\"room_id\"],\n",
    "            \"external_name\": row[\"HotelRoomDescription\"],\n",
    "            \"external_code\": row[\"MapRoomCode\"],\n",
    "            \"provider\": 1,\n",
    "        },\n",
    "    }\n",
    "    output.append(hotel_room_mapping_dict)\n",
    "\n",
    "output_json = json.dumps(output, indent=2, default=str)\n",
    "\n",
    "with open(\"hotelroommapping.json\", \"w\") as f:\n",
    "    f.write(output_json)"
   ]
  },
  {
   "cell_type": "code",
   "execution_count": null,
   "id": "cb82bb13-0bb0-4d26-aee4-2e1f2bf9a2bf",
   "metadata": {},
   "outputs": [],
   "source": []
  }
 ],
 "metadata": {
  "kernelspec": {
   "display_name": "Python 3 (ipykernel)",
   "language": "python",
   "name": "python3"
  },
  "language_info": {
   "codemirror_mode": {
    "name": "ipython",
    "version": 3
   },
   "file_extension": ".py",
   "mimetype": "text/x-python",
   "name": "python",
   "nbconvert_exporter": "python",
   "pygments_lexer": "ipython3",
   "version": "3.11.4"
  }
 },
 "nbformat": 4,
 "nbformat_minor": 5
}
