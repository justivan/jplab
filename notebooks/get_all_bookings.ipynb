{
 "cells": [
  {
   "cell_type": "code",
   "execution_count": 1,
   "id": "30445aff-2c61-4e77-be38-0168b448a6e0",
   "metadata": {},
   "outputs": [],
   "source": [
    "import time\n",
    "from datetime import datetime\n",
    "\n",
    "import pandas as pd\n",
    "from database import Database\n",
    "from sklearn.pipeline import Pipeline\n",
    "from sqlalchemy.dialects.postgresql import insert\n",
    "from ssrs import BookingData\n",
    "from transformers import BookingDataEncoder, BookingDataReadCsv"
   ]
  },
  {
   "cell_type": "code",
   "execution_count": 2,
   "id": "74518f39-ca68-4967-a932-94d3f8256889",
   "metadata": {},
   "outputs": [
    {
     "name": "stderr",
     "output_type": "stream",
     "text": [
      "/home/jovyan/work/database.py:34: SAWarning: Did not recognize type 'geometry' of column 'geom'\n",
      "  Table(\n"
     ]
    }
   ],
   "source": [
    "db = Database()\n",
    "\n",
    "reservation = db.gwg_reservation"
   ]
  },
  {
   "cell_type": "code",
   "execution_count": 3,
   "id": "ec712ae6-2d2c-4c5f-b425-7bbaba7531e2",
   "metadata": {},
   "outputs": [],
   "source": [
    "date_fr = \"11/01/2018\"\n",
    "date_to = \"12/31/2021\""
   ]
  },
  {
   "cell_type": "code",
   "execution_count": 4,
   "id": "ac0ae65a-30e2-41d8-b343-35179d796899",
   "metadata": {},
   "outputs": [],
   "source": [
    "pipeline = Pipeline(\n",
    "    [\n",
    "        (\"csv_reader\", BookingDataReadCsv()),\n",
    "        (\"data_encoder\", BookingDataEncoder()),\n",
    "    ]\n",
    ")"
   ]
  },
  {
   "cell_type": "code",
   "execution_count": 5,
   "id": "67442e22-cccc-48e4-b00f-76baaddd4306",
   "metadata": {
    "scrolled": true
   },
   "outputs": [],
   "source": [
    "dfs = []\n",
    "\n",
    "for destination in [\"DU\", \"OM\"]:\n",
    "    booking_data = BookingData(destination, date_fr, date_to, 2).get()\n",
    "\n",
    "    df = pipeline.fit_transform(booking_data)\n",
    "    dfs.append(df)"
   ]
  },
  {
   "cell_type": "code",
   "execution_count": 6,
   "id": "79c3d943-a4ea-4ee8-b34e-3a8685eb17ae",
   "metadata": {},
   "outputs": [],
   "source": [
    "records = pd.concat(dfs, axis=0, ignore_index=True)"
   ]
  },
  {
   "cell_type": "code",
   "execution_count": 7,
   "id": "f0ac68be-cd21-4100-9c1b-ae7b23b8e4a6",
   "metadata": {},
   "outputs": [],
   "source": [
    "if records is not None and not records.empty:\n",
    "    chunk_size = 1000\n",
    "    for i in range(0, len(records), chunk_size):\n",
    "        chunk = records.iloc[i : i + chunk_size]\n",
    "\n",
    "        stmt = insert(reservation).values(chunk.to_dict(orient=\"records\"))\n",
    "        stmt = stmt.on_conflict_do_update(\n",
    "            constraint=\"gwg_reservation_pkey\", set_=dict(stmt.excluded)\n",
    "        )\n",
    "\n",
    "        with db.engine.begin() as connection:\n",
    "            connection.execute(stmt)\n",
    "else: \n",
    "    print(\"empty\")"
   ]
  },
  {
   "cell_type": "code",
   "execution_count": 8,
   "id": "7677d8da-2fcc-496c-a128-eb7cc6e7398f",
   "metadata": {},
   "outputs": [
    {
     "data": {
      "text/plain": [
       "(491304, 36)"
      ]
     },
     "execution_count": 8,
     "metadata": {},
     "output_type": "execute_result"
    }
   ],
   "source": [
    "records.shape"
   ]
  },
  {
   "cell_type": "code",
   "execution_count": 9,
   "id": "5ed1a3f9-931a-412d-9213-f69499bd4651",
   "metadata": {},
   "outputs": [
    {
     "data": {
      "text/plain": [
       "ref_id                           0\n",
       "res_id                           0\n",
       "hotel_id                         0\n",
       "operator_id                      0\n",
       "operator_code                    0\n",
       "bkg_ref                          0\n",
       "guest_name                     340\n",
       "sales_date                       0\n",
       "in_date                          0\n",
       "out_date                         0\n",
       "room_type                     4832\n",
       "room_code                    14300\n",
       "meal                             0\n",
       "days                             0\n",
       "adult                            0\n",
       "child                            0\n",
       "purchase_price                   0\n",
       "purchase_currency            11271\n",
       "sales_price                      0\n",
       "sales_currency               12567\n",
       "purchase_price_indicator       989\n",
       "sales_price_indicator         1555\n",
       "create_date                      0\n",
       "last_modified_date               0\n",
       "cancellation_date           327597\n",
       "status                           0\n",
       "status4                          0\n",
       "status5                          0\n",
       "purchase_contract_id             0\n",
       "purchase_spo_id                  0\n",
       "sales_contract_id                0\n",
       "sales_spo_id                     0\n",
       "sales_spo_name              223657\n",
       "sales_spo_code              223710\n",
       "purchase_spo_name           173576\n",
       "purchase_spo_code           173629\n",
       "dtype: int64"
      ]
     },
     "execution_count": 9,
     "metadata": {},
     "output_type": "execute_result"
    }
   ],
   "source": [
    "records.isna().sum()"
   ]
  },
  {
   "cell_type": "code",
   "execution_count": null,
   "id": "ddebc3dc-d2ca-4bab-8586-8a47a6ef43c8",
   "metadata": {},
   "outputs": [],
   "source": []
  }
 ],
 "metadata": {
  "kernelspec": {
   "display_name": "Python 3 (ipykernel)",
   "language": "python",
   "name": "python3"
  },
  "language_info": {
   "codemirror_mode": {
    "name": "ipython",
    "version": 3
   },
   "file_extension": ".py",
   "mimetype": "text/x-python",
   "name": "python",
   "nbconvert_exporter": "python",
   "pygments_lexer": "ipython3",
   "version": "3.11.4"
  }
 },
 "nbformat": 4,
 "nbformat_minor": 5
}
