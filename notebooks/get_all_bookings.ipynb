{
 "cells": [
  {
   "cell_type": "code",
   "execution_count": 1,
   "id": "30445aff-2c61-4e77-be38-0168b448a6e0",
   "metadata": {},
   "outputs": [],
   "source": [
    "import time\n",
    "from datetime import datetime\n",
    "\n",
    "import pandas as pd\n",
    "from database import Database\n",
    "from sklearn.pipeline import Pipeline\n",
    "from sqlalchemy.dialects.postgresql import insert\n",
    "from ssrs import BookingData\n",
    "from transformers import BookingDataEncoder, BookingDataReadCsv"
   ]
  },
  {
   "cell_type": "code",
   "execution_count": 2,
   "id": "74518f39-ca68-4967-a932-94d3f8256889",
   "metadata": {},
   "outputs": [
    {
     "name": "stderr",
     "output_type": "stream",
     "text": [
      "/home/jovyan/work/database.py:34: SAWarning: Did not recognize type 'geometry' of column 'geom'\n",
      "  Table(\n"
     ]
    }
   ],
   "source": [
    "db = Database()\n",
    "\n",
    "reservation = db.gwg_reservation"
   ]
  },
  {
   "cell_type": "code",
   "execution_count": 3,
   "id": "ec712ae6-2d2c-4c5f-b425-7bbaba7531e2",
   "metadata": {},
   "outputs": [],
   "source": [
    "date_fr = \"11/01/2021\"\n",
    "date_to = \"12/31/2026\""
   ]
  },
  {
   "cell_type": "code",
   "execution_count": 4,
   "id": "ac0ae65a-30e2-41d8-b343-35179d796899",
   "metadata": {},
   "outputs": [],
   "source": [
    "pipeline = Pipeline(\n",
    "    [\n",
    "        (\"csv_reader\", BookingDataReadCsv()),\n",
    "        (\"data_encoder\", BookingDataEncoder()),\n",
    "    ]\n",
    ")"
   ]
  },
  {
   "cell_type": "code",
   "execution_count": 5,
   "id": "67442e22-cccc-48e4-b00f-76baaddd4306",
   "metadata": {
    "scrolled": true
   },
   "outputs": [],
   "source": [
    "dfs = []\n",
    "\n",
    "for destination in [\"DU\", \"OM\"]:\n",
    "    booking_data = BookingData(destination, date_fr, date_to, 2).get()\n",
    "\n",
    "    df = pipeline.fit_transform(booking_data)\n",
    "    dfs.append(df)"
   ]
  },
  {
   "cell_type": "code",
   "execution_count": 6,
   "id": "79c3d943-a4ea-4ee8-b34e-3a8685eb17ae",
   "metadata": {},
   "outputs": [],
   "source": [
    "records = pd.concat(dfs, axis=0, ignore_index=True)"
   ]
  },
  {
   "cell_type": "code",
   "execution_count": 7,
   "id": "8efb72cb-23dc-4a5e-bee4-b66123fe4d0b",
   "metadata": {},
   "outputs": [
    {
     "data": {
      "text/plain": [
       "False"
      ]
     },
     "execution_count": 7,
     "metadata": {},
     "output_type": "execute_result"
    }
   ],
   "source": [
    "records.empty"
   ]
  },
  {
   "cell_type": "code",
   "execution_count": 8,
   "id": "f0ac68be-cd21-4100-9c1b-ae7b23b8e4a6",
   "metadata": {},
   "outputs": [],
   "source": [
    "if records is not None and not records.empty:\n",
    "    chunk_size = 1000\n",
    "    for i in range(0, len(records), chunk_size):\n",
    "        chunk = records.iloc[i : i + chunk_size]\n",
    "\n",
    "        stmt = insert(reservation).values(chunk.to_dict(orient=\"records\"))\n",
    "        stmt = stmt.on_conflict_do_update(\n",
    "            constraint=\"gwg_reservation_pkey\", set_=dict(stmt.excluded)\n",
    "        )\n",
    "\n",
    "        with db.engine.begin() as connection:\n",
    "            connection.execute(stmt)\n",
    "else:\n",
    "    print(\"empty\")"
   ]
  },
  {
   "cell_type": "code",
   "execution_count": 9,
   "id": "7677d8da-2fcc-496c-a128-eb7cc6e7398f",
   "metadata": {},
   "outputs": [
    {
     "data": {
      "text/plain": [
       "(389663, 36)"
      ]
     },
     "execution_count": 9,
     "metadata": {},
     "output_type": "execute_result"
    }
   ],
   "source": [
    "records.shape"
   ]
  },
  {
   "cell_type": "code",
   "execution_count": 12,
   "id": "e1402c22-7129-4746-beb4-e38a2b0c808d",
   "metadata": {},
   "outputs": [],
   "source": [
    "records[\"meal\"] = records[\"meal\"].str.replace(r\"(?i)\\*| NO\", \"\", regex=True).str.strip()"
   ]
  },
  {
   "cell_type": "code",
   "execution_count": 13,
   "id": "ab9079cc-9172-4825-b9e4-175d823e0688",
   "metadata": {},
   "outputs": [],
   "source": [
    "meal = records['meal'].unique()"
   ]
  },
  {
   "cell_type": "code",
   "execution_count": 16,
   "id": "93958741-ea9a-46d7-af4b-92cdfc51196b",
   "metadata": {},
   "outputs": [],
   "source": [
    "meal = pd.DataFrame(meal, columns=['meal'])"
   ]
  },
  {
   "cell_type": "code",
   "execution_count": 20,
   "id": "68471759-2e54-4690-b5b5-dcd3b57432a2",
   "metadata": {},
   "outputs": [],
   "source": [
    "meal.dropna(inplace=True)"
   ]
  },
  {
   "cell_type": "code",
   "execution_count": 22,
   "id": "ffcfdca8-80d5-42a9-9f8e-858c46645b41",
   "metadata": {},
   "outputs": [],
   "source": [
    "import numpy as np\n",
    "meal.replace({\"\": None, pd.NaT: None, pd.NA: None, np.NaN: None}, inplace=True)"
   ]
  },
  {
   "cell_type": "code",
   "execution_count": 23,
   "id": "fbafed77-9bbb-4c77-acd8-b4e40b49c459",
   "metadata": {},
   "outputs": [],
   "source": [
    "meal.to_csv('meal.csv', index=False)"
   ]
  },
  {
   "cell_type": "code",
   "execution_count": null,
   "id": "5ed1a3f9-931a-412d-9213-f69499bd4651",
   "metadata": {},
   "outputs": [],
   "source": []
  }
 ],
 "metadata": {
  "kernelspec": {
   "display_name": "Python 3 (ipykernel)",
   "language": "python",
   "name": "python3"
  },
  "language_info": {
   "codemirror_mode": {
    "name": "ipython",
    "version": 3
   },
   "file_extension": ".py",
   "mimetype": "text/x-python",
   "name": "python",
   "nbconvert_exporter": "python",
   "pygments_lexer": "ipython3",
   "version": "3.11.4"
  }
 },
 "nbformat": 4,
 "nbformat_minor": 5
}
