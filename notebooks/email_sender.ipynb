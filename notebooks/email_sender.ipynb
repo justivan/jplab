{
 "cells": [
  {
   "cell_type": "code",
   "execution_count": 1,
   "id": "68fa49b0-0ec1-499b-940a-505b8fce7f76",
   "metadata": {},
   "outputs": [],
   "source": [
    "import os\n",
    "import smtplib\n",
    "import ssl\n",
    "from email import encoders\n",
    "from email.mime.base import MIMEBase\n",
    "from email.mime.multipart import MIMEMultipart\n",
    "from email.mime.text import MIMEText\n",
    "\n",
    "from config import Config"
   ]
  },
  {
   "cell_type": "code",
   "execution_count": 2,
   "id": "be70e20c-1a99-465c-9902-111abe919f92",
   "metadata": {},
   "outputs": [],
   "source": [
    "server = Config.MAIL_SERVER\n",
    "port = Config.MAIL_PORT\n",
    "username = Config.MAIL_USERNAME\n",
    "password = Config.MAIL_PASSWORD"
   ]
  },
  {
   "cell_type": "code",
   "execution_count": 3,
   "id": "49cb04fb-6a4f-43f2-b043-38638404b4e4",
   "metadata": {},
   "outputs": [],
   "source": [
    "message = MIMEMultipart(\"alternative\")\n",
    "message[\"From\"] = \"ivan.orara@meetingpointuae.com\"\n",
    "message[\"To\"] = \"ivan.orara@meetingpointuae.com\"\n",
    "message[\"Subject\"] = \"Test Email\""
   ]
  },
  {
   "cell_type": "code",
   "execution_count": 4,
   "id": "8d1f4a55-eb4a-4641-a356-6945f191586f",
   "metadata": {},
   "outputs": [],
   "source": [
    "email_content = \"\"\"\n",
    "    This is an automated report.\n",
    "\n",
    "    Please do not reply.\n",
    "\"\"\"\n",
    "\n",
    "html_content = \"\"\"\n",
    "    <!DOCTYPE html PUBLIC \"-//W3C//DTD XHTML 1.0 Strict//EN\" \"http://www.w3.org/TR/xhtml1/DTD/xhtml1-strict.dtd\">\n",
    "    <html xmlns=\"http://www.w3.org/1999/xhtml\">\n",
    "    <head>\n",
    "    <meta http-equiv=\"Content-Type\" content=\"text/html; charset=utf-8\" />\n",
    "    <meta name=\"viewport\" content=\"width=device-width\" />\n",
    "    <title>Title</title>\n",
    "    </head>\n",
    "\n",
    "    <body>\n",
    "    <table class=\"body\" data-made-with-foundation>\n",
    "        <tr>\n",
    "        <td align=\"left\" valign=\"top\" style=\"margin: 0px; color: #17202A; text-align: left; font-family: arial; font-size: 14px;\">\n",
    "            <p>This is an automated report.</p>\n",
    "            <p>Please do not reply.</p>          \n",
    "        </td>\n",
    "        </tr>\n",
    "    </table>\n",
    "    </body>\n",
    "    </html>\n",
    "\"\"\""
   ]
  },
  {
   "cell_type": "code",
   "execution_count": 5,
   "id": "d4d2bd3c-d666-44c1-ad11-86849d7a7e42",
   "metadata": {},
   "outputs": [],
   "source": [
    "message.attach(MIMEText(html_content, \"html\"))\n",
    "message.attach(MIMEText(email_content, \"plain\"))"
   ]
  },
  {
   "cell_type": "code",
   "execution_count": 6,
   "id": "d8de8ccf-0025-4b4d-8cd1-0a13a55aa915",
   "metadata": {},
   "outputs": [],
   "source": [
    "# Log in to server using secure context and send email\n",
    "try:\n",
    "    context = ssl.create_default_context()\n",
    "    with smtplib.SMTP(server, port) as server:\n",
    "        server.starttls(context=context)  # Secure the connection with TLS\n",
    "        server.login(username, password)\n",
    "        server.send_message(message)\n",
    "except Exception as e:\n",
    "    print(\"{}\".format(e))"
   ]
  },
  {
   "cell_type": "code",
   "execution_count": null,
   "id": "75e6c337-213d-476f-9108-17ba035b0d94",
   "metadata": {},
   "outputs": [],
   "source": []
  }
 ],
 "metadata": {
  "kernelspec": {
   "display_name": "Python 3 (ipykernel)",
   "language": "python",
   "name": "python3"
  },
  "language_info": {
   "codemirror_mode": {
    "name": "ipython",
    "version": 3
   },
   "file_extension": ".py",
   "mimetype": "text/x-python",
   "name": "python",
   "nbconvert_exporter": "python",
   "pygments_lexer": "ipython3",
   "version": "3.11.4"
  }
 },
 "nbformat": 4,
 "nbformat_minor": 5
}
