{
 "cells": [
  {
   "cell_type": "code",
   "execution_count": 1,
   "id": "f24c26a6-6331-4301-ab39-191548d65cd7",
   "metadata": {},
   "outputs": [],
   "source": [
    "from datetime import datetime, timedelta\n",
    "\n",
    "import pandas as pd\n",
    "from database import Database\n",
    "from email_sender import EmailSender\n",
    "from excel_writer import ExcelWriter\n",
    "from sqlalchemy import select"
   ]
  },
  {
   "cell_type": "code",
   "execution_count": 2,
   "id": "a3dd2055-db6d-43af-b66c-6aaafd087bfc",
   "metadata": {},
   "outputs": [
    {
     "name": "stderr",
     "output_type": "stream",
     "text": [
      "/home/jovyan/work/database.py:34: SAWarning: Did not recognize type 'geometry' of column 'geom'\n",
      "  Table(\n"
     ]
    }
   ],
   "source": [
    "db = Database()"
   ]
  },
  {
   "cell_type": "code",
   "execution_count": 3,
   "id": "09469612-3ac3-4611-8d95-7ab317ddc2b4",
   "metadata": {},
   "outputs": [
    {
     "data": {
      "text/plain": [
       "(datetime.date(2024, 2, 18), datetime.date(2024, 2, 24))"
      ]
     },
     "execution_count": 3,
     "metadata": {},
     "output_type": "execute_result"
    }
   ],
   "source": [
    "date_fr = datetime.now().date()\n",
    "date_to = date_fr + timedelta(days=6)\n",
    "date_fr, date_to"
   ]
  },
  {
   "cell_type": "code",
   "execution_count": 4,
   "id": "e1ee6257-df8c-4123-bf00-7a5b228658ba",
   "metadata": {},
   "outputs": [],
   "source": [
    "select_bookings = (\n",
    "    select(\n",
    "        db.clients_operator.c.short_name.label(\"operator_name\"),\n",
    "        db.gwg_reservation.c.bkg_ref,\n",
    "        db.mapping_hotel.c.external_name.label(\"hotel_name\"),\n",
    "        db.gwg_reservation.c.guest_name,\n",
    "        db.gwg_reservation.c.sales_date,\n",
    "        db.gwg_reservation.c.in_date,\n",
    "        db.gwg_reservation.c.out_date,\n",
    "        db.gwg_reservation.c.room_type,\n",
    "        db.gwg_reservation.c.meal,\n",
    "        db.gwg_reservation.c.adult,\n",
    "        db.gwg_reservation.c.child,\n",
    "        db.gwg_reservation.c.days,\n",
    "    )\n",
    "    .outerjoin(\n",
    "        db.mapping_hotel,\n",
    "        db.gwg_reservation.c.hotel_id == db.mapping_hotel.c.external_code,\n",
    "    )\n",
    "    .outerjoin(\n",
    "        db.mapping_operator,\n",
    "        db.gwg_reservation.c.operator_id == db.mapping_operator.c.external_code,\n",
    "    )\n",
    "    .outerjoin(db.clients_operator)\n",
    "    .where(\n",
    "        db.gwg_reservation.c.hotel_id.in_([202191, 195820, 193348, 193352]),\n",
    "        db.gwg_reservation.c.in_date.between(date_fr, date_to),\n",
    "        db.gwg_reservation.c.status != \"Can\",\n",
    "    )\n",
    "    .order_by(\n",
    "        db.mapping_hotel.c.external_name,\n",
    "        db.gwg_reservation.c.in_date,\n",
    "        db.gwg_reservation.c.ref_id,\n",
    "    )\n",
    ")"
   ]
  },
  {
   "cell_type": "code",
   "execution_count": 5,
   "id": "de33adb3-eeb2-4efe-a49c-6abee1026ec3",
   "metadata": {},
   "outputs": [],
   "source": [
    "df = pd.read_sql(sql=select_bookings, con=db.engine.connect())"
   ]
  },
  {
   "cell_type": "code",
   "execution_count": 6,
   "id": "e17f0528-77d6-4887-93d1-16cfc3fa08a4",
   "metadata": {},
   "outputs": [
    {
     "data": {
      "text/plain": [
       "(116, 12)"
      ]
     },
     "execution_count": 6,
     "metadata": {},
     "output_type": "execute_result"
    }
   ],
   "source": [
    "df.shape"
   ]
  },
  {
   "cell_type": "code",
   "execution_count": 7,
   "id": "064e421e-116f-4f39-ac1e-509a33d73272",
   "metadata": {},
   "outputs": [
    {
     "data": {
      "text/html": [
       "<div>\n",
       "<style scoped>\n",
       "    .dataframe tbody tr th:only-of-type {\n",
       "        vertical-align: middle;\n",
       "    }\n",
       "\n",
       "    .dataframe tbody tr th {\n",
       "        vertical-align: top;\n",
       "    }\n",
       "\n",
       "    .dataframe thead th {\n",
       "        text-align: right;\n",
       "    }\n",
       "</style>\n",
       "<table border=\"1\" class=\"dataframe\">\n",
       "  <thead>\n",
       "    <tr style=\"text-align: right;\">\n",
       "      <th></th>\n",
       "      <th>operator_name</th>\n",
       "      <th>bkg_ref</th>\n",
       "      <th>hotel_name</th>\n",
       "      <th>guest_name</th>\n",
       "      <th>sales_date</th>\n",
       "      <th>in_date</th>\n",
       "      <th>out_date</th>\n",
       "      <th>room_type</th>\n",
       "      <th>meal</th>\n",
       "      <th>adult</th>\n",
       "      <th>child</th>\n",
       "      <th>days</th>\n",
       "    </tr>\n",
       "  </thead>\n",
       "  <tbody>\n",
       "    <tr>\n",
       "      <th>0</th>\n",
       "      <td>FTIDE</td>\n",
       "      <td>LLDPW</td>\n",
       "      <td>FANAR HOTEL &amp; RESIDENCES</td>\n",
       "      <td>MARIA HAUSINGER</td>\n",
       "      <td>2023-09-02</td>\n",
       "      <td>2024-02-18</td>\n",
       "      <td>2024-03-02</td>\n",
       "      <td>Twin Superior</td>\n",
       "      <td>AI</td>\n",
       "      <td>2</td>\n",
       "      <td>0</td>\n",
       "      <td>13</td>\n",
       "    </tr>\n",
       "    <tr>\n",
       "      <th>1</th>\n",
       "      <td>BIGDE</td>\n",
       "      <td>4603908</td>\n",
       "      <td>FANAR HOTEL &amp; RESIDENCES</td>\n",
       "      <td>MORITZ JUHNKE</td>\n",
       "      <td>2023-09-11</td>\n",
       "      <td>2024-02-18</td>\n",
       "      <td>2024-02-28</td>\n",
       "      <td>Deluxe Room</td>\n",
       "      <td>AI</td>\n",
       "      <td>2</td>\n",
       "      <td>0</td>\n",
       "      <td>10</td>\n",
       "    </tr>\n",
       "    <tr>\n",
       "      <th>2</th>\n",
       "      <td>BIGDE</td>\n",
       "      <td>4603904</td>\n",
       "      <td>FANAR HOTEL &amp; RESIDENCES</td>\n",
       "      <td>DANIEL JUHNKE</td>\n",
       "      <td>2023-09-11</td>\n",
       "      <td>2024-02-18</td>\n",
       "      <td>2024-02-28</td>\n",
       "      <td>Deluxe Room</td>\n",
       "      <td>AI</td>\n",
       "      <td>2</td>\n",
       "      <td>0</td>\n",
       "      <td>10</td>\n",
       "    </tr>\n",
       "    <tr>\n",
       "      <th>3</th>\n",
       "      <td>FTIDE</td>\n",
       "      <td>CTR3E</td>\n",
       "      <td>FANAR HOTEL &amp; RESIDENCES</td>\n",
       "      <td>PHILIPP GAJECK</td>\n",
       "      <td>2023-09-26</td>\n",
       "      <td>2024-02-18</td>\n",
       "      <td>2024-02-28</td>\n",
       "      <td>Deluxe Room</td>\n",
       "      <td>AI</td>\n",
       "      <td>2</td>\n",
       "      <td>0</td>\n",
       "      <td>10</td>\n",
       "    </tr>\n",
       "    <tr>\n",
       "      <th>4</th>\n",
       "      <td>FTIDE</td>\n",
       "      <td>L45FS</td>\n",
       "      <td>FANAR HOTEL &amp; RESIDENCES</td>\n",
       "      <td>JOS HIMMETSBERGER, WERNER JOS</td>\n",
       "      <td>2023-10-25</td>\n",
       "      <td>2024-02-18</td>\n",
       "      <td>2024-02-24</td>\n",
       "      <td>Deluxe Suite</td>\n",
       "      <td>AI</td>\n",
       "      <td>2</td>\n",
       "      <td>1</td>\n",
       "      <td>6</td>\n",
       "    </tr>\n",
       "  </tbody>\n",
       "</table>\n",
       "</div>"
      ],
      "text/plain": [
       "  operator_name  bkg_ref                hotel_name  \\\n",
       "0         FTIDE    LLDPW  FANAR HOTEL & RESIDENCES   \n",
       "1         BIGDE  4603908  FANAR HOTEL & RESIDENCES   \n",
       "2         BIGDE  4603904  FANAR HOTEL & RESIDENCES   \n",
       "3         FTIDE    CTR3E  FANAR HOTEL & RESIDENCES   \n",
       "4         FTIDE    L45FS  FANAR HOTEL & RESIDENCES   \n",
       "\n",
       "                      guest_name  sales_date     in_date    out_date  \\\n",
       "0                MARIA HAUSINGER  2023-09-02  2024-02-18  2024-03-02   \n",
       "1                  MORITZ JUHNKE  2023-09-11  2024-02-18  2024-02-28   \n",
       "2                  DANIEL JUHNKE  2023-09-11  2024-02-18  2024-02-28   \n",
       "3                 PHILIPP GAJECK  2023-09-26  2024-02-18  2024-02-28   \n",
       "4  JOS HIMMETSBERGER, WERNER JOS  2023-10-25  2024-02-18  2024-02-24   \n",
       "\n",
       "        room_type meal  adult  child  days  \n",
       "0  Twin Superior    AI      2      0    13  \n",
       "1     Deluxe Room   AI      2      0    10  \n",
       "2     Deluxe Room   AI      2      0    10  \n",
       "3     Deluxe Room   AI      2      0    10  \n",
       "4    Deluxe Suite   AI      2      1     6  "
      ]
     },
     "execution_count": 7,
     "metadata": {},
     "output_type": "execute_result"
    }
   ],
   "source": [
    "df.head()"
   ]
  },
  {
   "cell_type": "code",
   "execution_count": 8,
   "id": "10a42fe0-d68c-4262-8a07-37bb2247619f",
   "metadata": {},
   "outputs": [],
   "source": [
    "outfile = f'Orascom_{date_fr.strftime(\"%Y_%m_%d\")}_{date_to.strftime(\"%Y_%m_%d\")}.xlsx'"
   ]
  },
  {
   "cell_type": "code",
   "execution_count": 9,
   "id": "22db0896-7bd7-46f7-8499-e962015a5b5a",
   "metadata": {},
   "outputs": [],
   "source": [
    "excel_writer = ExcelWriter([df], outfile)\n",
    "excel_writer.write_to_excel(date_column=[4, 5, 6])\n",
    "excel_writer.writer.close()"
   ]
  },
  {
   "cell_type": "code",
   "execution_count": 12,
   "id": "aeaaab54-da25-40c8-8400-66f9580773fb",
   "metadata": {},
   "outputs": [],
   "source": [
    "from email_sender import EmailSender\n",
    "\n",
    "sender = EmailSender(\n",
    "    subject=\"Orascom Weekly Arrival\",\n",
    "    to=[\"analyst-contracting@meetingpointuae.com\"],\n",
    ")\n",
    "\n",
    "sender.send_email(\n",
    "    [outfile],\n",
    "    \"\"\"\n",
    "        <p>This is an automated report.</p>\n",
    "        <p>Please do not reply.</p>\n",
    "    \"\"\",\n",
    ")"
   ]
  },
  {
   "cell_type": "code",
   "execution_count": null,
   "id": "0f4891a7-c021-4381-85e5-54bbd18d2f3d",
   "metadata": {},
   "outputs": [],
   "source": []
  }
 ],
 "metadata": {
  "kernelspec": {
   "display_name": "Python 3 (ipykernel)",
   "language": "python",
   "name": "python3"
  },
  "language_info": {
   "codemirror_mode": {
    "name": "ipython",
    "version": 3
   },
   "file_extension": ".py",
   "mimetype": "text/x-python",
   "name": "python",
   "nbconvert_exporter": "python",
   "pygments_lexer": "ipython3",
   "version": "3.11.4"
  }
 },
 "nbformat": 4,
 "nbformat_minor": 5
}
