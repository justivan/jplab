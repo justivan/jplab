{
 "cells": [
  {
   "cell_type": "code",
   "execution_count": 1,
   "id": "37051ebc-33c6-43e4-b023-d328f7ea6697",
   "metadata": {},
   "outputs": [],
   "source": [
    "from datetime import datetime, timedelta\n",
    "\n",
    "import numpy as np\n",
    "import pandas as pd\n",
    "import pytz\n",
    "from database import Database\n",
    "from excel_writer import ExcelWriter\n",
    "from sqlalchemy import func, select\n",
    "from utils import OperatorCost"
   ]
  },
  {
   "cell_type": "code",
   "execution_count": 2,
   "id": "2cb9db0a-6081-42a7-9530-8dad71552884",
   "metadata": {},
   "outputs": [],
   "source": [
    "local_tz = pytz.timezone(\"Asia/Dubai\")\n",
    "current_date = datetime.now(local_tz)\n",
    "\n",
    "operator_cost = OperatorCost()"
   ]
  },
  {
   "cell_type": "code",
   "execution_count": 3,
   "id": "51e7c50e-24c0-4457-899b-879fcdb04b9f",
   "metadata": {},
   "outputs": [
    {
     "name": "stderr",
     "output_type": "stream",
     "text": [
      "/home/jovyan/work/database.py:34: SAWarning: Did not recognize type 'geometry' of column 'geom'\n",
      "  Table(\n"
     ]
    }
   ],
   "source": [
    "db = Database()\n",
    "\n",
    "select_bookings = (\n",
    "    select(\n",
    "        db.users_user.c.name.label(\"purchase_manager\"),\n",
    "        db.gwg_reservation.c.status,\n",
    "        db.clients_operator.c.short_name.label(\"operator_name\"),\n",
    "        db.gwg_reservation.c.ref_id,\n",
    "        db.gwg_reservation.c.res_id,\n",
    "        db.gwg_reservation.c.operator_code,\n",
    "        db.gwg_reservation.c.bkg_ref,\n",
    "        db.mapping_hotel.c.external_name.label(\"hotel_name\"),\n",
    "        db.gwg_reservation.c.guest_name,\n",
    "        db.gwg_reservation.c.sales_date,\n",
    "        db.gwg_reservation.c.in_date,\n",
    "        db.gwg_reservation.c.out_date,\n",
    "        db.gwg_reservation.c.room_type,\n",
    "        db.gwg_reservation.c.meal,\n",
    "        db.gwg_reservation.c.adult,\n",
    "        db.gwg_reservation.c.child,\n",
    "        db.gwg_reservation.c.days,\n",
    "        db.gwg_reservation.c.purchase_price,\n",
    "        db.gwg_reservation.c.sales_price,\n",
    "        db.gwg_reservation.c.purchase_contract_id,\n",
    "        db.gwg_reservation.c.purchase_spo_id,\n",
    "        db.gwg_reservation.c.purchase_spo_code.label(\"purchase_code\"),\n",
    "        db.gwg_reservation.c.sales_contract_id,\n",
    "        db.gwg_reservation.c.sales_spo_id,\n",
    "        db.gwg_reservation.c.sales_spo_code.label(\"sales_code\"),\n",
    "        func.count()\n",
    "        .over(\n",
    "            partition_by=(\n",
    "                db.gwg_reservation.c.bkg_ref,\n",
    "                db.gwg_reservation.c.operator_code,\n",
    "            )\n",
    "        )\n",
    "        .label(\"count\"),\n",
    "    )\n",
    "    .outerjoin(\n",
    "        db.mapping_hotel,\n",
    "        db.gwg_reservation.c.hotel_id == db.mapping_hotel.c.external_code,\n",
    "    )\n",
    "    .outerjoin(\n",
    "        db.mapping_operator,\n",
    "        db.gwg_reservation.c.operator_id == db.mapping_operator.c.external_code,\n",
    "    )\n",
    "    .outerjoin(db.accommodation_hotel)\n",
    "    .outerjoin(db.accommodation_purchase_manager)\n",
    "    .outerjoin(db.users_user)\n",
    "    .outerjoin(db.definitions_area)\n",
    "    .outerjoin(db.definitions_region)\n",
    "    .outerjoin(db.clients_operator)\n",
    "    .where(\n",
    "        func.date(db.gwg_reservation.c.create_date) == current_date.date(),\n",
    "        db.gwg_reservation.c.status != \"Can\",\n",
    "        db.clients_operator.c.category == \"IC\",\n",
    "        db.mapping_operator.c.external_code != 1107,\n",
    "    )\n",
    "    .order_by(\n",
    "        db.accommodation_hotel.c.name,\n",
    "        db.gwg_reservation.c.in_date,\n",
    "        db.gwg_reservation.c.ref_id,\n",
    "    )\n",
    ")"
   ]
  },
  {
   "cell_type": "code",
   "execution_count": 4,
   "id": "347babce-90b2-4074-8df8-4ec04c662d70",
   "metadata": {},
   "outputs": [
    {
     "ename": "AttributeError",
     "evalue": "'NoneType' object has no attribute 'to_excel'",
     "output_type": "error",
     "traceback": [
      "\u001b[0;31m---------------------------------------------------------------------------\u001b[0m",
      "\u001b[0;31mAttributeError\u001b[0m                            Traceback (most recent call last)",
      "Cell \u001b[0;32mIn[4], line 14\u001b[0m\n\u001b[1;32m     11\u001b[0m outfile \u001b[38;5;241m=\u001b[39m \u001b[38;5;124mf\u001b[39m\u001b[38;5;124m'\u001b[39m\u001b[38;5;124mGWG_\u001b[39m\u001b[38;5;132;01m{\u001b[39;00mdestination\u001b[38;5;132;01m}\u001b[39;00m\u001b[38;5;124m_RESLIST_\u001b[39m\u001b[38;5;132;01m{\u001b[39;00mdatetime\u001b[38;5;241m.\u001b[39mnow()\u001b[38;5;241m.\u001b[39mstrftime(\u001b[38;5;124m\"\u001b[39m\u001b[38;5;124m%\u001b[39m\u001b[38;5;124mY_\u001b[39m\u001b[38;5;124m%\u001b[39m\u001b[38;5;124mm_\u001b[39m\u001b[38;5;132;01m%d\u001b[39;00m\u001b[38;5;124m\"\u001b[39m)\u001b[38;5;132;01m}\u001b[39;00m\u001b[38;5;124m.xlsx\u001b[39m\u001b[38;5;124m'\u001b[39m\n\u001b[1;32m     13\u001b[0m excel_writer \u001b[38;5;241m=\u001b[39m ExcelWriter([bookings], outfile)\n\u001b[0;32m---> 14\u001b[0m \u001b[43mexcel_writer\u001b[49m\u001b[38;5;241;43m.\u001b[39;49m\u001b[43mwrite_to_excel\u001b[49m\u001b[43m(\u001b[49m\u001b[43mnumber_column\u001b[49m\u001b[38;5;241;43m=\u001b[39;49m\u001b[43m[\u001b[49m\u001b[38;5;241;43m17\u001b[39;49m\u001b[43m,\u001b[49m\u001b[43m \u001b[49m\u001b[38;5;241;43m18\u001b[39;49m\u001b[43m,\u001b[49m\u001b[43m \u001b[49m\u001b[38;5;241;43m19\u001b[39;49m\u001b[43m]\u001b[49m\u001b[43m,\u001b[49m\u001b[43m \u001b[49m\u001b[43mdate_column\u001b[49m\u001b[38;5;241;43m=\u001b[39;49m\u001b[43m[\u001b[49m\u001b[38;5;241;43m9\u001b[39;49m\u001b[43m,\u001b[49m\u001b[43m \u001b[49m\u001b[38;5;241;43m10\u001b[39;49m\u001b[43m,\u001b[49m\u001b[43m \u001b[49m\u001b[38;5;241;43m11\u001b[39;49m\u001b[43m]\u001b[49m\u001b[43m)\u001b[49m\n\u001b[1;32m     15\u001b[0m excel_writer\u001b[38;5;241m.\u001b[39mwrite_diff_column(bookings)\n\u001b[1;32m     16\u001b[0m excel_writer\u001b[38;5;241m.\u001b[39mwrite_margin_column(bookings)\n",
      "File \u001b[0;32m~/work/excel_writer.py:14\u001b[0m, in \u001b[0;36mExcelWriter.write_to_excel\u001b[0;34m(self, number_column, date_column)\u001b[0m\n\u001b[1;32m     12\u001b[0m \u001b[38;5;28;01mfor\u001b[39;00m df \u001b[38;5;129;01min\u001b[39;00m \u001b[38;5;28mself\u001b[39m\u001b[38;5;241m.\u001b[39mdfs:\n\u001b[1;32m     13\u001b[0m     sheet \u001b[38;5;241m=\u001b[39m df\u001b[38;5;241m.\u001b[39mname \u001b[38;5;28;01mif\u001b[39;00m \u001b[38;5;28mhasattr\u001b[39m(df, \u001b[38;5;124m\"\u001b[39m\u001b[38;5;124mname\u001b[39m\u001b[38;5;124m\"\u001b[39m) \u001b[38;5;28;01melse\u001b[39;00m \u001b[38;5;124m\"\u001b[39m\u001b[38;5;124mRESLIST\u001b[39m\u001b[38;5;124m\"\u001b[39m\n\u001b[0;32m---> 14\u001b[0m     \u001b[38;5;28;43mself\u001b[39;49m\u001b[38;5;241;43m.\u001b[39;49m\u001b[43m_write_dataframe\u001b[49m\u001b[43m(\u001b[49m\u001b[43mdf\u001b[49m\u001b[43m,\u001b[49m\u001b[43m \u001b[49m\u001b[43msheet\u001b[49m\u001b[43m)\u001b[49m\n\u001b[1;32m     15\u001b[0m     \u001b[38;5;28mself\u001b[39m\u001b[38;5;241m.\u001b[39m_add_formats()\n\u001b[1;32m     16\u001b[0m     \u001b[38;5;28mself\u001b[39m\u001b[38;5;241m.\u001b[39m_add_table(df, sheet)\n",
      "File \u001b[0;32m~/work/excel_writer.py:65\u001b[0m, in \u001b[0;36mExcelWriter._write_dataframe\u001b[0;34m(self, df, sheet)\u001b[0m\n\u001b[1;32m     64\u001b[0m \u001b[38;5;28;01mdef\u001b[39;00m \u001b[38;5;21m_write_dataframe\u001b[39m(\u001b[38;5;28mself\u001b[39m, df, sheet):\n\u001b[0;32m---> 65\u001b[0m     \u001b[43mdf\u001b[49m\u001b[38;5;241;43m.\u001b[39;49m\u001b[43mto_excel\u001b[49m(\n\u001b[1;32m     66\u001b[0m         \u001b[38;5;28mself\u001b[39m\u001b[38;5;241m.\u001b[39mwriter,\n\u001b[1;32m     67\u001b[0m         sheet_name\u001b[38;5;241m=\u001b[39msheet,\n\u001b[1;32m     68\u001b[0m         startrow\u001b[38;5;241m=\u001b[39m\u001b[38;5;241m1\u001b[39m,\n\u001b[1;32m     69\u001b[0m         header\u001b[38;5;241m=\u001b[39m\u001b[38;5;28;01mFalse\u001b[39;00m,\n\u001b[1;32m     70\u001b[0m         index\u001b[38;5;241m=\u001b[39m\u001b[38;5;28;01mFalse\u001b[39;00m,\n\u001b[1;32m     71\u001b[0m     )\n",
      "\u001b[0;31mAttributeError\u001b[0m: 'NoneType' object has no attribute 'to_excel'"
     ]
    }
   ],
   "source": [
    "export = []\n",
    "\n",
    "for destination in [\"AE\", \"OM\", \"SA\"]:\n",
    "    df = pd.read_sql(\n",
    "        sql=select_bookings.where(db.definitions_region.c.country_code == destination),\n",
    "        con=db.engine.connect(),\n",
    "    )\n",
    "\n",
    "    bookings = operator_cost.set(df)\n",
    "\n",
    "    outfile = f'GWG_{destination}_RESLIST_{datetime.now().strftime(\"%Y_%m_%d\")}.xlsx'\n",
    "\n",
    "    excel_writer = ExcelWriter([bookings], outfile)\n",
    "    excel_writer.write_to_excel(number_column=[17, 18, 19], date_column=[9, 10, 11])\n",
    "    excel_writer.write_diff_column(bookings)\n",
    "    excel_writer.write_margin_column(bookings)\n",
    "    excel_writer.set_conditional_format(bookings)\n",
    "    excel_writer.writer.close()\n",
    "\n",
    "    export.append(outfile)"
   ]
  },
  {
   "cell_type": "code",
   "execution_count": null,
   "id": "99481301-66db-4ec9-b818-0cbb91ee97f3",
   "metadata": {},
   "outputs": [],
   "source": [
    "from email_sender import EmailSender\n",
    "\n",
    "sender = EmailSender(\n",
    "    subject=f\"Yesterday's Booking Costing - {(current_date - timedelta(1)).strftime('%d %b %Y')} (On Demand)\",\n",
    "    to=[\"analyst-contracting@meetingpointuae.com\"],\n",
    ")\n",
    "\n",
    "sender.send_email(\n",
    "    export,\n",
    "    \"\"\"\n",
    "        <p>This is an automated report.</p>\n",
    "        <p>Please do not reply.</p>\n",
    "    \"\"\",\n",
    ")"
   ]
  },
  {
   "cell_type": "code",
   "execution_count": null,
   "id": "8341c5a8-4023-4b49-a656-0fb23e692fa5",
   "metadata": {},
   "outputs": [],
   "source": []
  }
 ],
 "metadata": {
  "kernelspec": {
   "display_name": "Python 3 (ipykernel)",
   "language": "python",
   "name": "python3"
  },
  "language_info": {
   "codemirror_mode": {
    "name": "ipython",
    "version": 3
   },
   "file_extension": ".py",
   "mimetype": "text/x-python",
   "name": "python",
   "nbconvert_exporter": "python",
   "pygments_lexer": "ipython3",
   "version": "3.11.4"
  }
 },
 "nbformat": 4,
 "nbformat_minor": 5
}
