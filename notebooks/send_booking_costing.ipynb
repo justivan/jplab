{
 "cells": [
  {
   "cell_type": "code",
   "execution_count": 1,
   "id": "37051ebc-33c6-43e4-b023-d328f7ea6697",
   "metadata": {},
   "outputs": [],
   "source": [
    "from datetime import datetime\n",
    "\n",
    "import numpy as np\n",
    "import pandas as pd\n",
    "import pytz\n",
    "from database import Database\n",
    "from excel_writer import ExcelWriter\n",
    "from sqlalchemy import func, select\n",
    "from utils import OperatorCost"
   ]
  },
  {
   "cell_type": "code",
   "execution_count": 2,
   "id": "51e7c50e-24c0-4457-899b-879fcdb04b9f",
   "metadata": {},
   "outputs": [
    {
     "name": "stderr",
     "output_type": "stream",
     "text": [
      "/home/jovyan/work/database.py:34: SAWarning: Did not recognize type 'geometry' of column 'geom'\n",
      "  Table(\n"
     ]
    },
    {
     "ename": "NameError",
     "evalue": "name 'current_date' is not defined",
     "output_type": "error",
     "traceback": [
      "\u001b[0;31m---------------------------------------------------------------------------\u001b[0m",
      "\u001b[0;31mNameError\u001b[0m                                 Traceback (most recent call last)",
      "Cell \u001b[0;32mIn[2], line 54\u001b[0m\n\u001b[1;32m      1\u001b[0m db \u001b[38;5;241m=\u001b[39m Database()\n\u001b[1;32m      3\u001b[0m select_bookings \u001b[38;5;241m=\u001b[39m (\n\u001b[1;32m      4\u001b[0m     select(\n\u001b[1;32m      5\u001b[0m         db\u001b[38;5;241m.\u001b[39musers_user\u001b[38;5;241m.\u001b[39mc\u001b[38;5;241m.\u001b[39mname\u001b[38;5;241m.\u001b[39mlabel(\u001b[38;5;124m\"\u001b[39m\u001b[38;5;124mpurchase_manager\u001b[39m\u001b[38;5;124m\"\u001b[39m),\n\u001b[1;32m      6\u001b[0m         db\u001b[38;5;241m.\u001b[39mgwg_reservation\u001b[38;5;241m.\u001b[39mc\u001b[38;5;241m.\u001b[39mstatus,\n\u001b[1;32m      7\u001b[0m         db\u001b[38;5;241m.\u001b[39mclients_operator\u001b[38;5;241m.\u001b[39mc\u001b[38;5;241m.\u001b[39mshort_name\u001b[38;5;241m.\u001b[39mlabel(\u001b[38;5;124m\"\u001b[39m\u001b[38;5;124moperator_name\u001b[39m\u001b[38;5;124m\"\u001b[39m),\n\u001b[1;32m      8\u001b[0m         db\u001b[38;5;241m.\u001b[39mgwg_reservation\u001b[38;5;241m.\u001b[39mc\u001b[38;5;241m.\u001b[39mref_id,\n\u001b[1;32m      9\u001b[0m         db\u001b[38;5;241m.\u001b[39mgwg_reservation\u001b[38;5;241m.\u001b[39mc\u001b[38;5;241m.\u001b[39mres_id,\n\u001b[1;32m     10\u001b[0m         db\u001b[38;5;241m.\u001b[39mgwg_reservation\u001b[38;5;241m.\u001b[39mc\u001b[38;5;241m.\u001b[39moperator_code,\n\u001b[1;32m     11\u001b[0m         db\u001b[38;5;241m.\u001b[39mgwg_reservation\u001b[38;5;241m.\u001b[39mc\u001b[38;5;241m.\u001b[39mbkg_ref,\n\u001b[1;32m     12\u001b[0m         db\u001b[38;5;241m.\u001b[39mmapping_hotel\u001b[38;5;241m.\u001b[39mc\u001b[38;5;241m.\u001b[39mexternal_name\u001b[38;5;241m.\u001b[39mlabel(\u001b[38;5;124m\"\u001b[39m\u001b[38;5;124mhotel_name\u001b[39m\u001b[38;5;124m\"\u001b[39m),\n\u001b[1;32m     13\u001b[0m         db\u001b[38;5;241m.\u001b[39mgwg_reservation\u001b[38;5;241m.\u001b[39mc\u001b[38;5;241m.\u001b[39mguest_name,\n\u001b[1;32m     14\u001b[0m         db\u001b[38;5;241m.\u001b[39mgwg_reservation\u001b[38;5;241m.\u001b[39mc\u001b[38;5;241m.\u001b[39msales_date,\n\u001b[1;32m     15\u001b[0m         db\u001b[38;5;241m.\u001b[39mgwg_reservation\u001b[38;5;241m.\u001b[39mc\u001b[38;5;241m.\u001b[39min_date,\n\u001b[1;32m     16\u001b[0m         db\u001b[38;5;241m.\u001b[39mgwg_reservation\u001b[38;5;241m.\u001b[39mc\u001b[38;5;241m.\u001b[39mout_date,\n\u001b[1;32m     17\u001b[0m         db\u001b[38;5;241m.\u001b[39mgwg_reservation\u001b[38;5;241m.\u001b[39mc\u001b[38;5;241m.\u001b[39mroom_type,\n\u001b[1;32m     18\u001b[0m         db\u001b[38;5;241m.\u001b[39mgwg_reservation\u001b[38;5;241m.\u001b[39mc\u001b[38;5;241m.\u001b[39mmeal,\n\u001b[1;32m     19\u001b[0m         db\u001b[38;5;241m.\u001b[39mgwg_reservation\u001b[38;5;241m.\u001b[39mc\u001b[38;5;241m.\u001b[39madult,\n\u001b[1;32m     20\u001b[0m         db\u001b[38;5;241m.\u001b[39mgwg_reservation\u001b[38;5;241m.\u001b[39mc\u001b[38;5;241m.\u001b[39mchild,\n\u001b[1;32m     21\u001b[0m         db\u001b[38;5;241m.\u001b[39mgwg_reservation\u001b[38;5;241m.\u001b[39mc\u001b[38;5;241m.\u001b[39mdays,\n\u001b[1;32m     22\u001b[0m         db\u001b[38;5;241m.\u001b[39mgwg_reservation\u001b[38;5;241m.\u001b[39mc\u001b[38;5;241m.\u001b[39mpurchase_price,\n\u001b[1;32m     23\u001b[0m         db\u001b[38;5;241m.\u001b[39mgwg_reservation\u001b[38;5;241m.\u001b[39mc\u001b[38;5;241m.\u001b[39msales_price,\n\u001b[1;32m     24\u001b[0m         db\u001b[38;5;241m.\u001b[39mgwg_reservation\u001b[38;5;241m.\u001b[39mc\u001b[38;5;241m.\u001b[39mpurchase_contract_id,\n\u001b[1;32m     25\u001b[0m         db\u001b[38;5;241m.\u001b[39mgwg_reservation\u001b[38;5;241m.\u001b[39mc\u001b[38;5;241m.\u001b[39mpurchase_spo_id,\n\u001b[1;32m     26\u001b[0m         db\u001b[38;5;241m.\u001b[39mgwg_reservation\u001b[38;5;241m.\u001b[39mc\u001b[38;5;241m.\u001b[39mpurchase_spo_code\u001b[38;5;241m.\u001b[39mlabel(\u001b[38;5;124m\"\u001b[39m\u001b[38;5;124mpurchase_code\u001b[39m\u001b[38;5;124m\"\u001b[39m),\n\u001b[1;32m     27\u001b[0m         db\u001b[38;5;241m.\u001b[39mgwg_reservation\u001b[38;5;241m.\u001b[39mc\u001b[38;5;241m.\u001b[39msales_contract_id,\n\u001b[1;32m     28\u001b[0m         db\u001b[38;5;241m.\u001b[39mgwg_reservation\u001b[38;5;241m.\u001b[39mc\u001b[38;5;241m.\u001b[39msales_spo_id,\n\u001b[1;32m     29\u001b[0m         db\u001b[38;5;241m.\u001b[39mgwg_reservation\u001b[38;5;241m.\u001b[39mc\u001b[38;5;241m.\u001b[39msales_spo_code\u001b[38;5;241m.\u001b[39mlabel(\u001b[38;5;124m\"\u001b[39m\u001b[38;5;124msales_code\u001b[39m\u001b[38;5;124m\"\u001b[39m),\n\u001b[1;32m     30\u001b[0m         func\u001b[38;5;241m.\u001b[39mcount()\n\u001b[1;32m     31\u001b[0m         \u001b[38;5;241m.\u001b[39mover(\n\u001b[1;32m     32\u001b[0m             partition_by\u001b[38;5;241m=\u001b[39m(\n\u001b[1;32m     33\u001b[0m                 db\u001b[38;5;241m.\u001b[39mgwg_reservation\u001b[38;5;241m.\u001b[39mc\u001b[38;5;241m.\u001b[39mbkg_ref,\n\u001b[1;32m     34\u001b[0m                 db\u001b[38;5;241m.\u001b[39mgwg_reservation\u001b[38;5;241m.\u001b[39mc\u001b[38;5;241m.\u001b[39moperator_code,\n\u001b[1;32m     35\u001b[0m             )\n\u001b[1;32m     36\u001b[0m         )\n\u001b[1;32m     37\u001b[0m         \u001b[38;5;241m.\u001b[39mlabel(\u001b[38;5;124m\"\u001b[39m\u001b[38;5;124mcount\u001b[39m\u001b[38;5;124m\"\u001b[39m),\n\u001b[1;32m     38\u001b[0m     )\n\u001b[1;32m     39\u001b[0m     \u001b[38;5;241m.\u001b[39mouterjoin(\n\u001b[1;32m     40\u001b[0m         db\u001b[38;5;241m.\u001b[39mmapping_hotel,\n\u001b[1;32m     41\u001b[0m         db\u001b[38;5;241m.\u001b[39mgwg_reservation\u001b[38;5;241m.\u001b[39mc\u001b[38;5;241m.\u001b[39mhotel_id \u001b[38;5;241m==\u001b[39m db\u001b[38;5;241m.\u001b[39mmapping_hotel\u001b[38;5;241m.\u001b[39mc\u001b[38;5;241m.\u001b[39mexternal_code,\n\u001b[1;32m     42\u001b[0m     )\n\u001b[1;32m     43\u001b[0m     \u001b[38;5;241m.\u001b[39mouterjoin(\n\u001b[1;32m     44\u001b[0m         db\u001b[38;5;241m.\u001b[39mmapping_operator,\n\u001b[1;32m     45\u001b[0m         db\u001b[38;5;241m.\u001b[39mgwg_reservation\u001b[38;5;241m.\u001b[39mc\u001b[38;5;241m.\u001b[39moperator_id \u001b[38;5;241m==\u001b[39m db\u001b[38;5;241m.\u001b[39mmapping_operator\u001b[38;5;241m.\u001b[39mc\u001b[38;5;241m.\u001b[39mexternal_code,\n\u001b[1;32m     46\u001b[0m     )\n\u001b[1;32m     47\u001b[0m     \u001b[38;5;241m.\u001b[39mouterjoin(db\u001b[38;5;241m.\u001b[39maccommodation_hotel)\n\u001b[1;32m     48\u001b[0m     \u001b[38;5;241m.\u001b[39mouterjoin(db\u001b[38;5;241m.\u001b[39maccommodation_purchase_manager)\n\u001b[1;32m     49\u001b[0m     \u001b[38;5;241m.\u001b[39mouterjoin(db\u001b[38;5;241m.\u001b[39musers_user)\n\u001b[1;32m     50\u001b[0m     \u001b[38;5;241m.\u001b[39mouterjoin(db\u001b[38;5;241m.\u001b[39mdefinitions_area)\n\u001b[1;32m     51\u001b[0m     \u001b[38;5;241m.\u001b[39mouterjoin(db\u001b[38;5;241m.\u001b[39mdefinitions_region)\n\u001b[1;32m     52\u001b[0m     \u001b[38;5;241m.\u001b[39mouterjoin(db\u001b[38;5;241m.\u001b[39mclients_operator)\n\u001b[1;32m     53\u001b[0m     \u001b[38;5;241m.\u001b[39mwhere(\n\u001b[0;32m---> 54\u001b[0m         func\u001b[38;5;241m.\u001b[39mdate(db\u001b[38;5;241m.\u001b[39mgwg_reservation\u001b[38;5;241m.\u001b[39mc\u001b[38;5;241m.\u001b[39mcreate_date) \u001b[38;5;241m==\u001b[39m \u001b[43mcurrent_date\u001b[49m\u001b[38;5;241m.\u001b[39mdate(),\n\u001b[1;32m     55\u001b[0m         db\u001b[38;5;241m.\u001b[39mgwg_reservation\u001b[38;5;241m.\u001b[39mc\u001b[38;5;241m.\u001b[39mstatus \u001b[38;5;241m!=\u001b[39m \u001b[38;5;124m\"\u001b[39m\u001b[38;5;124mCan\u001b[39m\u001b[38;5;124m\"\u001b[39m,\n\u001b[1;32m     56\u001b[0m         db\u001b[38;5;241m.\u001b[39mclients_operator\u001b[38;5;241m.\u001b[39mc\u001b[38;5;241m.\u001b[39mcategory \u001b[38;5;241m==\u001b[39m \u001b[38;5;124m\"\u001b[39m\u001b[38;5;124mIC\u001b[39m\u001b[38;5;124m\"\u001b[39m,\n\u001b[1;32m     57\u001b[0m         db\u001b[38;5;241m.\u001b[39mmapping_operator\u001b[38;5;241m.\u001b[39mc\u001b[38;5;241m.\u001b[39mexternal_code \u001b[38;5;241m!=\u001b[39m \u001b[38;5;241m1107\u001b[39m,\n\u001b[1;32m     58\u001b[0m     )\n\u001b[1;32m     59\u001b[0m     \u001b[38;5;241m.\u001b[39morder_by(\n\u001b[1;32m     60\u001b[0m         db\u001b[38;5;241m.\u001b[39mmapping_hotel\u001b[38;5;241m.\u001b[39mc\u001b[38;5;241m.\u001b[39mexternal_name,\n\u001b[1;32m     61\u001b[0m         db\u001b[38;5;241m.\u001b[39mgwg_reservation\u001b[38;5;241m.\u001b[39mc\u001b[38;5;241m.\u001b[39min_date,\n\u001b[1;32m     62\u001b[0m         db\u001b[38;5;241m.\u001b[39mgwg_reservation\u001b[38;5;241m.\u001b[39mc\u001b[38;5;241m.\u001b[39mref_id,\n\u001b[1;32m     63\u001b[0m     )\n\u001b[1;32m     64\u001b[0m )\n",
      "\u001b[0;31mNameError\u001b[0m: name 'current_date' is not defined"
     ]
    }
   ],
   "source": [
    "db = Database()\n",
    "\n",
    "select_bookings = (\n",
    "    select(\n",
    "        db.users_user.c.name.label(\"purchase_manager\"),\n",
    "        db.gwg_reservation.c.status,\n",
    "        db.clients_operator.c.short_name.label(\"operator_name\"),\n",
    "        db.gwg_reservation.c.ref_id,\n",
    "        db.gwg_reservation.c.res_id,\n",
    "        db.gwg_reservation.c.operator_code,\n",
    "        db.gwg_reservation.c.bkg_ref,\n",
    "        db.mapping_hotel.c.external_name.label(\"hotel_name\"),\n",
    "        db.gwg_reservation.c.guest_name,\n",
    "        db.gwg_reservation.c.sales_date,\n",
    "        db.gwg_reservation.c.in_date,\n",
    "        db.gwg_reservation.c.out_date,\n",
    "        db.gwg_reservation.c.room_type,\n",
    "        db.gwg_reservation.c.meal,\n",
    "        db.gwg_reservation.c.adult,\n",
    "        db.gwg_reservation.c.child,\n",
    "        db.gwg_reservation.c.days,\n",
    "        db.gwg_reservation.c.purchase_price,\n",
    "        db.gwg_reservation.c.sales_price,\n",
    "        db.gwg_reservation.c.purchase_contract_id,\n",
    "        db.gwg_reservation.c.purchase_spo_id,\n",
    "        db.gwg_reservation.c.purchase_spo_code.label(\"purchase_code\"),\n",
    "        db.gwg_reservation.c.sales_contract_id,\n",
    "        db.gwg_reservation.c.sales_spo_id,\n",
    "        db.gwg_reservation.c.sales_spo_code.label(\"sales_code\"),\n",
    "        func.count()\n",
    "        .over(\n",
    "            partition_by=(\n",
    "                db.gwg_reservation.c.bkg_ref,\n",
    "                db.gwg_reservation.c.operator_code,\n",
    "            )\n",
    "        )\n",
    "        .label(\"count\"),\n",
    "    )\n",
    "    .outerjoin(\n",
    "        db.mapping_hotel,\n",
    "        db.gwg_reservation.c.hotel_id == db.mapping_hotel.c.external_code,\n",
    "    )\n",
    "    .outerjoin(\n",
    "        db.mapping_operator,\n",
    "        db.gwg_reservation.c.operator_id == db.mapping_operator.c.external_code,\n",
    "    )\n",
    "    .outerjoin(db.accommodation_hotel)\n",
    "    .outerjoin(db.accommodation_purchase_manager)\n",
    "    .outerjoin(db.users_user)\n",
    "    .outerjoin(db.definitions_area)\n",
    "    .outerjoin(db.definitions_region)\n",
    "    .outerjoin(db.clients_operator)\n",
    "    .where(\n",
    "        func.date(db.gwg_reservation.c.create_date) == current_date.date(),\n",
    "        db.gwg_reservation.c.status != \"Can\",\n",
    "        db.clients_operator.c.category == \"IC\",\n",
    "        db.mapping_operator.c.external_code != 1107,\n",
    "    )\n",
    "    .order_by(\n",
    "        db.mapping_hotel.c.external_name,\n",
    "        db.gwg_reservation.c.in_date,\n",
    "        db.gwg_reservation.c.ref_id,\n",
    "    )\n",
    ")"
   ]
  },
  {
   "cell_type": "code",
   "execution_count": 4,
   "id": "4c60be30-5e89-4c62-81bf-53121029fb1e",
   "metadata": {},
   "outputs": [],
   "source": [
    "local_tz = pytz.timezone(\"Asia/Dubai\")\n",
    "current_date = datetime.now(local_tz)\n",
    "\n",
    "operator_cost = OperatorCost()"
   ]
  },
  {
   "cell_type": "code",
   "execution_count": 5,
   "id": "347babce-90b2-4074-8df8-4ec04c662d70",
   "metadata": {},
   "outputs": [],
   "source": [
    "export = []\n",
    "\n",
    "for destination in [\"AE\", \"OM\", \"SA\"]:\n",
    "    df = pd.read_sql(\n",
    "        sql=select_bookings.where(db.definitions_region.c.country_code == destination),\n",
    "        con=db.engine.connect(),\n",
    "    )\n",
    "\n",
    "    bookings = operator_cost.set(df)\n",
    "\n",
    "    outfile = f'GWG_{destination}_RESLIST_{datetime.now().strftime(\"%Y_%m_%d\")}.xlsx'\n",
    "\n",
    "    excel_writer = ExcelWriter([bookings], outfile)\n",
    "    excel_writer.write_to_excel(number_column=[17, 18, 19], date_column=[9, 10, 11])\n",
    "    excel_writer.write_diff_column(bookings)\n",
    "    excel_writer.write_margin_column(bookings)\n",
    "    excel_writer.set_conditional_format(bookings)\n",
    "    excel_writer.writer.close()\n",
    "\n",
    "    export.append(outfile)"
   ]
  },
  {
   "cell_type": "code",
   "execution_count": 6,
   "id": "99481301-66db-4ec9-b818-0cbb91ee97f3",
   "metadata": {},
   "outputs": [],
   "source": [
    "from email_sender import EmailSender\n",
    "\n",
    "sender = EmailSender(\n",
    "    subject=f\"Yesterday's Booking Costing - Test\", to=[\"ivan.orara@meetingpointuae.com\"]\n",
    ")\n",
    "\n",
    "sender.send_email(export)"
   ]
  },
  {
   "cell_type": "code",
   "execution_count": null,
   "id": "1384f27f-f9f7-49ec-ae08-6a22c7bbcb44",
   "metadata": {},
   "outputs": [],
   "source": [
    "from datetime import datetime\n",
    "\n",
    "import numpy as np\n",
    "import pandas as pd\n",
    "import pytz\n",
    "from database import Database\n",
    "from email_sender import EmailSender\n",
    "from excel_writer import ExcelWriter\n",
    "from sqlalchemy import func, select\n",
    "from utils import OperatorCost"
   ]
  }
 ],
 "metadata": {
  "kernelspec": {
   "display_name": "Python 3 (ipykernel)",
   "language": "python",
   "name": "python3"
  },
  "language_info": {
   "codemirror_mode": {
    "name": "ipython",
    "version": 3
   },
   "file_extension": ".py",
   "mimetype": "text/x-python",
   "name": "python",
   "nbconvert_exporter": "python",
   "pygments_lexer": "ipython3",
   "version": "3.11.4"
  }
 },
 "nbformat": 4,
 "nbformat_minor": 5
}
