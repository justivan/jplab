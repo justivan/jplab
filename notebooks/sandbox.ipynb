{
 "cells": [
  {
   "cell_type": "code",
   "execution_count": 10,
   "id": "30445aff-2c61-4e77-be38-0168b448a6e0",
   "metadata": {},
   "outputs": [],
   "source": [
    "import time\n",
    "from datetime import datetime\n",
    "\n",
    "import pandas as pd\n",
    "from database import Database\n",
    "from sklearn.pipeline import Pipeline\n",
    "from sqlalchemy.dialects.postgresql import insert\n",
    "from ssrs import BookingData\n",
    "from transformers import BookingDataEncoder, BookingDataReadCsv"
   ]
  },
  {
   "cell_type": "code",
   "execution_count": 11,
   "id": "74518f39-ca68-4967-a932-94d3f8256889",
   "metadata": {},
   "outputs": [
    {
     "name": "stderr",
     "output_type": "stream",
     "text": [
      "/home/jovyan/work/database.py:34: SAWarning: Did not recognize type 'geometry' of column 'geom'\n",
      "  Table(\n"
     ]
    }
   ],
   "source": [
    "db = Database()\n",
    "\n",
    "reservation = db.gwg_reservation"
   ]
  },
  {
   "cell_type": "code",
   "execution_count": 12,
   "id": "ec712ae6-2d2c-4c5f-b425-7bbaba7531e2",
   "metadata": {},
   "outputs": [],
   "source": [
    "date_fr = \"02/02/2024\"\n",
    "date_to = \"02/03/2024\""
   ]
  },
  {
   "cell_type": "code",
   "execution_count": 13,
   "id": "ac0ae65a-30e2-41d8-b343-35179d796899",
   "metadata": {},
   "outputs": [],
   "source": [
    "pipeline = Pipeline(\n",
    "    [\n",
    "        (\"csv_reader\", BookingDataReadCsv()),\n",
    "        (\"data_encoder\", BookingDataEncoder()),\n",
    "    ]\n",
    ")"
   ]
  },
  {
   "cell_type": "code",
   "execution_count": 15,
   "id": "67442e22-cccc-48e4-b00f-76baaddd4306",
   "metadata": {
    "scrolled": true
   },
   "outputs": [],
   "source": [
    "dfs = []\n",
    "\n",
    "for destination in [\"DU\", \"OM\"]:\n",
    "    booking_data = BookingData(destination, date_fr, date_to, 3).get()\n",
    "\n",
    "    df = pipeline.fit_transform(booking_data)\n",
    "    dfs.append(df)"
   ]
  },
  {
   "cell_type": "code",
   "execution_count": 16,
   "id": "79c3d943-a4ea-4ee8-b34e-3a8685eb17ae",
   "metadata": {},
   "outputs": [],
   "source": [
    "records = pd.concat(dfs, axis=0, ignore_index=True)"
   ]
  },
  {
   "cell_type": "code",
   "execution_count": 17,
   "id": "8efb72cb-23dc-4a5e-bee4-b66123fe4d0b",
   "metadata": {},
   "outputs": [
    {
     "data": {
      "text/plain": [
       "False"
      ]
     },
     "execution_count": 17,
     "metadata": {},
     "output_type": "execute_result"
    }
   ],
   "source": [
    "records.empty"
   ]
  },
  {
   "cell_type": "code",
   "execution_count": 9,
   "id": "f0ac68be-cd21-4100-9c1b-ae7b23b8e4a6",
   "metadata": {},
   "outputs": [
    {
     "name": "stdout",
     "output_type": "stream",
     "text": [
      "empty\n"
     ]
    }
   ],
   "source": [
    "if records is not None and not records.empty:\n",
    "    chunk_size = 1000\n",
    "    for i in range(0, len(records), chunk_size):\n",
    "        chunk = records.iloc[i : i + chunk_size]\n",
    "\n",
    "        stmt = insert(reservation).values(chunk.to_dict(orient=\"records\"))\n",
    "        stmt = stmt.on_conflict_do_update(\n",
    "            constraint=\"gwg_reservation_pkey\", set_=dict(stmt.excluded)\n",
    "        )\n",
    "\n",
    "        with db.engine.begin() as connection:\n",
    "            connection.execute(stmt)\n",
    "else:\n",
    "    print(\"empty\")"
   ]
  },
  {
   "cell_type": "code",
   "execution_count": 76,
   "id": "0e02211d-d53b-4fbd-89c2-e30ec18d6cf3",
   "metadata": {},
   "outputs": [],
   "source": [
    "import io\n",
    "from datetime import date\n",
    "from ftplib import FTP\n",
    "\n",
    "import numpy as np\n",
    "import pandas as pd\n",
    "from config import Config"
   ]
  },
  {
   "cell_type": "code",
   "execution_count": 77,
   "id": "77edff29-eb91-4cb0-8786-d7d4043aed6c",
   "metadata": {},
   "outputs": [],
   "source": [
    "ftp_server = Config.FTP_SERVER\n",
    "ftp_username = Config.FTP_USERNAME\n",
    "ftp_password = Config.FTP_PASSWORD\n",
    "current_date = date.today().strftime(\"%Y_%m_%d\")"
   ]
  },
  {
   "cell_type": "code",
   "execution_count": 78,
   "id": "1cb17961-bd1f-456d-a413-000b8adf8b53",
   "metadata": {},
   "outputs": [
    {
     "data": {
      "text/plain": [
       "'250 CWD command successful.'"
      ]
     },
     "execution_count": 78,
     "metadata": {},
     "output_type": "execute_result"
    }
   ],
   "source": [
    "ftp = FTP(ftp_server)\n",
    "ftp.login(ftp_username, ftp_password)\n",
    "ftp.cwd(\"group_report/\")"
   ]
  },
  {
   "cell_type": "code",
   "execution_count": 79,
   "id": "b9776f36-8172-4511-86fd-1d00fe1b81c9",
   "metadata": {},
   "outputs": [
    {
     "data": {
      "text/plain": [
       "['OM_Marginreport_GWG_2024_02_03_080014.csv',\n",
       " 'OM_Marginreport_GWG_BLANK_2024_02_03_080014.csv',\n",
       " 'UAE_Marginreport_GWG_2024_02_03_080014.csv',\n",
       " 'UAE_Marginreport_GWG_BLANK_2024_02_03_080014.csv',\n",
       " 'YT_OM_Marginreport_GWG_2024_02_03_080325.csv',\n",
       " 'YT_UAE_Marginreport_GWG_2024_02_03_055007.csv']"
      ]
     },
     "execution_count": 79,
     "metadata": {},
     "output_type": "execute_result"
    }
   ],
   "source": [
    "csv_files = [x for x in ftp.nlst() if (\"UAE\" in x or \"OM\" in x) and current_date in x]\n",
    "csv_files"
   ]
  },
  {
   "cell_type": "code",
   "execution_count": 80,
   "id": "a6d4384b-edb5-40d7-8efc-1e18ca8a4ca0",
   "metadata": {},
   "outputs": [],
   "source": [
    "data = io.BytesIO()"
   ]
  },
  {
   "cell_type": "code",
   "execution_count": 81,
   "id": "95f885e8-f75a-4548-8f09-219048af28fd",
   "metadata": {},
   "outputs": [
    {
     "data": {
      "text/plain": [
       "0"
      ]
     },
     "execution_count": 81,
     "metadata": {},
     "output_type": "execute_result"
    }
   ],
   "source": [
    "data.seek(0)"
   ]
  },
  {
   "cell_type": "code",
   "execution_count": 82,
   "id": "9d5e74c9-bdb8-4fed-bff5-7100789e2833",
   "metadata": {},
   "outputs": [
    {
     "data": {
      "text/plain": [
       "'226 Transfer complete.'"
      ]
     },
     "execution_count": 82,
     "metadata": {},
     "output_type": "execute_result"
    }
   ],
   "source": [
    "ftp.retrbinary(\"RETR \" + \"UAE_Marginreport_GWG_BLANK_2024_02_03_080014.csv\", data.write)"
   ]
  },
  {
   "cell_type": "code",
   "execution_count": 83,
   "id": "3b7f9f29-9376-4698-805b-e76caeb44dcd",
   "metadata": {},
   "outputs": [
    {
     "data": {
      "text/plain": [
       "0"
      ]
     },
     "execution_count": 83,
     "metadata": {},
     "output_type": "execute_result"
    }
   ],
   "source": [
    "data.seek(0)"
   ]
  },
  {
   "cell_type": "code",
   "execution_count": 84,
   "id": "9537f903-e7f2-4f6f-92be-c9ad48558390",
   "metadata": {},
   "outputs": [],
   "source": [
    "df = pd.read_csv(\n",
    "    data,\n",
    "    sep=\";\",\n",
    "    usecols=[0, 1, 5],\n",
    "    header=None,\n",
    "    names=[\"bkg_ref\", \"operator_code\", \"operator_price\"],\n",
    "    thousands=\",\",\n",
    "    dtype={\n",
    "        \"bkg_ref\": str,\n",
    "        \"operator_code\": str,\n",
    "        \"operator_price\": float,\n",
    "    },\n",
    ")"
   ]
  },
  {
   "cell_type": "code",
   "execution_count": 85,
   "id": "fefff6de-8605-44e9-bd6e-d4ebe93d1ae5",
   "metadata": {},
   "outputs": [],
   "source": [
    "df = (\n",
    "    df.groupby([\"bkg_ref\", \"operator_code\"])[\"operator_price\"]\n",
    "    .sum()\n",
    "    .reset_index(name=\"operator_price\")\n",
    ")"
   ]
  },
  {
   "cell_type": "code",
   "execution_count": 86,
   "id": "19067458-672f-4b92-995b-47f21db9b715",
   "metadata": {},
   "outputs": [
    {
     "data": {
      "text/plain": [
       "(3006, 3)"
      ]
     },
     "execution_count": 86,
     "metadata": {},
     "output_type": "execute_result"
    }
   ],
   "source": [
    "df.shape"
   ]
  },
  {
   "cell_type": "code",
   "execution_count": 87,
   "id": "cbfa1d3e-346f-49e4-b6a8-9e750ef35699",
   "metadata": {},
   "outputs": [],
   "source": [
    "df.to_csv(\"raw_cost.csv\", index=False)"
   ]
  },
  {
   "cell_type": "code",
   "execution_count": null,
   "id": "5b812408-ee66-4f53-b538-293a97902ab2",
   "metadata": {},
   "outputs": [],
   "source": []
  }
 ],
 "metadata": {
  "kernelspec": {
   "display_name": "Python 3 (ipykernel)",
   "language": "python",
   "name": "python3"
  },
  "language_info": {
   "codemirror_mode": {
    "name": "ipython",
    "version": 3
   },
   "file_extension": ".py",
   "mimetype": "text/x-python",
   "name": "python",
   "nbconvert_exporter": "python",
   "pygments_lexer": "ipython3",
   "version": "3.11.4"
  }
 },
 "nbformat": 4,
 "nbformat_minor": 5
}
