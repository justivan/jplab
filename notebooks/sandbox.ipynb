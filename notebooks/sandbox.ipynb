{
 "cells": [
  {
   "cell_type": "code",
   "execution_count": 5,
   "id": "30445aff-2c61-4e77-be38-0168b448a6e0",
   "metadata": {},
   "outputs": [],
   "source": [
    "import time\n",
    "from datetime import datetime\n",
    "\n",
    "import pandas as pd\n",
    "from database import Database\n",
    "from sklearn.pipeline import Pipeline\n",
    "from sqlalchemy.dialects.postgresql import insert\n",
    "from ssrs import BookingData\n",
    "from transformers import BookingDataEncoder, BookingDataReadCsv"
   ]
  },
  {
   "cell_type": "code",
   "execution_count": 6,
   "id": "74518f39-ca68-4967-a932-94d3f8256889",
   "metadata": {},
   "outputs": [
    {
     "name": "stderr",
     "output_type": "stream",
     "text": [
      "/home/jovyan/work/database.py:34: SAWarning: Did not recognize type 'geometry' of column 'geom'\n",
      "  Table(\n"
     ]
    }
   ],
   "source": [
    "db = Database()\n",
    "\n",
    "reservation = db.gwg_reservation"
   ]
  },
  {
   "cell_type": "code",
   "execution_count": 3,
   "id": "ec712ae6-2d2c-4c5f-b425-7bbaba7531e2",
   "metadata": {},
   "outputs": [],
   "source": [
    "date_fr = \"01/01/2022\"\n",
    "date_to = \"02/03/2026\""
   ]
  },
  {
   "cell_type": "code",
   "execution_count": 4,
   "id": "ac0ae65a-30e2-41d8-b343-35179d796899",
   "metadata": {},
   "outputs": [],
   "source": [
    "pipeline = Pipeline(\n",
    "    [\n",
    "        (\"csv_reader\", BookingDataReadCsv()),\n",
    "        (\"data_encoder\", BookingDataEncoder()),\n",
    "    ]\n",
    ")"
   ]
  },
  {
   "cell_type": "code",
   "execution_count": 5,
   "id": "67442e22-cccc-48e4-b00f-76baaddd4306",
   "metadata": {
    "scrolled": true
   },
   "outputs": [],
   "source": [
    "dfs = []\n",
    "\n",
    "for destination in [\"DU\", \"OM\"]:\n",
    "    booking_data = BookingData(destination, date_fr, date_to, 2).get()\n",
    "\n",
    "    df = pipeline.fit_transform(booking_data)\n",
    "    dfs.append(df)"
   ]
  },
  {
   "cell_type": "code",
   "execution_count": 6,
   "id": "79c3d943-a4ea-4ee8-b34e-3a8685eb17ae",
   "metadata": {},
   "outputs": [],
   "source": [
    "records = pd.concat(dfs, axis=0, ignore_index=True)"
   ]
  },
  {
   "cell_type": "code",
   "execution_count": 7,
   "id": "8efb72cb-23dc-4a5e-bee4-b66123fe4d0b",
   "metadata": {},
   "outputs": [
    {
     "data": {
      "text/plain": [
       "False"
      ]
     },
     "execution_count": 7,
     "metadata": {},
     "output_type": "execute_result"
    }
   ],
   "source": [
    "records.empty"
   ]
  },
  {
   "cell_type": "code",
   "execution_count": 8,
   "id": "f0ac68be-cd21-4100-9c1b-ae7b23b8e4a6",
   "metadata": {},
   "outputs": [],
   "source": [
    "if records is not None and not records.empty:\n",
    "    chunk_size = 1000\n",
    "    for i in range(0, len(records), chunk_size):\n",
    "        chunk = records.iloc[i : i + chunk_size]\n",
    "\n",
    "        stmt = insert(reservation).values(chunk.to_dict(orient=\"records\"))\n",
    "        stmt = stmt.on_conflict_do_update(\n",
    "            constraint=\"gwg_reservation_pkey\", set_=dict(stmt.excluded)\n",
    "        )\n",
    "\n",
    "        with db.engine.begin() as connection:\n",
    "            connection.execute(stmt)\n",
    "else:\n",
    "    print(\"empty\")"
   ]
  },
  {
   "cell_type": "code",
   "execution_count": 9,
   "id": "7677d8da-2fcc-496c-a128-eb7cc6e7398f",
   "metadata": {},
   "outputs": [
    {
     "data": {
      "text/plain": [
       "(337792, 36)"
      ]
     },
     "execution_count": 9,
     "metadata": {},
     "output_type": "execute_result"
    }
   ],
   "source": [
    "records.shape"
   ]
  },
  {
   "cell_type": "code",
   "execution_count": 7,
   "id": "5b812408-ee66-4f53-b538-293a97902ab2",
   "metadata": {},
   "outputs": [],
   "source": [
    "stmt = (\n",
    "    select(\n",
    "        db.gwg_reservation.c.status,\n",
    "        db.clients_operator.c.short_name.label(\"operator_name\"),\n",
    "        db.gwg_reservation.c.ref_id,\n",
    "    )\n",
    "    .outerjoin(\n",
    "        db.mapping_operator,\n",
    "        db.gwg_reservation.c.operator_id == db.mapping_operator.c.external_code,\n",
    "    )\n",
    "    .outerjoin(db.clients_operator)\n",
    "    .where(\n",
    "        db.clients_operator.c.category == \"IC\",\n",
    "        db.mapping_operator.c.external_code != 1107,\n",
    "    )\n",
    ")"
   ]
  },
  {
   "cell_type": "code",
   "execution_count": 3,
   "id": "c0947f34-1ebe-4db9-9a23-37bb09284c30",
   "metadata": {},
   "outputs": [],
   "source": [
    "from sqlalchemy import select"
   ]
  },
  {
   "cell_type": "code",
   "execution_count": 8,
   "id": "f0c8a146-12f1-4050-b8b8-fb2a6cca3eae",
   "metadata": {},
   "outputs": [
    {
     "name": "stdout",
     "output_type": "stream",
     "text": [
      "SELECT gwg_reservation.status, clients_operator.short_name AS operator_name, gwg_reservation.ref_id \n",
      "FROM gwg_reservation LEFT OUTER JOIN mapping_operator ON gwg_reservation.operator_id = mapping_operator.external_code LEFT OUTER JOIN clients_operator ON clients_operator.id = mapping_operator.operator_id \n",
      "WHERE clients_operator.category = :category_1 AND mapping_operator.external_code != :external_code_1\n"
     ]
    }
   ],
   "source": [
    "print(stmt)"
   ]
  },
  {
   "cell_type": "code",
   "execution_count": null,
   "id": "ab9079cc-9172-4825-b9e4-175d823e0688",
   "metadata": {},
   "outputs": [],
   "source": []
  }
 ],
 "metadata": {
  "kernelspec": {
   "display_name": "Python 3 (ipykernel)",
   "language": "python",
   "name": "python3"
  },
  "language_info": {
   "codemirror_mode": {
    "name": "ipython",
    "version": 3
   },
   "file_extension": ".py",
   "mimetype": "text/x-python",
   "name": "python",
   "nbconvert_exporter": "python",
   "pygments_lexer": "ipython3",
   "version": "3.11.4"
  }
 },
 "nbformat": 4,
 "nbformat_minor": 5
}
