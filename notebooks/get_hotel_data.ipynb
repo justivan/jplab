{
 "cells": [
  {
   "cell_type": "code",
   "execution_count": 1,
   "id": "2dc2b1d2-d001-48aa-8875-b5ba6d970dff",
   "metadata": {},
   "outputs": [],
   "source": [
    "import io\n",
    "import logging\n",
    "import urllib\n",
    "\n",
    "import numpy as np\n",
    "import pandas as pd\n",
    "import requests\n",
    "from config import Config\n",
    "from requests_ntlm import HttpNtlmAuth\n",
    "from sklearn.base import BaseEstimator, TransformerMixin"
   ]
  },
  {
   "cell_type": "code",
   "execution_count": 2,
   "id": "3ba63f9b-128e-4658-9714-39b4e911a821",
   "metadata": {},
   "outputs": [],
   "source": [
    "class HotelData:\n",
    "    def __init__(self, destination):\n",
    "        self.ssrs_url = (\n",
    "            Config.SSRS_BASE_URL + destination + \" Reports/Main Data/HotelList\"\n",
    "        )\n",
    "        self.ssrs_usr = Config.SSRS_USERNAME\n",
    "        self.ssrs_pwd = Config.SSRS_PASSWORD\n",
    "        self.payload = [\n",
    "            (\"Active\", True),\n",
    "            (\"rs:Command\", \"Render\"),\n",
    "            (\"rs:Format\", \"CSV\"),\n",
    "            (\"rc:ItemPath\", \"table1\"),\n",
    "        ]\n",
    "\n",
    "        self.params = urllib.parse.urlencode(self.payload, quote_via=urllib.parse.quote)\n",
    "\n",
    "    def get(self):\n",
    "        response = requests.get(\n",
    "            self.ssrs_url,\n",
    "            params=self.params,\n",
    "            stream=True,\n",
    "            auth=HttpNtlmAuth(self.ssrs_usr, self.ssrs_pwd),\n",
    "        )\n",
    "\n",
    "        if response.status_code == 200:\n",
    "            data = response.content.decode(\"utf8\")\n",
    "            return data\n",
    "        return None"
   ]
  },
  {
   "cell_type": "code",
   "execution_count": 3,
   "id": "f1246f59-26cb-447c-8a91-867c1886736b",
   "metadata": {},
   "outputs": [],
   "source": [
    "class HotelDataReadCsv(BaseEstimator, TransformerMixin):\n",
    "    def __init__(self):\n",
    "        pass\n",
    "\n",
    "    def fit(self, X, y=None):\n",
    "        return self\n",
    "\n",
    "    def transform(self, X):\n",
    "        if X is not None:\n",
    "            return pd.read_csv(\n",
    "                io.StringIO(X),\n",
    "                usecols=[\n",
    "                    \"HotelID\",\n",
    "                    \"HotelName\",\n",
    "                    \"Country\",\n",
    "                    \"State\",\n",
    "                    \"City\",\n",
    "                    \"HotelTypeID\",\n",
    "                    \"Longitude\",\n",
    "                    \"Latitude\",\n",
    "                    \"Giata\",\n",
    "                    \"SaleMail\",\n",
    "                    \"CreateDate\",\n",
    "                    \"LastChangeDate\",\n",
    "                    \"IsActive\",\n",
    "                ],\n",
    "                dtype={\n",
    "                    \"HotelID\": int,\n",
    "                    \"HotelName\": str,\n",
    "                    \"Country\": str,\n",
    "                    \"State\": str,\n",
    "                    \"City\": str,\n",
    "                    \"HotelTypeID\": str,\n",
    "                    \"Longitude\": float,\n",
    "                    \"Latitude\": float,\n",
    "                    \"Giata\": pd.Int64Dtype(),\n",
    "                    \"SaleMail\": str,\n",
    "                    \"IsActive\": str,\n",
    "                },\n",
    "                parse_dates=[\n",
    "                    \"CreateDate\",\n",
    "                    \"LastChangeDate\",\n",
    "                ],\n",
    "                date_format=\"%d-%b-%y\",\n",
    "            )\n",
    "\n",
    "\n",
    "class HotelDataEncoder(BaseEstimator, TransformerMixin):\n",
    "    def __init__(self):\n",
    "        self.exclude = [\n",
    "            1,  # NO ACCOMMODATION\n",
    "            2,  # FLIGHT ONLY PAX\n",
    "            3,  # TOUR ONLY PAX\n",
    "            4,  # Transfer Only Pax\n",
    "            5,  # SPLIT BOOKINGS\n",
    "            5000,  # TEST\n",
    "            5005,  # TEST HOTEL\n",
    "            90001,  # HOTEL SHOP RESERVATIONS\n",
    "            191680,  # ROULETTE OFFER\n",
    "            202356,  # TEST HOTEL\n",
    "            203441,  # ROULETTE HOTEL RAK\n",
    "            209384,  # TEST HOTEL - BUGFIX - DO NOT ACCESS\n",
    "            100,  # HOTEL SHOP RESERVATIONS\n",
    "            90018,  # HOTEL SHOP RESERVATIONS\n",
    "            209385,  # TEST HOTEL - BUGFIX - DO NOT ACCESS\n",
    "            217636,  # TEST HOTEL\n",
    "            218648,  # CRUISE\n",
    "            218736,  # TEST HOTEL\n",
    "            219137,  # PP_NOACCOM\n",
    "            219138,  # PP_NOACCOM\n",
    "        ]\n",
    "\n",
    "    def fit(self, X, y=None):\n",
    "        return self\n",
    "\n",
    "    def transform(self, X):\n",
    "        if X is not None:\n",
    "            X.drop(X[X[\"HotelID\"].isin(self.exclude)].index, inplace=True)\n",
    "            X.rename(columns={\"HotelName\": \"HotelName_GWG\"}, inplace=True)\n",
    "            X[\"HotelName_GWG\"] = X[\"HotelName_GWG\"].str.split().str.join(\" \")\n",
    "            X[\"HotelName\"] = X[\"HotelName_GWG\"].str.split(\"(\").str[0]\n",
    "            X[\"HotelName\"] = X[\"HotelName\"].str.replace(\"-\", \" \", regex=False)\n",
    "            X[\"HotelName\"] = X[\"HotelName\"].str.replace(\"+\", \" \", regex=False)\n",
    "            X[\"HotelName\"] = X[\"HotelName\"].str.replace(\" AND \", \" & \", regex=False)\n",
    "            X[\"HotelName\"] = X[\"HotelName\"].str.split().str.join(\" \")\n",
    "            X[\"SaleMail\"] = X[\"SaleMail\"].fillna(\"undefined\").str.lower()\n",
    "            X.sort_values([\"Country\", \"HotelName\"], inplace=True)\n",
    "\n",
    "            return X\n",
    "        return None"
   ]
  },
  {
   "cell_type": "code",
   "execution_count": 4,
   "id": "6bf4c506-c38f-4da8-9ffc-b6c9e8cab247",
   "metadata": {},
   "outputs": [],
   "source": [
    "from sklearn.pipeline import Pipeline"
   ]
  },
  {
   "cell_type": "code",
   "execution_count": 5,
   "id": "d5c72522-b87b-486f-9205-842f3cc4a57a",
   "metadata": {},
   "outputs": [],
   "source": [
    "pipeline = Pipeline(\n",
    "    [\n",
    "        (\"csv_reader\", HotelDataReadCsv()),\n",
    "        (\"data_encoder\", HotelDataEncoder()),\n",
    "    ]\n",
    ")"
   ]
  },
  {
   "cell_type": "code",
   "execution_count": 6,
   "id": "ee7e2b74-1d92-4d83-8608-204080868ead",
   "metadata": {},
   "outputs": [],
   "source": [
    "dfs = []\n",
    "\n",
    "for destination in [\"DU\", \"OM\"]:\n",
    "    data = HotelData(destination).get()\n",
    "    df = pipeline.fit_transform(data)\n",
    "\n",
    "    if destination == \"DU\":\n",
    "        df = df[df[\"Country\"].isin([\"AE\", \"SA\"])]\n",
    "\n",
    "    dfs.append(df)"
   ]
  },
  {
   "cell_type": "code",
   "execution_count": 7,
   "id": "de3a5d55-5be0-4021-bc2f-2ad17b052228",
   "metadata": {},
   "outputs": [],
   "source": [
    "hotel_list = pd.concat(dfs, axis=0, ignore_index=True)"
   ]
  },
  {
   "cell_type": "code",
   "execution_count": 8,
   "id": "672e44ae-c457-42e4-9eb0-530cbfaf169e",
   "metadata": {},
   "outputs": [
    {
     "name": "stderr",
     "output_type": "stream",
     "text": [
      "/home/jovyan/work/database.py:34: SAWarning: Did not recognize type 'geometry' of column 'geom'\n",
      "  Table(\n"
     ]
    }
   ],
   "source": [
    "from database import Database, select\n",
    "\n",
    "db = Database()\n",
    "\n",
    "hotel_mapping = pd.read_sql(\n",
    "    sql=select(\n",
    "        db.mapping_hotel.c.external_code,\n",
    "        db.mapping_hotel.c.external_name,\n",
    "        db.mapping_hotel.c.hotel_id,\n",
    "    ),\n",
    "    con=db.engine.connect(),\n",
    ")"
   ]
  },
  {
   "cell_type": "code",
   "execution_count": 9,
   "id": "83bcbb8f-3c9c-491b-b612-2461be782e87",
   "metadata": {},
   "outputs": [],
   "source": [
    "merged_list = hotel_list.merge(\n",
    "    hotel_mapping, how=\"left\", left_on=\"HotelID\", right_on=\"external_code\"\n",
    ")"
   ]
  },
  {
   "cell_type": "code",
   "execution_count": 10,
   "id": "8059c8eb-344a-42da-8097-18c5c1ef8b4a",
   "metadata": {},
   "outputs": [],
   "source": [
    "merged_list[\"Comparison\"] = merged_list[\"HotelName_GWG\"] == merged_list[\"external_name\"]"
   ]
  },
  {
   "cell_type": "code",
   "execution_count": 11,
   "id": "8015f106-1565-4faa-9405-b981b8ea7d6f",
   "metadata": {},
   "outputs": [],
   "source": [
    "merged_list.to_csv(\"merged_list.csv\", index=False)"
   ]
  },
  {
   "cell_type": "code",
   "execution_count": null,
   "id": "87d10c15-35d3-4467-aa34-9b4dee0390c9",
   "metadata": {},
   "outputs": [],
   "source": []
  },
  {
   "cell_type": "code",
   "execution_count": null,
   "id": "fee7d499-310c-4144-98da-171330e54c76",
   "metadata": {},
   "outputs": [],
   "source": []
  }
 ],
 "metadata": {
  "kernelspec": {
   "display_name": "Python 3 (ipykernel)",
   "language": "python",
   "name": "python3"
  },
  "language_info": {
   "codemirror_mode": {
    "name": "ipython",
    "version": 3
   },
   "file_extension": ".py",
   "mimetype": "text/x-python",
   "name": "python",
   "nbconvert_exporter": "python",
   "pygments_lexer": "ipython3",
   "version": "3.11.4"
  }
 },
 "nbformat": 4,
 "nbformat_minor": 5
}
