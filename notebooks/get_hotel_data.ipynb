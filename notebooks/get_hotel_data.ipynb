{
 "cells": [
  {
   "cell_type": "code",
   "execution_count": 1,
   "id": "2dc2b1d2-d001-48aa-8875-b5ba6d970dff",
   "metadata": {},
   "outputs": [],
   "source": [
    "import pandas as pd\n",
    "from database import Database\n",
    "from sklearn.pipeline import Pipeline\n",
    "from sqlalchemy import select\n",
    "from transformers import HotelDataReadCsv, HotelDataEncoder\n",
    "from ssrs import HotelData"
   ]
  },
  {
   "cell_type": "code",
   "execution_count": 2,
   "id": "ca623f5a-dd37-4313-b2df-89870680f9c2",
   "metadata": {},
   "outputs": [
    {
     "name": "stderr",
     "output_type": "stream",
     "text": [
      "/home/jovyan/work/database.py:34: SAWarning: Did not recognize type 'geometry' of column 'geom'\n",
      "  Table(\n"
     ]
    }
   ],
   "source": [
    "db = Database()\n",
    "\n",
    "hotel_mapping = pd.read_sql(\n",
    "    sql=select(\n",
    "        db.mapping_hotel.c.external_code,\n",
    "        db.mapping_hotel.c.external_name,\n",
    "        db.mapping_hotel.c.hotel_id,\n",
    "    ),\n",
    "    con=db.engine.connect(),\n",
    ")"
   ]
  },
  {
   "cell_type": "code",
   "execution_count": 3,
   "id": "d5c72522-b87b-486f-9205-842f3cc4a57a",
   "metadata": {},
   "outputs": [],
   "source": [
    "pipeline = Pipeline(\n",
    "    [\n",
    "        (\"csv_reader\", HotelDataReadCsv()),\n",
    "        (\"data_encoder\", HotelDataEncoder()),\n",
    "    ]\n",
    ")"
   ]
  },
  {
   "cell_type": "code",
   "execution_count": 4,
   "id": "ee7e2b74-1d92-4d83-8608-204080868ead",
   "metadata": {},
   "outputs": [],
   "source": [
    "dfs = []\n",
    "\n",
    "for destination in [\"DU\", \"OM\"]:\n",
    "    data = HotelData(destination).get()\n",
    "    df = pipeline.fit_transform(data)\n",
    "\n",
    "    if destination == \"DU\":\n",
    "        df = df[df[\"Country\"].isin([\"AE\", \"SA\"])]\n",
    "\n",
    "    dfs.append(df)\n",
    "\n",
    "hotel_list = pd.concat(dfs, axis=0, ignore_index=True)"
   ]
  },
  {
   "cell_type": "code",
   "execution_count": 5,
   "id": "83bcbb8f-3c9c-491b-b612-2461be782e87",
   "metadata": {},
   "outputs": [],
   "source": [
    "merged_list = hotel_list.merge(\n",
    "    hotel_mapping, how=\"left\", left_on=\"HotelID\", right_on=\"external_code\"\n",
    ")\n",
    "merged_list[\"Comparison\"] = merged_list[\"HotelName_GWG\"] == merged_list[\"external_name\"]"
   ]
  },
  {
   "cell_type": "code",
   "execution_count": 6,
   "id": "8059c8eb-344a-42da-8097-18c5c1ef8b4a",
   "metadata": {},
   "outputs": [],
   "source": [
    "merged_list.to_csv(\"hotel_list.csv\", index=False)"
   ]
  }
 ],
 "metadata": {
  "kernelspec": {
   "display_name": "Python 3 (ipykernel)",
   "language": "python",
   "name": "python3"
  },
  "language_info": {
   "codemirror_mode": {
    "name": "ipython",
    "version": 3
   },
   "file_extension": ".py",
   "mimetype": "text/x-python",
   "name": "python",
   "nbconvert_exporter": "python",
   "pygments_lexer": "ipython3",
   "version": "3.11.4"
  }
 },
 "nbformat": 4,
 "nbformat_minor": 5
}
