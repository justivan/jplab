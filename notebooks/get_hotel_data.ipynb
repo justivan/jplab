{
 "cells": [
  {
   "cell_type": "code",
   "execution_count": 1,
   "id": "2dc2b1d2-d001-48aa-8875-b5ba6d970dff",
   "metadata": {},
   "outputs": [],
   "source": [
    "import pandas as pd\n",
    "from database import Database\n",
    "from email_sender import EmailSender\n",
    "from excel_writer import ExcelWriter\n",
    "from sklearn.pipeline import Pipeline\n",
    "from sqlalchemy import select\n",
    "from ssrs import HotelData\n",
    "from transformers import HotelDataEncoder, HotelDataReadCsv"
   ]
  },
  {
   "cell_type": "code",
   "execution_count": 2,
   "id": "ca623f5a-dd37-4313-b2df-89870680f9c2",
   "metadata": {},
   "outputs": [
    {
     "name": "stderr",
     "output_type": "stream",
     "text": [
      "/home/jovyan/work/database.py:34: SAWarning: Did not recognize type 'geometry' of column 'geom'\n",
      "  Table(\n"
     ]
    }
   ],
   "source": [
    "db = Database()\n",
    "\n",
    "hotel_mapping = pd.read_sql(\n",
    "    sql=select(\n",
    "        db.mapping_hotel.c.external_code,\n",
    "        db.mapping_hotel.c.external_name,\n",
    "        db.mapping_hotel.c.hotel_id,\n",
    "    ),\n",
    "    con=db.engine.connect(),\n",
    ")"
   ]
  },
  {
   "cell_type": "code",
   "execution_count": 3,
   "id": "d5c72522-b87b-486f-9205-842f3cc4a57a",
   "metadata": {},
   "outputs": [],
   "source": [
    "pipeline = Pipeline(\n",
    "    [\n",
    "        (\"csv_reader\", HotelDataReadCsv()),\n",
    "        (\"data_encoder\", HotelDataEncoder()),\n",
    "    ]\n",
    ")"
   ]
  },
  {
   "cell_type": "code",
   "execution_count": 4,
   "id": "ee7e2b74-1d92-4d83-8608-204080868ead",
   "metadata": {},
   "outputs": [],
   "source": [
    "dfs = []\n",
    "\n",
    "for destination in [\"DU\", \"OM\"]:\n",
    "    data = HotelData(destination).get()\n",
    "    df = pipeline.fit_transform(data)\n",
    "\n",
    "    if destination == \"DU\":\n",
    "        df = df[df[\"Country\"].isin([\"AE\", \"SA\"])]\n",
    "\n",
    "    dfs.append(df)\n",
    "\n",
    "hotel_list = pd.concat(dfs, axis=0, ignore_index=True)"
   ]
  },
  {
   "cell_type": "code",
   "execution_count": 5,
   "id": "83bcbb8f-3c9c-491b-b612-2461be782e87",
   "metadata": {},
   "outputs": [],
   "source": [
    "hotel_list = hotel_list.merge(\n",
    "    hotel_mapping,\n",
    "    how=\"left\",\n",
    "    left_on=\"HotelID\",\n",
    "    right_on=\"external_code\",\n",
    ")"
   ]
  },
  {
   "cell_type": "code",
   "execution_count": 6,
   "id": "8059c8eb-344a-42da-8097-18c5c1ef8b4a",
   "metadata": {},
   "outputs": [],
   "source": [
    "filtered_rows = hotel_list[hotel_list[\"HotelName_GWG\"] != hotel_list[\"external_name\"]]"
   ]
  },
  {
   "cell_type": "code",
   "execution_count": 7,
   "id": "555350ae-145c-42d5-97cd-dfb8173bf47d",
   "metadata": {},
   "outputs": [
    {
     "name": "stdout",
     "output_type": "stream",
     "text": [
      "No action required.\n"
     ]
    }
   ],
   "source": [
    "if not filtered_rows.empty:\n",
    "    filtered_rows.name = \"hotel_list\"\n",
    "\n",
    "    excel_writer = ExcelWriter([filtered_rows], \"hotel_list.xlsx\")\n",
    "    excel_writer.write_to_excel()\n",
    "    excel_writer.writer.close()\n",
    "\n",
    "    sender = EmailSender(\n",
    "        subject=\"Hotel Table Discrepancies: Action Required\",\n",
    "        to=[\n",
    "            \"ivan.orara@meetingpointuae.com\",\n",
    "            #\"analyst-contracting@meetingpointuae.com\",\n",
    "        ],\n",
    "    )\n",
    "\n",
    "    sender.send_email(\n",
    "        [\"hotel_list.xlsx\"],\n",
    "        \"\"\"\n",
    "            <p>This is an automated report.</p>\n",
    "            <p>Please do not reply.</p>\n",
    "        \"\"\",\n",
    "    )\n",
    "else:\n",
    "    print(\"No action required.\")"
   ]
  },
  {
   "cell_type": "code",
   "execution_count": 8,
   "id": "f44698d0-4f72-4298-a998-4f2278f76eb1",
   "metadata": {},
   "outputs": [],
   "source": [
    "hotel_list.to_csv(\"hotels.csv\", index=False)"
   ]
  }
 ],
 "metadata": {
  "kernelspec": {
   "display_name": "Python 3 (ipykernel)",
   "language": "python",
   "name": "python3"
  },
  "language_info": {
   "codemirror_mode": {
    "name": "ipython",
    "version": 3
   },
   "file_extension": ".py",
   "mimetype": "text/x-python",
   "name": "python",
   "nbconvert_exporter": "python",
   "pygments_lexer": "ipython3",
   "version": "3.11.4"
  }
 },
 "nbformat": 4,
 "nbformat_minor": 5
}
